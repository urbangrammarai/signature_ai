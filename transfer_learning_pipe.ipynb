{
 "cells": [
  {
   "cell_type": "code",
   "execution_count": 1,
   "id": "2be46566",
   "metadata": {},
   "outputs": [],
   "source": [
    "import numpy\n",
    "import tensorflow as tf\n",
    "\n",
    "from model_builder import model_builder, relabel, class_merger, balancer\n",
    "\n",
    "import model_builder\n",
    "import tools_keras\n",
    "\n",
    "from itertools import product"
   ]
  },
  {
   "cell_type": "markdown",
   "id": "42a4c197",
   "metadata": {},
   "source": [
    "Load chips"
   ]
  },
  {
   "cell_type": "code",
   "execution_count": 2,
   "id": "6086f76a",
   "metadata": {},
   "outputs": [],
   "source": [
    "specs = {\n",
    "    'tensor': (\n",
    "        '../urbangrammar_samba/'\n",
    "        'spatial_signatures/chips/sample.npz'\n",
    "    ),\n",
    "    'folder': \"../urbangrammar_samba/spatial_signatures/ai/nw/\",\n",
    "}"
   ]
  },
  {
   "cell_type": "code",
   "execution_count": 3,
   "id": "7f4df419",
   "metadata": {},
   "outputs": [],
   "source": [
    "data = numpy.load(specs[\"tensor\"], allow_pickle=True)"
   ]
  },
  {
   "cell_type": "code",
   "execution_count": 4,
   "id": "9869ee18",
   "metadata": {},
   "outputs": [],
   "source": [
    "chips = data[\"chips\"]\n",
    "labels = data[\"labels\"]"
   ]
  },
  {
   "cell_type": "markdown",
   "id": "f273eb74",
   "metadata": {},
   "source": [
    "Shuffle data to ensure full randomness before splitting to test, validation and secret."
   ]
  },
  {
   "cell_type": "code",
   "execution_count": 11,
   "id": "ee44a0c9",
   "metadata": {},
   "outputs": [],
   "source": [
    "numpy.random.seed(0)\n",
    "\n",
    "shuffled_idx = numpy.arange(0, chips.shape[0])\n",
    "numpy.random.shuffle(shuffled_idx)\n",
    "\n",
    "chips = chips[shuffled_idx]\n",
    "labels = labels[shuffled_idx]"
   ]
  },
  {
   "cell_type": "markdown",
   "id": "9f8ec473",
   "metadata": {},
   "source": [
    "Merge groups"
   ]
  },
  {
   "cell_type": "code",
   "execution_count": 6,
   "id": "86e2d171",
   "metadata": {},
   "outputs": [],
   "source": [
    "group_mapping = [\n",
    "    ['9_0', '9_1', '9_2', '9_4', '9_5', '2_0', '2_1', '2_2'],\n",
    "    ['1_0', '3_0', '5_0', '6_0', '8_0'],\n",
    "    ['0_0', '4_0', '7_0']\n",
    "]\n",
    "labels = class_merger(labels, group_mapping)\n",
    "\n",
    "# If you don't want to merge groups, use `relabel` to ensure your labels are in the proper format\n",
    "# labels = relabel(labels)"
   ]
  },
  {
   "cell_type": "markdown",
   "id": "b34b945b",
   "metadata": {},
   "source": [
    "Drop chips from excessive classes"
   ]
  },
  {
   "cell_type": "code",
   "execution_count": 7,
   "id": "c38926ea",
   "metadata": {},
   "outputs": [
    {
     "name": "stdout",
     "output_type": "stream",
     "text": [
      "Total number of selected chips: 18841 out of 65042\n",
      "Counts:\n",
      " {0: 907, 1: 8864, 2: 9070}\n"
     ]
    }
   ],
   "source": [
    "mask = balancer(labels, max_ratio=10)"
   ]
  },
  {
   "cell_type": "code",
   "execution_count": 8,
   "id": "76ea9b3f",
   "metadata": {},
   "outputs": [],
   "source": [
    "labels = labels[mask]\n",
    "chips = chips[mask]"
   ]
  },
  {
   "cell_type": "markdown",
   "id": "5def1476",
   "metadata": {},
   "source": [
    "Rescale"
   ]
  },
  {
   "cell_type": "code",
   "execution_count": 9,
   "id": "55615063",
   "metadata": {},
   "outputs": [],
   "source": [
    "chips = chips / (chips.max() / 255.0)"
   ]
  },
  {
   "cell_type": "markdown",
   "id": "e1b67f98",
   "metadata": {},
   "source": [
    "Split data into train and validation."
   ]
  },
  {
   "cell_type": "code",
   "execution_count": 12,
   "id": "2c635ac9",
   "metadata": {},
   "outputs": [
    {
     "name": "stderr",
     "output_type": "stream",
     "text": [
      "2021-12-13 15:20:17.535031: I tensorflow/core/common_runtime/gpu/gpu_device.cc:1510] Created device /job:localhost/replica:0/task:0/device:GPU:0 with 6684 MB memory:  -> device: 0, name: Quadro RTX 4000, pci bus id: 0000:21:00.0, compute capability: 7.5\n"
     ]
    }
   ],
   "source": [
    "batch_size = 32\n",
    "split_1 = int(chips.shape[0] * 0.6)\n",
    "split_2 = int(chips.shape[0] * 0.8)\n",
    "\n",
    "\n",
    "# assert that all labels are present in train and validation datasets\n",
    "assert (numpy.unique(labels[:split_1]) == numpy.unique(labels[split_1:split_2])).all()\n",
    "assert (numpy.unique(labels[:split_1]) == numpy.unique(labels[split_2:])).all()\n",
    "\n",
    "\n",
    "train_dataset = tf.data.Dataset.from_tensor_slices((chips[:split_1], labels[:split_1]))\n",
    "validation_dataset = tf.data.Dataset.from_tensor_slices((chips[split_1:split_2], labels[split_1:split_2]))\n",
    "secret_dataset = tf.data.Dataset.from_tensor_slices((chips[split_2:], labels[split_2:]))\n",
    "\n",
    "\n",
    "train_dataset = train_dataset.batch(batch_size=batch_size)\n",
    "validation_dataset = validation_dataset.batch(batch_size=batch_size)\n",
    "secret_dataset = secret_dataset.batch(batch_size=batch_size)"
   ]
  },
  {
   "cell_type": "markdown",
   "id": "5dfff62e",
   "metadata": {},
   "source": [
    "Create model and fit in a loop over options."
   ]
  },
  {
   "cell_type": "code",
   "execution_count": null,
   "id": "ba6c03f7",
   "metadata": {},
   "outputs": [
    {
     "name": "stderr",
     "output_type": "stream",
     "text": [
      "2021-12-13 15:20:39.211599: I tensorflow/core/profiler/lib/profiler_session.cc:131] Profiler session initializing.\n",
      "2021-12-13 15:20:39.211628: I tensorflow/core/profiler/lib/profiler_session.cc:146] Profiler session started.\n",
      "2021-12-13 15:20:39.211656: I tensorflow/core/profiler/internal/gpu/cupti_tracer.cc:1614] Profiler found 1 GPUs\n",
      "2021-12-13 15:20:39.275459: I tensorflow/core/profiler/lib/profiler_session.cc:164] Profiler session tear down.\n",
      "2021-12-13 15:20:39.275662: I tensorflow/core/profiler/internal/gpu/cupti_tracer.cc:1749] CUPTI activity buffer flushed\n",
      "/usr/local/lib/python3.8/dist-packages/keras/utils/generic_utils.py:494: CustomMaskWarning: Custom mask layers require a config and must override get_config. When loading, the custom mask layer must be passed to the custom_objects argument.\n",
      "  warnings.warn('Custom mask layers require a config and must override '\n",
      "2021-12-13 15:20:44.749640: I tensorflow/compiler/mlir/mlir_graph_optimization_pass.cc:185] None of the MLIR Optimization Passes are enabled (registered 2)\n",
      "2021-12-13 15:20:45.570276: I tensorflow/stream_executor/cuda/cuda_dnn.cc:381] Loaded cuDNN version 8300\n",
      "2021-12-13 15:20:48.704494: I tensorflow/core/profiler/lib/profiler_session.cc:131] Profiler session initializing.\n",
      "2021-12-13 15:20:48.704525: I tensorflow/core/profiler/lib/profiler_session.cc:146] Profiler session started.\n",
      "2021-12-13 15:20:49.620278: I tensorflow/core/profiler/lib/profiler_session.cc:66] Profiler session collecting data.\n",
      "2021-12-13 15:20:49.620828: I tensorflow/core/profiler/internal/gpu/cupti_tracer.cc:1749] CUPTI activity buffer flushed\n",
      "2021-12-13 15:20:49.657966: I tensorflow/core/profiler/internal/gpu/cupti_collector.cc:673]  GpuTracer has collected 5785 callback api events and 4632 activity events. \n",
      "2021-12-13 15:20:49.692408: I tensorflow/core/profiler/lib/profiler_session.cc:164] Profiler session tear down.\n",
      "2021-12-13 15:20:49.822582: I tensorflow/core/profiler/rpc/client/save_profile.cc:136] Creating directory: ../urbangrammar_samba/spatial_signatures/ai/nw/logs/resnet50_flatten_128_3/train/plugins/profile/2021_12_13_15_20_49\n",
      "\n",
      "2021-12-13 15:20:49.903846: I tensorflow/core/profiler/rpc/client/save_profile.cc:142] Dumped gzipped tool data for trace.json.gz to ../urbangrammar_samba/spatial_signatures/ai/nw/logs/resnet50_flatten_128_3/train/plugins/profile/2021_12_13_15_20_49/985b7fd52aa6.trace.json.gz\n",
      "2021-12-13 15:20:49.956161: I tensorflow/core/profiler/rpc/client/save_profile.cc:136] Creating directory: ../urbangrammar_samba/spatial_signatures/ai/nw/logs/resnet50_flatten_128_3/train/plugins/profile/2021_12_13_15_20_49\n",
      "\n",
      "2021-12-13 15:20:49.969054: I tensorflow/core/profiler/rpc/client/save_profile.cc:142] Dumped gzipped tool data for memory_profile.json.gz to ../urbangrammar_samba/spatial_signatures/ai/nw/logs/resnet50_flatten_128_3/train/plugins/profile/2021_12_13_15_20_49/985b7fd52aa6.memory_profile.json.gz\n",
      "2021-12-13 15:20:50.029840: I tensorflow/core/profiler/rpc/client/capture_profile.cc:251] Creating directory: ../urbangrammar_samba/spatial_signatures/ai/nw/logs/resnet50_flatten_128_3/train/plugins/profile/2021_12_13_15_20_49\n",
      "Dumped tool data for xplane.pb to ../urbangrammar_samba/spatial_signatures/ai/nw/logs/resnet50_flatten_128_3/train/plugins/profile/2021_12_13_15_20_49/985b7fd52aa6.xplane.pb\n",
      "Dumped tool data for overview_page.pb to ../urbangrammar_samba/spatial_signatures/ai/nw/logs/resnet50_flatten_128_3/train/plugins/profile/2021_12_13_15_20_49/985b7fd52aa6.overview_page.pb\n",
      "Dumped tool data for input_pipeline.pb to ../urbangrammar_samba/spatial_signatures/ai/nw/logs/resnet50_flatten_128_3/train/plugins/profile/2021_12_13_15_20_49/985b7fd52aa6.input_pipeline.pb\n",
      "Dumped tool data for tensorflow_stats.pb to ../urbangrammar_samba/spatial_signatures/ai/nw/logs/resnet50_flatten_128_3/train/plugins/profile/2021_12_13_15_20_49/985b7fd52aa6.tensorflow_stats.pb\n",
      "Dumped tool data for kernel_stats.pb to ../urbangrammar_samba/spatial_signatures/ai/nw/logs/resnet50_flatten_128_3/train/plugins/profile/2021_12_13_15_20_49/985b7fd52aa6.kernel_stats.pb\n",
      "\n",
      "2021-12-13 15:25:10.344735: W tensorflow/python/util/util.cc:348] Sets are not currently considered sequences, but this may change in the future, so consider avoiding using them.\n"
     ]
    },
    {
     "name": "stdout",
     "output_type": "stream",
     "text": [
      "INFO:tensorflow:Assets written to: ../urbangrammar_samba/spatial_signatures/ai/nw/model/resnet50_flatten_128_3/assets\n"
     ]
    },
    {
     "name": "stderr",
     "output_type": "stream",
     "text": [
      "/usr/local/lib/python3.8/dist-packages/keras/utils/generic_utils.py:494: CustomMaskWarning: Custom mask layers require a config and must override get_config. When loading, the custom mask layer must be passed to the custom_objects argument.\n",
      "  warnings.warn('Custom mask layers require a config and must override '\n",
      "/workspace/work/signature_ai/tools_keras.py:233: RuntimeWarning: Mean of empty slice.\n",
      "  wc_top_prob[c] = y_probs[c_id, c].mean()\n",
      "/usr/local/lib/python3.8/dist-packages/numpy/core/_methods.py:170: RuntimeWarning: invalid value encountered in true_divide\n",
      "  ret = ret.dtype.type(ret / rcount)\n"
     ]
    },
    {
     "name": "stdout",
     "output_type": "stream",
     "text": [
      "perf_model_accuracy for train: 0.47779548168182373\n",
      "perf_model_accuracy for val: 0.481157124042511\n",
      "perf_model_accuracy for secret: 0.49588751792907715\n",
      "resnet50 flatten 128 done\n"
     ]
    },
    {
     "name": "stderr",
     "output_type": "stream",
     "text": [
      "2021-12-13 15:26:00.533166: I tensorflow/core/profiler/lib/profiler_session.cc:131] Profiler session initializing.\n",
      "2021-12-13 15:26:00.533197: I tensorflow/core/profiler/lib/profiler_session.cc:146] Profiler session started.\n",
      "2021-12-13 15:26:00.709668: I tensorflow/core/profiler/lib/profiler_session.cc:164] Profiler session tear down.\n",
      "2021-12-13 15:26:00.709798: I tensorflow/core/profiler/internal/gpu/cupti_tracer.cc:1749] CUPTI activity buffer flushed\n",
      "2021-12-13 15:26:02.855316: I tensorflow/core/profiler/lib/profiler_session.cc:131] Profiler session initializing.\n",
      "2021-12-13 15:26:02.855348: I tensorflow/core/profiler/lib/profiler_session.cc:146] Profiler session started.\n",
      "2021-12-13 15:26:03.426645: I tensorflow/core/profiler/lib/profiler_session.cc:66] Profiler session collecting data.\n",
      "2021-12-13 15:26:03.427551: I tensorflow/core/profiler/internal/gpu/cupti_tracer.cc:1749] CUPTI activity buffer flushed\n",
      "2021-12-13 15:26:03.448128: I tensorflow/core/profiler/internal/gpu/cupti_collector.cc:673]  GpuTracer has collected 390 callback api events and 390 activity events. \n",
      "2021-12-13 15:26:03.455268: I tensorflow/core/profiler/lib/profiler_session.cc:164] Profiler session tear down.\n",
      "2021-12-13 15:26:03.519862: I tensorflow/core/profiler/rpc/client/save_profile.cc:136] Creating directory: ../urbangrammar_samba/spatial_signatures/ai/nw/logs/resnet50_flatten_256_3/train/plugins/profile/2021_12_13_15_26_03\n",
      "\n",
      "2021-12-13 15:26:03.548254: I tensorflow/core/profiler/rpc/client/save_profile.cc:142] Dumped gzipped tool data for trace.json.gz to ../urbangrammar_samba/spatial_signatures/ai/nw/logs/resnet50_flatten_256_3/train/plugins/profile/2021_12_13_15_26_03/985b7fd52aa6.trace.json.gz\n",
      "2021-12-13 15:26:03.585114: I tensorflow/core/profiler/rpc/client/save_profile.cc:136] Creating directory: ../urbangrammar_samba/spatial_signatures/ai/nw/logs/resnet50_flatten_256_3/train/plugins/profile/2021_12_13_15_26_03\n",
      "\n",
      "2021-12-13 15:26:03.598589: I tensorflow/core/profiler/rpc/client/save_profile.cc:142] Dumped gzipped tool data for memory_profile.json.gz to ../urbangrammar_samba/spatial_signatures/ai/nw/logs/resnet50_flatten_256_3/train/plugins/profile/2021_12_13_15_26_03/985b7fd52aa6.memory_profile.json.gz\n",
      "2021-12-13 15:26:03.646136: I tensorflow/core/profiler/rpc/client/capture_profile.cc:251] Creating directory: ../urbangrammar_samba/spatial_signatures/ai/nw/logs/resnet50_flatten_256_3/train/plugins/profile/2021_12_13_15_26_03\n",
      "Dumped tool data for xplane.pb to ../urbangrammar_samba/spatial_signatures/ai/nw/logs/resnet50_flatten_256_3/train/plugins/profile/2021_12_13_15_26_03/985b7fd52aa6.xplane.pb\n",
      "Dumped tool data for overview_page.pb to ../urbangrammar_samba/spatial_signatures/ai/nw/logs/resnet50_flatten_256_3/train/plugins/profile/2021_12_13_15_26_03/985b7fd52aa6.overview_page.pb\n",
      "Dumped tool data for input_pipeline.pb to ../urbangrammar_samba/spatial_signatures/ai/nw/logs/resnet50_flatten_256_3/train/plugins/profile/2021_12_13_15_26_03/985b7fd52aa6.input_pipeline.pb\n",
      "Dumped tool data for tensorflow_stats.pb to ../urbangrammar_samba/spatial_signatures/ai/nw/logs/resnet50_flatten_256_3/train/plugins/profile/2021_12_13_15_26_03/985b7fd52aa6.tensorflow_stats.pb\n",
      "Dumped tool data for kernel_stats.pb to ../urbangrammar_samba/spatial_signatures/ai/nw/logs/resnet50_flatten_256_3/train/plugins/profile/2021_12_13_15_26_03/985b7fd52aa6.kernel_stats.pb\n",
      "\n"
     ]
    },
    {
     "name": "stdout",
     "output_type": "stream",
     "text": [
      "INFO:tensorflow:Assets written to: ../urbangrammar_samba/spatial_signatures/ai/nw/model/resnet50_flatten_256_3/assets\n"
     ]
    },
    {
     "name": "stderr",
     "output_type": "stream",
     "text": [
      "/usr/local/lib/python3.8/dist-packages/keras/utils/generic_utils.py:494: CustomMaskWarning: Custom mask layers require a config and must override get_config. When loading, the custom mask layer must be passed to the custom_objects argument.\n",
      "  warnings.warn('Custom mask layers require a config and must override '\n",
      "/workspace/work/signature_ai/tools_keras.py:233: RuntimeWarning: Mean of empty slice.\n",
      "  wc_top_prob[c] = y_probs[c_id, c].mean()\n",
      "/usr/local/lib/python3.8/dist-packages/numpy/core/_methods.py:170: RuntimeWarning: invalid value encountered in true_divide\n",
      "  ret = ret.dtype.type(ret / rcount)\n"
     ]
    },
    {
     "name": "stdout",
     "output_type": "stream",
     "text": [
      "perf_model_accuracy for train: 0.47814932465553284\n",
      "perf_model_accuracy for val: 0.4814225137233734\n",
      "perf_model_accuracy for secret: 0.4956221878528595\n",
      "resnet50 flatten 256 done\n"
     ]
    },
    {
     "name": "stderr",
     "output_type": "stream",
     "text": [
      "2021-12-13 15:31:22.024657: I tensorflow/core/profiler/lib/profiler_session.cc:131] Profiler session initializing.\n",
      "2021-12-13 15:31:22.024688: I tensorflow/core/profiler/lib/profiler_session.cc:146] Profiler session started.\n",
      "2021-12-13 15:31:22.158837: I tensorflow/core/profiler/lib/profiler_session.cc:164] Profiler session tear down.\n",
      "2021-12-13 15:31:22.159000: I tensorflow/core/profiler/internal/gpu/cupti_tracer.cc:1749] CUPTI activity buffer flushed\n",
      "2021-12-13 15:31:24.322440: I tensorflow/core/profiler/lib/profiler_session.cc:131] Profiler session initializing.\n",
      "2021-12-13 15:31:24.322472: I tensorflow/core/profiler/lib/profiler_session.cc:146] Profiler session started.\n",
      "2021-12-13 15:31:24.901844: I tensorflow/core/profiler/lib/profiler_session.cc:66] Profiler session collecting data.\n",
      "2021-12-13 15:31:24.903242: I tensorflow/core/profiler/internal/gpu/cupti_tracer.cc:1749] CUPTI activity buffer flushed\n",
      "2021-12-13 15:31:24.924952: I tensorflow/core/profiler/internal/gpu/cupti_collector.cc:673]  GpuTracer has collected 390 callback api events and 390 activity events. \n",
      "2021-12-13 15:31:24.933138: I tensorflow/core/profiler/lib/profiler_session.cc:164] Profiler session tear down.\n",
      "2021-12-13 15:31:25.000294: I tensorflow/core/profiler/rpc/client/save_profile.cc:136] Creating directory: ../urbangrammar_samba/spatial_signatures/ai/nw/logs/resnet50_flatten_512_3/train/plugins/profile/2021_12_13_15_31_24\n",
      "\n",
      "2021-12-13 15:31:25.028285: I tensorflow/core/profiler/rpc/client/save_profile.cc:142] Dumped gzipped tool data for trace.json.gz to ../urbangrammar_samba/spatial_signatures/ai/nw/logs/resnet50_flatten_512_3/train/plugins/profile/2021_12_13_15_31_24/985b7fd52aa6.trace.json.gz\n",
      "2021-12-13 15:31:25.068415: I tensorflow/core/profiler/rpc/client/save_profile.cc:136] Creating directory: ../urbangrammar_samba/spatial_signatures/ai/nw/logs/resnet50_flatten_512_3/train/plugins/profile/2021_12_13_15_31_24\n",
      "\n",
      "2021-12-13 15:31:25.091717: I tensorflow/core/profiler/rpc/client/save_profile.cc:142] Dumped gzipped tool data for memory_profile.json.gz to ../urbangrammar_samba/spatial_signatures/ai/nw/logs/resnet50_flatten_512_3/train/plugins/profile/2021_12_13_15_31_24/985b7fd52aa6.memory_profile.json.gz\n",
      "2021-12-13 15:31:25.139878: I tensorflow/core/profiler/rpc/client/capture_profile.cc:251] Creating directory: ../urbangrammar_samba/spatial_signatures/ai/nw/logs/resnet50_flatten_512_3/train/plugins/profile/2021_12_13_15_31_24\n",
      "Dumped tool data for xplane.pb to ../urbangrammar_samba/spatial_signatures/ai/nw/logs/resnet50_flatten_512_3/train/plugins/profile/2021_12_13_15_31_24/985b7fd52aa6.xplane.pb\n",
      "Dumped tool data for overview_page.pb to ../urbangrammar_samba/spatial_signatures/ai/nw/logs/resnet50_flatten_512_3/train/plugins/profile/2021_12_13_15_31_24/985b7fd52aa6.overview_page.pb\n",
      "Dumped tool data for input_pipeline.pb to ../urbangrammar_samba/spatial_signatures/ai/nw/logs/resnet50_flatten_512_3/train/plugins/profile/2021_12_13_15_31_24/985b7fd52aa6.input_pipeline.pb\n",
      "Dumped tool data for tensorflow_stats.pb to ../urbangrammar_samba/spatial_signatures/ai/nw/logs/resnet50_flatten_512_3/train/plugins/profile/2021_12_13_15_31_24/985b7fd52aa6.tensorflow_stats.pb\n",
      "Dumped tool data for kernel_stats.pb to ../urbangrammar_samba/spatial_signatures/ai/nw/logs/resnet50_flatten_512_3/train/plugins/profile/2021_12_13_15_31_24/985b7fd52aa6.kernel_stats.pb\n",
      "\n"
     ]
    },
    {
     "name": "stdout",
     "output_type": "stream",
     "text": [
      "INFO:tensorflow:Assets written to: ../urbangrammar_samba/spatial_signatures/ai/nw/model/resnet50_flatten_512_3/assets\n"
     ]
    },
    {
     "name": "stderr",
     "output_type": "stream",
     "text": [
      "/usr/local/lib/python3.8/dist-packages/keras/utils/generic_utils.py:494: CustomMaskWarning: Custom mask layers require a config and must override get_config. When loading, the custom mask layer must be passed to the custom_objects argument.\n",
      "  warnings.warn('Custom mask layers require a config and must override '\n",
      "/workspace/work/signature_ai/tools_keras.py:233: RuntimeWarning: Mean of empty slice.\n",
      "  wc_top_prob[c] = y_probs[c_id, c].mean()\n",
      "/usr/local/lib/python3.8/dist-packages/numpy/core/_methods.py:170: RuntimeWarning: invalid value encountered in true_divide\n",
      "  ret = ret.dtype.type(ret / rcount)\n"
     ]
    },
    {
     "name": "stdout",
     "output_type": "stream",
     "text": [
      "perf_model_accuracy for train: 0.5206121802330017\n",
      "perf_model_accuracy for val: 0.5228237509727478\n",
      "perf_model_accuracy for secret: 0.5372778177261353\n",
      "resnet50 flatten 512 done\n"
     ]
    },
    {
     "name": "stderr",
     "output_type": "stream",
     "text": [
      "2021-12-13 15:38:11.131155: I tensorflow/core/profiler/lib/profiler_session.cc:131] Profiler session initializing.\n",
      "2021-12-13 15:38:11.131186: I tensorflow/core/profiler/lib/profiler_session.cc:146] Profiler session started.\n",
      "2021-12-13 15:38:11.263766: I tensorflow/core/profiler/lib/profiler_session.cc:164] Profiler session tear down.\n",
      "2021-12-13 15:38:11.263892: I tensorflow/core/profiler/internal/gpu/cupti_tracer.cc:1749] CUPTI activity buffer flushed\n",
      "2021-12-13 15:38:13.506240: I tensorflow/core/profiler/lib/profiler_session.cc:131] Profiler session initializing.\n",
      "2021-12-13 15:38:13.506273: I tensorflow/core/profiler/lib/profiler_session.cc:146] Profiler session started.\n",
      "2021-12-13 15:38:14.034423: I tensorflow/core/profiler/lib/profiler_session.cc:66] Profiler session collecting data.\n",
      "2021-12-13 15:38:14.035466: I tensorflow/core/profiler/internal/gpu/cupti_tracer.cc:1749] CUPTI activity buffer flushed\n",
      "2021-12-13 15:38:14.056336: I tensorflow/core/profiler/internal/gpu/cupti_collector.cc:673]  GpuTracer has collected 389 callback api events and 389 activity events. \n",
      "2021-12-13 15:38:14.064088: I tensorflow/core/profiler/lib/profiler_session.cc:164] Profiler session tear down.\n",
      "2021-12-13 15:38:14.132604: I tensorflow/core/profiler/rpc/client/save_profile.cc:136] Creating directory: ../urbangrammar_samba/spatial_signatures/ai/nw/logs/resnet50_pooling_128_3/train/plugins/profile/2021_12_13_15_38_14\n",
      "\n",
      "2021-12-13 15:38:14.159576: I tensorflow/core/profiler/rpc/client/save_profile.cc:142] Dumped gzipped tool data for trace.json.gz to ../urbangrammar_samba/spatial_signatures/ai/nw/logs/resnet50_pooling_128_3/train/plugins/profile/2021_12_13_15_38_14/985b7fd52aa6.trace.json.gz\n",
      "2021-12-13 15:38:14.196816: I tensorflow/core/profiler/rpc/client/save_profile.cc:136] Creating directory: ../urbangrammar_samba/spatial_signatures/ai/nw/logs/resnet50_pooling_128_3/train/plugins/profile/2021_12_13_15_38_14\n",
      "\n",
      "2021-12-13 15:38:14.210716: I tensorflow/core/profiler/rpc/client/save_profile.cc:142] Dumped gzipped tool data for memory_profile.json.gz to ../urbangrammar_samba/spatial_signatures/ai/nw/logs/resnet50_pooling_128_3/train/plugins/profile/2021_12_13_15_38_14/985b7fd52aa6.memory_profile.json.gz\n",
      "2021-12-13 15:38:14.258218: I tensorflow/core/profiler/rpc/client/capture_profile.cc:251] Creating directory: ../urbangrammar_samba/spatial_signatures/ai/nw/logs/resnet50_pooling_128_3/train/plugins/profile/2021_12_13_15_38_14\n",
      "Dumped tool data for xplane.pb to ../urbangrammar_samba/spatial_signatures/ai/nw/logs/resnet50_pooling_128_3/train/plugins/profile/2021_12_13_15_38_14/985b7fd52aa6.xplane.pb\n",
      "Dumped tool data for overview_page.pb to ../urbangrammar_samba/spatial_signatures/ai/nw/logs/resnet50_pooling_128_3/train/plugins/profile/2021_12_13_15_38_14/985b7fd52aa6.overview_page.pb\n",
      "Dumped tool data for input_pipeline.pb to ../urbangrammar_samba/spatial_signatures/ai/nw/logs/resnet50_pooling_128_3/train/plugins/profile/2021_12_13_15_38_14/985b7fd52aa6.input_pipeline.pb\n",
      "Dumped tool data for tensorflow_stats.pb to ../urbangrammar_samba/spatial_signatures/ai/nw/logs/resnet50_pooling_128_3/train/plugins/profile/2021_12_13_15_38_14/985b7fd52aa6.tensorflow_stats.pb\n",
      "Dumped tool data for kernel_stats.pb to ../urbangrammar_samba/spatial_signatures/ai/nw/logs/resnet50_pooling_128_3/train/plugins/profile/2021_12_13_15_38_14/985b7fd52aa6.kernel_stats.pb\n",
      "\n"
     ]
    },
    {
     "name": "stdout",
     "output_type": "stream",
     "text": [
      "INFO:tensorflow:Assets written to: ../urbangrammar_samba/spatial_signatures/ai/nw/model/resnet50_pooling_128_3/assets\n"
     ]
    },
    {
     "name": "stderr",
     "output_type": "stream",
     "text": [
      "/usr/local/lib/python3.8/dist-packages/keras/utils/generic_utils.py:494: CustomMaskWarning: Custom mask layers require a config and must override get_config. When loading, the custom mask layer must be passed to the custom_objects argument.\n",
      "  warnings.warn('Custom mask layers require a config and must override '\n",
      "/workspace/work/signature_ai/tools_keras.py:233: RuntimeWarning: Mean of empty slice.\n",
      "  wc_top_prob[c] = y_probs[c_id, c].mean()\n",
      "/usr/local/lib/python3.8/dist-packages/numpy/core/_methods.py:170: RuntimeWarning: invalid value encountered in true_divide\n",
      "  ret = ret.dtype.type(ret / rcount)\n"
     ]
    },
    {
     "name": "stdout",
     "output_type": "stream",
     "text": [
      "perf_model_accuracy for train: 0.4769108295440674\n",
      "perf_model_accuracy for val: 0.4697452187538147\n",
      "perf_model_accuracy for secret: 0.4518439769744873\n",
      "resnet50 pooling 128 done\n"
     ]
    },
    {
     "name": "stderr",
     "output_type": "stream",
     "text": [
      "2021-12-13 15:43:17.966028: I tensorflow/core/profiler/lib/profiler_session.cc:131] Profiler session initializing.\n",
      "2021-12-13 15:43:17.966059: I tensorflow/core/profiler/lib/profiler_session.cc:146] Profiler session started.\n",
      "2021-12-13 15:43:18.097895: I tensorflow/core/profiler/lib/profiler_session.cc:164] Profiler session tear down.\n",
      "2021-12-13 15:43:18.098030: I tensorflow/core/profiler/internal/gpu/cupti_tracer.cc:1749] CUPTI activity buffer flushed\n",
      "2021-12-13 15:43:20.312103: I tensorflow/core/profiler/lib/profiler_session.cc:131] Profiler session initializing.\n",
      "2021-12-13 15:43:20.312134: I tensorflow/core/profiler/lib/profiler_session.cc:146] Profiler session started.\n",
      "2021-12-13 15:43:20.875208: I tensorflow/core/profiler/lib/profiler_session.cc:66] Profiler session collecting data.\n",
      "2021-12-13 15:43:20.879411: I tensorflow/core/profiler/internal/gpu/cupti_tracer.cc:1749] CUPTI activity buffer flushed\n",
      "2021-12-13 15:43:20.902289: I tensorflow/core/profiler/internal/gpu/cupti_collector.cc:673]  GpuTracer has collected 389 callback api events and 389 activity events. \n",
      "2021-12-13 15:43:20.911886: I tensorflow/core/profiler/lib/profiler_session.cc:164] Profiler session tear down.\n",
      "2021-12-13 15:43:20.980379: I tensorflow/core/profiler/rpc/client/save_profile.cc:136] Creating directory: ../urbangrammar_samba/spatial_signatures/ai/nw/logs/resnet50_pooling_256_3/train/plugins/profile/2021_12_13_15_43_20\n",
      "\n",
      "2021-12-13 15:43:21.005804: I tensorflow/core/profiler/rpc/client/save_profile.cc:142] Dumped gzipped tool data for trace.json.gz to ../urbangrammar_samba/spatial_signatures/ai/nw/logs/resnet50_pooling_256_3/train/plugins/profile/2021_12_13_15_43_20/985b7fd52aa6.trace.json.gz\n",
      "2021-12-13 15:43:21.050550: I tensorflow/core/profiler/rpc/client/save_profile.cc:136] Creating directory: ../urbangrammar_samba/spatial_signatures/ai/nw/logs/resnet50_pooling_256_3/train/plugins/profile/2021_12_13_15_43_20\n",
      "\n",
      "2021-12-13 15:43:21.064987: I tensorflow/core/profiler/rpc/client/save_profile.cc:142] Dumped gzipped tool data for memory_profile.json.gz to ../urbangrammar_samba/spatial_signatures/ai/nw/logs/resnet50_pooling_256_3/train/plugins/profile/2021_12_13_15_43_20/985b7fd52aa6.memory_profile.json.gz\n",
      "2021-12-13 15:43:21.113035: I tensorflow/core/profiler/rpc/client/capture_profile.cc:251] Creating directory: ../urbangrammar_samba/spatial_signatures/ai/nw/logs/resnet50_pooling_256_3/train/plugins/profile/2021_12_13_15_43_20\n",
      "Dumped tool data for xplane.pb to ../urbangrammar_samba/spatial_signatures/ai/nw/logs/resnet50_pooling_256_3/train/plugins/profile/2021_12_13_15_43_20/985b7fd52aa6.xplane.pb\n",
      "Dumped tool data for overview_page.pb to ../urbangrammar_samba/spatial_signatures/ai/nw/logs/resnet50_pooling_256_3/train/plugins/profile/2021_12_13_15_43_20/985b7fd52aa6.overview_page.pb\n",
      "Dumped tool data for input_pipeline.pb to ../urbangrammar_samba/spatial_signatures/ai/nw/logs/resnet50_pooling_256_3/train/plugins/profile/2021_12_13_15_43_20/985b7fd52aa6.input_pipeline.pb\n",
      "Dumped tool data for tensorflow_stats.pb to ../urbangrammar_samba/spatial_signatures/ai/nw/logs/resnet50_pooling_256_3/train/plugins/profile/2021_12_13_15_43_20/985b7fd52aa6.tensorflow_stats.pb\n",
      "Dumped tool data for kernel_stats.pb to ../urbangrammar_samba/spatial_signatures/ai/nw/logs/resnet50_pooling_256_3/train/plugins/profile/2021_12_13_15_43_20/985b7fd52aa6.kernel_stats.pb\n",
      "\n"
     ]
    },
    {
     "name": "stdout",
     "output_type": "stream",
     "text": [
      "INFO:tensorflow:Assets written to: ../urbangrammar_samba/spatial_signatures/ai/nw/model/resnet50_pooling_256_3/assets\n"
     ]
    },
    {
     "name": "stderr",
     "output_type": "stream",
     "text": [
      "/usr/local/lib/python3.8/dist-packages/keras/utils/generic_utils.py:494: CustomMaskWarning: Custom mask layers require a config and must override get_config. When loading, the custom mask layer must be passed to the custom_objects argument.\n",
      "  warnings.warn('Custom mask layers require a config and must override '\n",
      "/workspace/work/signature_ai/tools_keras.py:233: RuntimeWarning: Mean of empty slice.\n",
      "  wc_top_prob[c] = y_probs[c_id, c].mean()\n",
      "/usr/local/lib/python3.8/dist-packages/numpy/core/_methods.py:170: RuntimeWarning: invalid value encountered in true_divide\n",
      "  ret = ret.dtype.type(ret / rcount)\n"
     ]
    },
    {
     "name": "stdout",
     "output_type": "stream",
     "text": [
      "perf_model_accuracy for train: 0.4769108295440674\n",
      "perf_model_accuracy for val: 0.4697452187538147\n",
      "perf_model_accuracy for secret: 0.4518439769744873\n",
      "resnet50 pooling 256 done\n"
     ]
    },
    {
     "name": "stderr",
     "output_type": "stream",
     "text": [
      "2021-12-13 15:49:30.599574: I tensorflow/core/profiler/lib/profiler_session.cc:131] Profiler session initializing.\n",
      "2021-12-13 15:49:30.599607: I tensorflow/core/profiler/lib/profiler_session.cc:146] Profiler session started.\n",
      "2021-12-13 15:49:30.735136: I tensorflow/core/profiler/lib/profiler_session.cc:164] Profiler session tear down.\n",
      "2021-12-13 15:49:30.735299: I tensorflow/core/profiler/internal/gpu/cupti_tracer.cc:1749] CUPTI activity buffer flushed\n",
      "2021-12-13 15:49:32.950219: I tensorflow/core/profiler/lib/profiler_session.cc:131] Profiler session initializing.\n",
      "2021-12-13 15:49:32.950250: I tensorflow/core/profiler/lib/profiler_session.cc:146] Profiler session started.\n",
      "2021-12-13 15:49:33.487498: I tensorflow/core/profiler/lib/profiler_session.cc:66] Profiler session collecting data.\n",
      "2021-12-13 15:49:33.488643: I tensorflow/core/profiler/internal/gpu/cupti_tracer.cc:1749] CUPTI activity buffer flushed\n",
      "2021-12-13 15:49:33.512090: I tensorflow/core/profiler/internal/gpu/cupti_collector.cc:673]  GpuTracer has collected 389 callback api events and 389 activity events. \n",
      "2021-12-13 15:49:33.519907: I tensorflow/core/profiler/lib/profiler_session.cc:164] Profiler session tear down.\n",
      "2021-12-13 15:49:33.586466: I tensorflow/core/profiler/rpc/client/save_profile.cc:136] Creating directory: ../urbangrammar_samba/spatial_signatures/ai/nw/logs/resnet50_pooling_512_3/train/plugins/profile/2021_12_13_15_49_33\n",
      "\n",
      "2021-12-13 15:49:33.615787: I tensorflow/core/profiler/rpc/client/save_profile.cc:142] Dumped gzipped tool data for trace.json.gz to ../urbangrammar_samba/spatial_signatures/ai/nw/logs/resnet50_pooling_512_3/train/plugins/profile/2021_12_13_15_49_33/985b7fd52aa6.trace.json.gz\n",
      "2021-12-13 15:49:33.660725: I tensorflow/core/profiler/rpc/client/save_profile.cc:136] Creating directory: ../urbangrammar_samba/spatial_signatures/ai/nw/logs/resnet50_pooling_512_3/train/plugins/profile/2021_12_13_15_49_33\n",
      "\n",
      "2021-12-13 15:49:33.674685: I tensorflow/core/profiler/rpc/client/save_profile.cc:142] Dumped gzipped tool data for memory_profile.json.gz to ../urbangrammar_samba/spatial_signatures/ai/nw/logs/resnet50_pooling_512_3/train/plugins/profile/2021_12_13_15_49_33/985b7fd52aa6.memory_profile.json.gz\n",
      "2021-12-13 15:49:33.722762: I tensorflow/core/profiler/rpc/client/capture_profile.cc:251] Creating directory: ../urbangrammar_samba/spatial_signatures/ai/nw/logs/resnet50_pooling_512_3/train/plugins/profile/2021_12_13_15_49_33\n",
      "Dumped tool data for xplane.pb to ../urbangrammar_samba/spatial_signatures/ai/nw/logs/resnet50_pooling_512_3/train/plugins/profile/2021_12_13_15_49_33/985b7fd52aa6.xplane.pb\n",
      "Dumped tool data for overview_page.pb to ../urbangrammar_samba/spatial_signatures/ai/nw/logs/resnet50_pooling_512_3/train/plugins/profile/2021_12_13_15_49_33/985b7fd52aa6.overview_page.pb\n",
      "Dumped tool data for input_pipeline.pb to ../urbangrammar_samba/spatial_signatures/ai/nw/logs/resnet50_pooling_512_3/train/plugins/profile/2021_12_13_15_49_33/985b7fd52aa6.input_pipeline.pb\n",
      "Dumped tool data for tensorflow_stats.pb to ../urbangrammar_samba/spatial_signatures/ai/nw/logs/resnet50_pooling_512_3/train/plugins/profile/2021_12_13_15_49_33/985b7fd52aa6.tensorflow_stats.pb\n",
      "Dumped tool data for kernel_stats.pb to ../urbangrammar_samba/spatial_signatures/ai/nw/logs/resnet50_pooling_512_3/train/plugins/profile/2021_12_13_15_49_33/985b7fd52aa6.kernel_stats.pb\n",
      "\n"
     ]
    },
    {
     "name": "stdout",
     "output_type": "stream",
     "text": [
      "INFO:tensorflow:Assets written to: ../urbangrammar_samba/spatial_signatures/ai/nw/model/resnet50_pooling_512_3/assets\n"
     ]
    },
    {
     "name": "stderr",
     "output_type": "stream",
     "text": [
      "/usr/local/lib/python3.8/dist-packages/keras/utils/generic_utils.py:494: CustomMaskWarning: Custom mask layers require a config and must override get_config. When loading, the custom mask layer must be passed to the custom_objects argument.\n",
      "  warnings.warn('Custom mask layers require a config and must override '\n",
      "/workspace/work/signature_ai/tools_keras.py:233: RuntimeWarning: Mean of empty slice.\n",
      "  wc_top_prob[c] = y_probs[c_id, c].mean()\n",
      "/usr/local/lib/python3.8/dist-packages/numpy/core/_methods.py:170: RuntimeWarning: invalid value encountered in true_divide\n",
      "  ret = ret.dtype.type(ret / rcount)\n"
     ]
    },
    {
     "name": "stdout",
     "output_type": "stream",
     "text": [
      "perf_model_accuracy for train: 0.5241507291793823\n",
      "perf_model_accuracy for val: 0.5262739062309265\n",
      "perf_model_accuracy for secret: 0.5383390784263611\n",
      "resnet50 pooling 512 done\n"
     ]
    },
    {
     "name": "stderr",
     "output_type": "stream",
     "text": [
      "2021-12-13 15:55:11.557021: I tensorflow/core/profiler/lib/profiler_session.cc:131] Profiler session initializing.\n",
      "2021-12-13 15:55:11.557052: I tensorflow/core/profiler/lib/profiler_session.cc:146] Profiler session started.\n",
      "2021-12-13 15:55:11.699579: I tensorflow/core/profiler/lib/profiler_session.cc:164] Profiler session tear down.\n",
      "2021-12-13 15:55:11.699711: I tensorflow/core/profiler/internal/gpu/cupti_tracer.cc:1749] CUPTI activity buffer flushed\n",
      "2021-12-13 15:55:20.067043: I tensorflow/core/profiler/lib/profiler_session.cc:131] Profiler session initializing.\n",
      "2021-12-13 15:55:20.067074: I tensorflow/core/profiler/lib/profiler_session.cc:146] Profiler session started.\n",
      "2021-12-13 15:55:24.508091: I tensorflow/core/profiler/lib/profiler_session.cc:66] Profiler session collecting data.\n",
      "2021-12-13 15:55:24.510295: I tensorflow/core/profiler/internal/gpu/cupti_tracer.cc:1749] CUPTI activity buffer flushed\n",
      "2021-12-13 15:55:24.573537: I tensorflow/core/profiler/internal/gpu/cupti_collector.cc:673]  GpuTracer has collected 14124 callback api events and 13514 activity events. \n",
      "2021-12-13 15:55:24.766679: I tensorflow/core/profiler/lib/profiler_session.cc:164] Profiler session tear down.\n",
      "2021-12-13 15:55:25.134352: I tensorflow/core/profiler/rpc/client/save_profile.cc:136] Creating directory: ../urbangrammar_samba/spatial_signatures/ai/nw/logs/vgg19_flatten_128_3/train/plugins/profile/2021_12_13_15_55_24\n",
      "\n",
      "2021-12-13 15:55:25.313620: I tensorflow/core/profiler/rpc/client/save_profile.cc:142] Dumped gzipped tool data for trace.json.gz to ../urbangrammar_samba/spatial_signatures/ai/nw/logs/vgg19_flatten_128_3/train/plugins/profile/2021_12_13_15_55_24/985b7fd52aa6.trace.json.gz\n",
      "2021-12-13 15:55:25.500975: I tensorflow/core/profiler/rpc/client/save_profile.cc:136] Creating directory: ../urbangrammar_samba/spatial_signatures/ai/nw/logs/vgg19_flatten_128_3/train/plugins/profile/2021_12_13_15_55_24\n",
      "\n",
      "2021-12-13 15:55:25.512909: I tensorflow/core/profiler/rpc/client/save_profile.cc:142] Dumped gzipped tool data for memory_profile.json.gz to ../urbangrammar_samba/spatial_signatures/ai/nw/logs/vgg19_flatten_128_3/train/plugins/profile/2021_12_13_15_55_24/985b7fd52aa6.memory_profile.json.gz\n",
      "2021-12-13 15:55:25.591969: I tensorflow/core/profiler/rpc/client/capture_profile.cc:251] Creating directory: ../urbangrammar_samba/spatial_signatures/ai/nw/logs/vgg19_flatten_128_3/train/plugins/profile/2021_12_13_15_55_24\n",
      "Dumped tool data for xplane.pb to ../urbangrammar_samba/spatial_signatures/ai/nw/logs/vgg19_flatten_128_3/train/plugins/profile/2021_12_13_15_55_24/985b7fd52aa6.xplane.pb\n",
      "Dumped tool data for overview_page.pb to ../urbangrammar_samba/spatial_signatures/ai/nw/logs/vgg19_flatten_128_3/train/plugins/profile/2021_12_13_15_55_24/985b7fd52aa6.overview_page.pb\n",
      "Dumped tool data for input_pipeline.pb to ../urbangrammar_samba/spatial_signatures/ai/nw/logs/vgg19_flatten_128_3/train/plugins/profile/2021_12_13_15_55_24/985b7fd52aa6.input_pipeline.pb\n",
      "Dumped tool data for tensorflow_stats.pb to ../urbangrammar_samba/spatial_signatures/ai/nw/logs/vgg19_flatten_128_3/train/plugins/profile/2021_12_13_15_55_24/985b7fd52aa6.tensorflow_stats.pb\n",
      "Dumped tool data for kernel_stats.pb to ../urbangrammar_samba/spatial_signatures/ai/nw/logs/vgg19_flatten_128_3/train/plugins/profile/2021_12_13_15_55_24/985b7fd52aa6.kernel_stats.pb\n",
      "\n"
     ]
    },
    {
     "name": "stdout",
     "output_type": "stream",
     "text": [
      "INFO:tensorflow:Assets written to: ../urbangrammar_samba/spatial_signatures/ai/nw/model/vgg19_flatten_128_3/assets\n",
      "perf_model_accuracy for train: 0.9085279703140259\n",
      "perf_model_accuracy for val: 0.7083333134651184\n",
      "perf_model_accuracy for secret: 0.7054921984672546\n",
      "vgg19 flatten 128 done\n"
     ]
    },
    {
     "name": "stderr",
     "output_type": "stream",
     "text": [
      "2021-12-13 16:09:14.483204: I tensorflow/core/profiler/lib/profiler_session.cc:131] Profiler session initializing.\n",
      "2021-12-13 16:09:14.483236: I tensorflow/core/profiler/lib/profiler_session.cc:146] Profiler session started.\n",
      "2021-12-13 16:09:14.610719: I tensorflow/core/profiler/lib/profiler_session.cc:164] Profiler session tear down.\n",
      "2021-12-13 16:09:14.610882: I tensorflow/core/profiler/internal/gpu/cupti_tracer.cc:1749] CUPTI activity buffer flushed\n",
      "2021-12-13 16:09:15.413597: I tensorflow/core/profiler/lib/profiler_session.cc:131] Profiler session initializing.\n",
      "2021-12-13 16:09:15.413639: I tensorflow/core/profiler/lib/profiler_session.cc:146] Profiler session started.\n",
      "2021-12-13 16:09:15.775758: I tensorflow/core/profiler/lib/profiler_session.cc:66] Profiler session collecting data.\n",
      "2021-12-13 16:09:15.776471: I tensorflow/core/profiler/internal/gpu/cupti_tracer.cc:1749] CUPTI activity buffer flushed\n",
      "2021-12-13 16:09:15.793667: I tensorflow/core/profiler/internal/gpu/cupti_collector.cc:673]  GpuTracer has collected 172 callback api events and 171 activity events. \n",
      "2021-12-13 16:09:15.797628: I tensorflow/core/profiler/lib/profiler_session.cc:164] Profiler session tear down.\n",
      "2021-12-13 16:09:15.857759: I tensorflow/core/profiler/rpc/client/save_profile.cc:136] Creating directory: ../urbangrammar_samba/spatial_signatures/ai/nw/logs/vgg19_flatten_256_3/train/plugins/profile/2021_12_13_16_09_15\n",
      "\n",
      "2021-12-13 16:09:15.877322: I tensorflow/core/profiler/rpc/client/save_profile.cc:142] Dumped gzipped tool data for trace.json.gz to ../urbangrammar_samba/spatial_signatures/ai/nw/logs/vgg19_flatten_256_3/train/plugins/profile/2021_12_13_16_09_15/985b7fd52aa6.trace.json.gz\n",
      "2021-12-13 16:09:15.899353: I tensorflow/core/profiler/rpc/client/save_profile.cc:136] Creating directory: ../urbangrammar_samba/spatial_signatures/ai/nw/logs/vgg19_flatten_256_3/train/plugins/profile/2021_12_13_16_09_15\n",
      "\n",
      "2021-12-13 16:09:15.911791: I tensorflow/core/profiler/rpc/client/save_profile.cc:142] Dumped gzipped tool data for memory_profile.json.gz to ../urbangrammar_samba/spatial_signatures/ai/nw/logs/vgg19_flatten_256_3/train/plugins/profile/2021_12_13_16_09_15/985b7fd52aa6.memory_profile.json.gz\n",
      "2021-12-13 16:09:15.955620: I tensorflow/core/profiler/rpc/client/capture_profile.cc:251] Creating directory: ../urbangrammar_samba/spatial_signatures/ai/nw/logs/vgg19_flatten_256_3/train/plugins/profile/2021_12_13_16_09_15\n",
      "Dumped tool data for xplane.pb to ../urbangrammar_samba/spatial_signatures/ai/nw/logs/vgg19_flatten_256_3/train/plugins/profile/2021_12_13_16_09_15/985b7fd52aa6.xplane.pb\n",
      "Dumped tool data for overview_page.pb to ../urbangrammar_samba/spatial_signatures/ai/nw/logs/vgg19_flatten_256_3/train/plugins/profile/2021_12_13_16_09_15/985b7fd52aa6.overview_page.pb\n",
      "Dumped tool data for input_pipeline.pb to ../urbangrammar_samba/spatial_signatures/ai/nw/logs/vgg19_flatten_256_3/train/plugins/profile/2021_12_13_16_09_15/985b7fd52aa6.input_pipeline.pb\n",
      "Dumped tool data for tensorflow_stats.pb to ../urbangrammar_samba/spatial_signatures/ai/nw/logs/vgg19_flatten_256_3/train/plugins/profile/2021_12_13_16_09_15/985b7fd52aa6.tensorflow_stats.pb\n",
      "Dumped tool data for kernel_stats.pb to ../urbangrammar_samba/spatial_signatures/ai/nw/logs/vgg19_flatten_256_3/train/plugins/profile/2021_12_13_16_09_15/985b7fd52aa6.kernel_stats.pb\n",
      "\n"
     ]
    },
    {
     "name": "stdout",
     "output_type": "stream",
     "text": [
      "INFO:tensorflow:Assets written to: ../urbangrammar_samba/spatial_signatures/ai/nw/model/vgg19_flatten_256_3/assets\n",
      "perf_model_accuracy for train: 0.9280785322189331\n",
      "perf_model_accuracy for val: 0.6754246354103088\n",
      "perf_model_accuracy for secret: 0.6646324992179871\n",
      "vgg19 flatten 256 done\n"
     ]
    },
    {
     "name": "stderr",
     "output_type": "stream",
     "text": [
      "2021-12-13 16:25:13.384963: I tensorflow/core/profiler/lib/profiler_session.cc:131] Profiler session initializing.\n",
      "2021-12-13 16:25:13.384994: I tensorflow/core/profiler/lib/profiler_session.cc:146] Profiler session started.\n",
      "2021-12-13 16:25:13.505694: I tensorflow/core/profiler/lib/profiler_session.cc:164] Profiler session tear down.\n",
      "2021-12-13 16:25:13.505822: I tensorflow/core/profiler/internal/gpu/cupti_tracer.cc:1749] CUPTI activity buffer flushed\n",
      "2021-12-13 16:25:14.252137: I tensorflow/core/profiler/lib/profiler_session.cc:131] Profiler session initializing.\n",
      "2021-12-13 16:25:14.252176: I tensorflow/core/profiler/lib/profiler_session.cc:146] Profiler session started.\n",
      "2021-12-13 16:25:14.590714: I tensorflow/core/profiler/lib/profiler_session.cc:66] Profiler session collecting data.\n",
      "2021-12-13 16:25:14.591177: I tensorflow/core/profiler/internal/gpu/cupti_tracer.cc:1749] CUPTI activity buffer flushed\n",
      "2021-12-13 16:25:14.606745: I tensorflow/core/profiler/internal/gpu/cupti_collector.cc:673]  GpuTracer has collected 172 callback api events and 171 activity events. \n",
      "2021-12-13 16:25:14.610141: I tensorflow/core/profiler/lib/profiler_session.cc:164] Profiler session tear down.\n",
      "2021-12-13 16:25:14.663236: I tensorflow/core/profiler/rpc/client/save_profile.cc:136] Creating directory: ../urbangrammar_samba/spatial_signatures/ai/nw/logs/vgg19_flatten_512_3/train/plugins/profile/2021_12_13_16_25_14\n",
      "\n",
      "2021-12-13 16:25:14.683044: I tensorflow/core/profiler/rpc/client/save_profile.cc:142] Dumped gzipped tool data for trace.json.gz to ../urbangrammar_samba/spatial_signatures/ai/nw/logs/vgg19_flatten_512_3/train/plugins/profile/2021_12_13_16_25_14/985b7fd52aa6.trace.json.gz\n",
      "2021-12-13 16:25:14.702725: I tensorflow/core/profiler/rpc/client/save_profile.cc:136] Creating directory: ../urbangrammar_samba/spatial_signatures/ai/nw/logs/vgg19_flatten_512_3/train/plugins/profile/2021_12_13_16_25_14\n",
      "\n",
      "2021-12-13 16:25:14.714229: I tensorflow/core/profiler/rpc/client/save_profile.cc:142] Dumped gzipped tool data for memory_profile.json.gz to ../urbangrammar_samba/spatial_signatures/ai/nw/logs/vgg19_flatten_512_3/train/plugins/profile/2021_12_13_16_25_14/985b7fd52aa6.memory_profile.json.gz\n",
      "2021-12-13 16:25:14.759826: I tensorflow/core/profiler/rpc/client/capture_profile.cc:251] Creating directory: ../urbangrammar_samba/spatial_signatures/ai/nw/logs/vgg19_flatten_512_3/train/plugins/profile/2021_12_13_16_25_14\n",
      "Dumped tool data for xplane.pb to ../urbangrammar_samba/spatial_signatures/ai/nw/logs/vgg19_flatten_512_3/train/plugins/profile/2021_12_13_16_25_14/985b7fd52aa6.xplane.pb\n",
      "Dumped tool data for overview_page.pb to ../urbangrammar_samba/spatial_signatures/ai/nw/logs/vgg19_flatten_512_3/train/plugins/profile/2021_12_13_16_25_14/985b7fd52aa6.overview_page.pb\n",
      "Dumped tool data for input_pipeline.pb to ../urbangrammar_samba/spatial_signatures/ai/nw/logs/vgg19_flatten_512_3/train/plugins/profile/2021_12_13_16_25_14/985b7fd52aa6.input_pipeline.pb\n",
      "Dumped tool data for tensorflow_stats.pb to ../urbangrammar_samba/spatial_signatures/ai/nw/logs/vgg19_flatten_512_3/train/plugins/profile/2021_12_13_16_25_14/985b7fd52aa6.tensorflow_stats.pb\n",
      "Dumped tool data for kernel_stats.pb to ../urbangrammar_samba/spatial_signatures/ai/nw/logs/vgg19_flatten_512_3/train/plugins/profile/2021_12_13_16_25_14/985b7fd52aa6.kernel_stats.pb\n",
      "\n"
     ]
    },
    {
     "name": "stdout",
     "output_type": "stream",
     "text": [
      "INFO:tensorflow:Assets written to: ../urbangrammar_samba/spatial_signatures/ai/nw/model/vgg19_flatten_512_3/assets\n",
      "perf_model_accuracy for train: 0.9150742888450623\n",
      "perf_model_accuracy for val: 0.6921443939208984\n",
      "perf_model_accuracy for secret: 0.7028389573097229\n",
      "vgg19 flatten 512 done\n"
     ]
    },
    {
     "name": "stderr",
     "output_type": "stream",
     "text": [
      "2021-12-13 16:41:19.849923: I tensorflow/core/profiler/lib/profiler_session.cc:131] Profiler session initializing.\n",
      "2021-12-13 16:41:19.849955: I tensorflow/core/profiler/lib/profiler_session.cc:146] Profiler session started.\n",
      "2021-12-13 16:41:19.978836: I tensorflow/core/profiler/lib/profiler_session.cc:164] Profiler session tear down.\n",
      "2021-12-13 16:41:19.979000: I tensorflow/core/profiler/internal/gpu/cupti_tracer.cc:1749] CUPTI activity buffer flushed\n",
      "2021-12-13 16:41:20.784978: I tensorflow/core/profiler/lib/profiler_session.cc:131] Profiler session initializing.\n",
      "2021-12-13 16:41:20.785014: I tensorflow/core/profiler/lib/profiler_session.cc:146] Profiler session started.\n",
      "2021-12-13 16:41:21.138287: I tensorflow/core/profiler/lib/profiler_session.cc:66] Profiler session collecting data.\n",
      "2021-12-13 16:41:21.138683: I tensorflow/core/profiler/internal/gpu/cupti_tracer.cc:1749] CUPTI activity buffer flushed\n",
      "2021-12-13 16:41:21.160436: I tensorflow/core/profiler/internal/gpu/cupti_collector.cc:673]  GpuTracer has collected 172 callback api events and 171 activity events. \n",
      "2021-12-13 16:41:21.163485: I tensorflow/core/profiler/lib/profiler_session.cc:164] Profiler session tear down.\n",
      "2021-12-13 16:41:21.218287: I tensorflow/core/profiler/rpc/client/save_profile.cc:136] Creating directory: ../urbangrammar_samba/spatial_signatures/ai/nw/logs/vgg19_pooling_128_3/train/plugins/profile/2021_12_13_16_41_21\n",
      "\n",
      "2021-12-13 16:41:21.237730: I tensorflow/core/profiler/rpc/client/save_profile.cc:142] Dumped gzipped tool data for trace.json.gz to ../urbangrammar_samba/spatial_signatures/ai/nw/logs/vgg19_pooling_128_3/train/plugins/profile/2021_12_13_16_41_21/985b7fd52aa6.trace.json.gz\n",
      "2021-12-13 16:41:21.257039: I tensorflow/core/profiler/rpc/client/save_profile.cc:136] Creating directory: ../urbangrammar_samba/spatial_signatures/ai/nw/logs/vgg19_pooling_128_3/train/plugins/profile/2021_12_13_16_41_21\n",
      "\n",
      "2021-12-13 16:41:21.269162: I tensorflow/core/profiler/rpc/client/save_profile.cc:142] Dumped gzipped tool data for memory_profile.json.gz to ../urbangrammar_samba/spatial_signatures/ai/nw/logs/vgg19_pooling_128_3/train/plugins/profile/2021_12_13_16_41_21/985b7fd52aa6.memory_profile.json.gz\n",
      "2021-12-13 16:41:21.312709: I tensorflow/core/profiler/rpc/client/capture_profile.cc:251] Creating directory: ../urbangrammar_samba/spatial_signatures/ai/nw/logs/vgg19_pooling_128_3/train/plugins/profile/2021_12_13_16_41_21\n",
      "Dumped tool data for xplane.pb to ../urbangrammar_samba/spatial_signatures/ai/nw/logs/vgg19_pooling_128_3/train/plugins/profile/2021_12_13_16_41_21/985b7fd52aa6.xplane.pb\n",
      "Dumped tool data for overview_page.pb to ../urbangrammar_samba/spatial_signatures/ai/nw/logs/vgg19_pooling_128_3/train/plugins/profile/2021_12_13_16_41_21/985b7fd52aa6.overview_page.pb\n",
      "Dumped tool data for input_pipeline.pb to ../urbangrammar_samba/spatial_signatures/ai/nw/logs/vgg19_pooling_128_3/train/plugins/profile/2021_12_13_16_41_21/985b7fd52aa6.input_pipeline.pb\n",
      "Dumped tool data for tensorflow_stats.pb to ../urbangrammar_samba/spatial_signatures/ai/nw/logs/vgg19_pooling_128_3/train/plugins/profile/2021_12_13_16_41_21/985b7fd52aa6.tensorflow_stats.pb\n",
      "Dumped tool data for kernel_stats.pb to ../urbangrammar_samba/spatial_signatures/ai/nw/logs/vgg19_pooling_128_3/train/plugins/profile/2021_12_13_16_41_21/985b7fd52aa6.kernel_stats.pb\n",
      "\n"
     ]
    },
    {
     "name": "stdout",
     "output_type": "stream",
     "text": [
      "INFO:tensorflow:Assets written to: ../urbangrammar_samba/spatial_signatures/ai/nw/model/vgg19_pooling_128_3/assets\n",
      "perf_model_accuracy for train: 0.8627919554710388\n",
      "perf_model_accuracy for val: 0.6993100047111511\n",
      "perf_model_accuracy for secret: 0.6922260522842407\n",
      "vgg19 pooling 128 done\n"
     ]
    },
    {
     "name": "stderr",
     "output_type": "stream",
     "text": [
      "2021-12-13 17:20:38.172900: I tensorflow/core/profiler/lib/profiler_session.cc:131] Profiler session initializing.\n",
      "2021-12-13 17:20:38.172932: I tensorflow/core/profiler/lib/profiler_session.cc:146] Profiler session started.\n",
      "2021-12-13 17:20:38.304270: I tensorflow/core/profiler/lib/profiler_session.cc:164] Profiler session tear down.\n",
      "2021-12-13 17:20:38.304434: I tensorflow/core/profiler/internal/gpu/cupti_tracer.cc:1749] CUPTI activity buffer flushed\n",
      "2021-12-13 17:20:39.095590: I tensorflow/core/profiler/lib/profiler_session.cc:131] Profiler session initializing.\n",
      "2021-12-13 17:20:39.095623: I tensorflow/core/profiler/lib/profiler_session.cc:146] Profiler session started.\n",
      "2021-12-13 17:20:39.434233: I tensorflow/core/profiler/lib/profiler_session.cc:66] Profiler session collecting data.\n",
      "2021-12-13 17:20:39.434700: I tensorflow/core/profiler/internal/gpu/cupti_tracer.cc:1749] CUPTI activity buffer flushed\n",
      "2021-12-13 17:20:39.453008: I tensorflow/core/profiler/internal/gpu/cupti_collector.cc:673]  GpuTracer has collected 172 callback api events and 171 activity events. \n",
      "2021-12-13 17:20:39.456085: I tensorflow/core/profiler/lib/profiler_session.cc:164] Profiler session tear down.\n",
      "2021-12-13 17:20:39.519600: I tensorflow/core/profiler/rpc/client/save_profile.cc:136] Creating directory: ../urbangrammar_samba/spatial_signatures/ai/nw/logs/vgg19_pooling_256_3/train/plugins/profile/2021_12_13_17_20_39\n",
      "\n",
      "2021-12-13 17:20:39.540631: I tensorflow/core/profiler/rpc/client/save_profile.cc:142] Dumped gzipped tool data for trace.json.gz to ../urbangrammar_samba/spatial_signatures/ai/nw/logs/vgg19_pooling_256_3/train/plugins/profile/2021_12_13_17_20_39/985b7fd52aa6.trace.json.gz\n",
      "2021-12-13 17:20:39.560511: I tensorflow/core/profiler/rpc/client/save_profile.cc:136] Creating directory: ../urbangrammar_samba/spatial_signatures/ai/nw/logs/vgg19_pooling_256_3/train/plugins/profile/2021_12_13_17_20_39\n",
      "\n",
      "2021-12-13 17:20:39.574307: I tensorflow/core/profiler/rpc/client/save_profile.cc:142] Dumped gzipped tool data for memory_profile.json.gz to ../urbangrammar_samba/spatial_signatures/ai/nw/logs/vgg19_pooling_256_3/train/plugins/profile/2021_12_13_17_20_39/985b7fd52aa6.memory_profile.json.gz\n",
      "2021-12-13 17:20:39.622345: I tensorflow/core/profiler/rpc/client/capture_profile.cc:251] Creating directory: ../urbangrammar_samba/spatial_signatures/ai/nw/logs/vgg19_pooling_256_3/train/plugins/profile/2021_12_13_17_20_39\n",
      "Dumped tool data for xplane.pb to ../urbangrammar_samba/spatial_signatures/ai/nw/logs/vgg19_pooling_256_3/train/plugins/profile/2021_12_13_17_20_39/985b7fd52aa6.xplane.pb\n",
      "Dumped tool data for overview_page.pb to ../urbangrammar_samba/spatial_signatures/ai/nw/logs/vgg19_pooling_256_3/train/plugins/profile/2021_12_13_17_20_39/985b7fd52aa6.overview_page.pb\n",
      "Dumped tool data for input_pipeline.pb to ../urbangrammar_samba/spatial_signatures/ai/nw/logs/vgg19_pooling_256_3/train/plugins/profile/2021_12_13_17_20_39/985b7fd52aa6.input_pipeline.pb\n",
      "Dumped tool data for tensorflow_stats.pb to ../urbangrammar_samba/spatial_signatures/ai/nw/logs/vgg19_pooling_256_3/train/plugins/profile/2021_12_13_17_20_39/985b7fd52aa6.tensorflow_stats.pb\n",
      "Dumped tool data for kernel_stats.pb to ../urbangrammar_samba/spatial_signatures/ai/nw/logs/vgg19_pooling_256_3/train/plugins/profile/2021_12_13_17_20_39/985b7fd52aa6.kernel_stats.pb\n",
      "\n"
     ]
    },
    {
     "name": "stdout",
     "output_type": "stream",
     "text": [
      "INFO:tensorflow:Assets written to: ../urbangrammar_samba/spatial_signatures/ai/nw/model/vgg19_pooling_256_3/assets\n",
      "perf_model_accuracy for train: 0.8563340306282043\n",
      "perf_model_accuracy for val: 0.6786093711853027\n",
      "perf_model_accuracy for secret: 0.6694083213806152\n",
      "vgg19 pooling 256 done\n"
     ]
    },
    {
     "name": "stderr",
     "output_type": "stream",
     "text": [
      "2021-12-13 17:59:55.429455: I tensorflow/core/profiler/lib/profiler_session.cc:131] Profiler session initializing.\n",
      "2021-12-13 17:59:55.429488: I tensorflow/core/profiler/lib/profiler_session.cc:146] Profiler session started.\n",
      "2021-12-13 17:59:55.561459: I tensorflow/core/profiler/lib/profiler_session.cc:164] Profiler session tear down.\n",
      "2021-12-13 17:59:55.561589: I tensorflow/core/profiler/internal/gpu/cupti_tracer.cc:1749] CUPTI activity buffer flushed\n",
      "2021-12-13 17:59:56.394074: I tensorflow/core/profiler/lib/profiler_session.cc:131] Profiler session initializing.\n",
      "2021-12-13 17:59:56.394110: I tensorflow/core/profiler/lib/profiler_session.cc:146] Profiler session started.\n",
      "2021-12-13 17:59:56.761313: I tensorflow/core/profiler/lib/profiler_session.cc:66] Profiler session collecting data.\n",
      "2021-12-13 17:59:56.761737: I tensorflow/core/profiler/internal/gpu/cupti_tracer.cc:1749] CUPTI activity buffer flushed\n",
      "2021-12-13 17:59:56.792048: I tensorflow/core/profiler/internal/gpu/cupti_collector.cc:673]  GpuTracer has collected 172 callback api events and 171 activity events. \n",
      "2021-12-13 17:59:56.795620: I tensorflow/core/profiler/lib/profiler_session.cc:164] Profiler session tear down.\n",
      "2021-12-13 17:59:56.852377: I tensorflow/core/profiler/rpc/client/save_profile.cc:136] Creating directory: ../urbangrammar_samba/spatial_signatures/ai/nw/logs/vgg19_pooling_512_3/train/plugins/profile/2021_12_13_17_59_56\n",
      "\n",
      "2021-12-13 17:59:56.871728: I tensorflow/core/profiler/rpc/client/save_profile.cc:142] Dumped gzipped tool data for trace.json.gz to ../urbangrammar_samba/spatial_signatures/ai/nw/logs/vgg19_pooling_512_3/train/plugins/profile/2021_12_13_17_59_56/985b7fd52aa6.trace.json.gz\n",
      "2021-12-13 17:59:56.887473: I tensorflow/core/profiler/rpc/client/save_profile.cc:136] Creating directory: ../urbangrammar_samba/spatial_signatures/ai/nw/logs/vgg19_pooling_512_3/train/plugins/profile/2021_12_13_17_59_56\n",
      "\n",
      "2021-12-13 17:59:56.898074: I tensorflow/core/profiler/rpc/client/save_profile.cc:142] Dumped gzipped tool data for memory_profile.json.gz to ../urbangrammar_samba/spatial_signatures/ai/nw/logs/vgg19_pooling_512_3/train/plugins/profile/2021_12_13_17_59_56/985b7fd52aa6.memory_profile.json.gz\n",
      "2021-12-13 17:59:56.941923: I tensorflow/core/profiler/rpc/client/capture_profile.cc:251] Creating directory: ../urbangrammar_samba/spatial_signatures/ai/nw/logs/vgg19_pooling_512_3/train/plugins/profile/2021_12_13_17_59_56\n",
      "Dumped tool data for xplane.pb to ../urbangrammar_samba/spatial_signatures/ai/nw/logs/vgg19_pooling_512_3/train/plugins/profile/2021_12_13_17_59_56/985b7fd52aa6.xplane.pb\n",
      "Dumped tool data for overview_page.pb to ../urbangrammar_samba/spatial_signatures/ai/nw/logs/vgg19_pooling_512_3/train/plugins/profile/2021_12_13_17_59_56/985b7fd52aa6.overview_page.pb\n",
      "Dumped tool data for input_pipeline.pb to ../urbangrammar_samba/spatial_signatures/ai/nw/logs/vgg19_pooling_512_3/train/plugins/profile/2021_12_13_17_59_56/985b7fd52aa6.input_pipeline.pb\n",
      "Dumped tool data for tensorflow_stats.pb to ../urbangrammar_samba/spatial_signatures/ai/nw/logs/vgg19_pooling_512_3/train/plugins/profile/2021_12_13_17_59_56/985b7fd52aa6.tensorflow_stats.pb\n",
      "Dumped tool data for kernel_stats.pb to ../urbangrammar_samba/spatial_signatures/ai/nw/logs/vgg19_pooling_512_3/train/plugins/profile/2021_12_13_17_59_56/985b7fd52aa6.kernel_stats.pb\n",
      "\n"
     ]
    },
    {
     "name": "stdout",
     "output_type": "stream",
     "text": [
      "INFO:tensorflow:Assets written to: ../urbangrammar_samba/spatial_signatures/ai/nw/model/vgg19_pooling_512_3/assets\n",
      "perf_model_accuracy for train: 0.8738499879837036\n",
      "perf_model_accuracy for val: 0.6722398996353149\n",
      "perf_model_accuracy for secret: 0.6794905662536621\n",
      "vgg19 pooling 512 done\n"
     ]
    },
    {
     "name": "stderr",
     "output_type": "stream",
     "text": [
      "2021-12-13 18:42:24.247533: I tensorflow/core/profiler/lib/profiler_session.cc:131] Profiler session initializing.\n",
      "2021-12-13 18:42:24.247560: I tensorflow/core/profiler/lib/profiler_session.cc:146] Profiler session started.\n",
      "2021-12-13 18:42:24.378053: I tensorflow/core/profiler/lib/profiler_session.cc:164] Profiler session tear down.\n",
      "2021-12-13 18:42:24.378184: I tensorflow/core/profiler/internal/gpu/cupti_tracer.cc:1749] CUPTI activity buffer flushed\n",
      "/usr/local/lib/python3.8/dist-packages/keras/utils/generic_utils.py:494: CustomMaskWarning: Custom mask layers require a config and must override get_config. When loading, the custom mask layer must be passed to the custom_objects argument.\n",
      "  warnings.warn('Custom mask layers require a config and must override '\n",
      "2021-12-13 18:42:32.094098: I tensorflow/core/profiler/lib/profiler_session.cc:131] Profiler session initializing.\n",
      "2021-12-13 18:42:32.094133: I tensorflow/core/profiler/lib/profiler_session.cc:146] Profiler session started.\n",
      "2021-12-13 18:42:32.676191: I tensorflow/core/profiler/lib/profiler_session.cc:66] Profiler session collecting data.\n",
      "2021-12-13 18:42:32.677854: I tensorflow/core/profiler/internal/gpu/cupti_tracer.cc:1749] CUPTI activity buffer flushed\n",
      "2021-12-13 18:42:32.708080: I tensorflow/core/profiler/internal/gpu/cupti_collector.cc:673]  GpuTracer has collected 918 callback api events and 921 activity events. \n",
      "2021-12-13 18:42:32.725489: I tensorflow/core/profiler/lib/profiler_session.cc:164] Profiler session tear down.\n",
      "2021-12-13 18:42:32.805270: I tensorflow/core/profiler/rpc/client/save_profile.cc:136] Creating directory: ../urbangrammar_samba/spatial_signatures/ai/nw/logs/efficientnet_flatten_128_3/train/plugins/profile/2021_12_13_18_42_32\n",
      "\n",
      "2021-12-13 18:42:32.839038: I tensorflow/core/profiler/rpc/client/save_profile.cc:142] Dumped gzipped tool data for trace.json.gz to ../urbangrammar_samba/spatial_signatures/ai/nw/logs/efficientnet_flatten_128_3/train/plugins/profile/2021_12_13_18_42_32/985b7fd52aa6.trace.json.gz\n",
      "2021-12-13 18:42:32.885370: I tensorflow/core/profiler/rpc/client/save_profile.cc:136] Creating directory: ../urbangrammar_samba/spatial_signatures/ai/nw/logs/efficientnet_flatten_128_3/train/plugins/profile/2021_12_13_18_42_32\n",
      "\n",
      "2021-12-13 18:42:32.898419: I tensorflow/core/profiler/rpc/client/save_profile.cc:142] Dumped gzipped tool data for memory_profile.json.gz to ../urbangrammar_samba/spatial_signatures/ai/nw/logs/efficientnet_flatten_128_3/train/plugins/profile/2021_12_13_18_42_32/985b7fd52aa6.memory_profile.json.gz\n",
      "2021-12-13 18:42:32.955501: I tensorflow/core/profiler/rpc/client/capture_profile.cc:251] Creating directory: ../urbangrammar_samba/spatial_signatures/ai/nw/logs/efficientnet_flatten_128_3/train/plugins/profile/2021_12_13_18_42_32\n",
      "Dumped tool data for xplane.pb to ../urbangrammar_samba/spatial_signatures/ai/nw/logs/efficientnet_flatten_128_3/train/plugins/profile/2021_12_13_18_42_32/985b7fd52aa6.xplane.pb\n",
      "Dumped tool data for overview_page.pb to ../urbangrammar_samba/spatial_signatures/ai/nw/logs/efficientnet_flatten_128_3/train/plugins/profile/2021_12_13_18_42_32/985b7fd52aa6.overview_page.pb\n",
      "Dumped tool data for input_pipeline.pb to ../urbangrammar_samba/spatial_signatures/ai/nw/logs/efficientnet_flatten_128_3/train/plugins/profile/2021_12_13_18_42_32/985b7fd52aa6.input_pipeline.pb\n",
      "Dumped tool data for tensorflow_stats.pb to ../urbangrammar_samba/spatial_signatures/ai/nw/logs/efficientnet_flatten_128_3/train/plugins/profile/2021_12_13_18_42_32/985b7fd52aa6.tensorflow_stats.pb\n",
      "Dumped tool data for kernel_stats.pb to ../urbangrammar_samba/spatial_signatures/ai/nw/logs/efficientnet_flatten_128_3/train/plugins/profile/2021_12_13_18_42_32/985b7fd52aa6.kernel_stats.pb\n",
      "\n"
     ]
    },
    {
     "name": "stdout",
     "output_type": "stream",
     "text": [
      "INFO:tensorflow:Assets written to: ../urbangrammar_samba/spatial_signatures/ai/nw/model/efficientnet_flatten_128_3/assets\n"
     ]
    },
    {
     "name": "stderr",
     "output_type": "stream",
     "text": [
      "/usr/local/lib/python3.8/dist-packages/keras/utils/generic_utils.py:494: CustomMaskWarning: Custom mask layers require a config and must override get_config. When loading, the custom mask layer must be passed to the custom_objects argument.\n",
      "  warnings.warn('Custom mask layers require a config and must override '\n"
     ]
    },
    {
     "name": "stdout",
     "output_type": "stream",
     "text": [
      "perf_model_accuracy for train: 0.7334572076797485\n",
      "perf_model_accuracy for val: 0.6634819507598877\n",
      "perf_model_accuracy for secret: 0.6712656021118164\n",
      "efficientnet flatten 128 done\n"
     ]
    },
    {
     "name": "stderr",
     "output_type": "stream",
     "text": [
      "2021-12-13 19:00:16.919139: I tensorflow/core/profiler/lib/profiler_session.cc:131] Profiler session initializing.\n",
      "2021-12-13 19:00:16.919168: I tensorflow/core/profiler/lib/profiler_session.cc:146] Profiler session started.\n",
      "2021-12-13 19:00:17.114804: I tensorflow/core/profiler/lib/profiler_session.cc:164] Profiler session tear down.\n",
      "2021-12-13 19:00:17.114975: I tensorflow/core/profiler/internal/gpu/cupti_tracer.cc:1749] CUPTI activity buffer flushed\n",
      "2021-12-13 19:00:23.320559: I tensorflow/core/profiler/lib/profiler_session.cc:131] Profiler session initializing.\n",
      "2021-12-13 19:00:23.320594: I tensorflow/core/profiler/lib/profiler_session.cc:146] Profiler session started.\n",
      "2021-12-13 19:00:24.363111: I tensorflow/core/profiler/lib/profiler_session.cc:66] Profiler session collecting data.\n",
      "2021-12-13 19:00:24.365823: I tensorflow/core/profiler/internal/gpu/cupti_tracer.cc:1749] CUPTI activity buffer flushed\n",
      "2021-12-13 19:00:24.445866: I tensorflow/core/profiler/internal/gpu/cupti_collector.cc:673]  GpuTracer has collected 918 callback api events and 921 activity events. \n",
      "2021-12-13 19:00:24.477603: I tensorflow/core/profiler/lib/profiler_session.cc:164] Profiler session tear down.\n",
      "2021-12-13 19:00:24.565373: I tensorflow/core/profiler/rpc/client/save_profile.cc:136] Creating directory: ../urbangrammar_samba/spatial_signatures/ai/nw/logs/efficientnet_flatten_256_3/train/plugins/profile/2021_12_13_19_00_24\n",
      "\n",
      "2021-12-13 19:00:24.606119: I tensorflow/core/profiler/rpc/client/save_profile.cc:142] Dumped gzipped tool data for trace.json.gz to ../urbangrammar_samba/spatial_signatures/ai/nw/logs/efficientnet_flatten_256_3/train/plugins/profile/2021_12_13_19_00_24/985b7fd52aa6.trace.json.gz\n",
      "2021-12-13 19:00:24.657916: I tensorflow/core/profiler/rpc/client/save_profile.cc:136] Creating directory: ../urbangrammar_samba/spatial_signatures/ai/nw/logs/efficientnet_flatten_256_3/train/plugins/profile/2021_12_13_19_00_24\n",
      "\n",
      "2021-12-13 19:00:24.682292: I tensorflow/core/profiler/rpc/client/save_profile.cc:142] Dumped gzipped tool data for memory_profile.json.gz to ../urbangrammar_samba/spatial_signatures/ai/nw/logs/efficientnet_flatten_256_3/train/plugins/profile/2021_12_13_19_00_24/985b7fd52aa6.memory_profile.json.gz\n",
      "2021-12-13 19:00:24.740188: I tensorflow/core/profiler/rpc/client/capture_profile.cc:251] Creating directory: ../urbangrammar_samba/spatial_signatures/ai/nw/logs/efficientnet_flatten_256_3/train/plugins/profile/2021_12_13_19_00_24\n",
      "Dumped tool data for xplane.pb to ../urbangrammar_samba/spatial_signatures/ai/nw/logs/efficientnet_flatten_256_3/train/plugins/profile/2021_12_13_19_00_24/985b7fd52aa6.xplane.pb\n",
      "Dumped tool data for overview_page.pb to ../urbangrammar_samba/spatial_signatures/ai/nw/logs/efficientnet_flatten_256_3/train/plugins/profile/2021_12_13_19_00_24/985b7fd52aa6.overview_page.pb\n",
      "Dumped tool data for input_pipeline.pb to ../urbangrammar_samba/spatial_signatures/ai/nw/logs/efficientnet_flatten_256_3/train/plugins/profile/2021_12_13_19_00_24/985b7fd52aa6.input_pipeline.pb\n",
      "Dumped tool data for tensorflow_stats.pb to ../urbangrammar_samba/spatial_signatures/ai/nw/logs/efficientnet_flatten_256_3/train/plugins/profile/2021_12_13_19_00_24/985b7fd52aa6.tensorflow_stats.pb\n",
      "Dumped tool data for kernel_stats.pb to ../urbangrammar_samba/spatial_signatures/ai/nw/logs/efficientnet_flatten_256_3/train/plugins/profile/2021_12_13_19_00_24/985b7fd52aa6.kernel_stats.pb\n",
      "\n"
     ]
    },
    {
     "name": "stdout",
     "output_type": "stream",
     "text": [
      "INFO:tensorflow:Assets written to: ../urbangrammar_samba/spatial_signatures/ai/nw/model/efficientnet_flatten_256_3/assets\n"
     ]
    },
    {
     "name": "stderr",
     "output_type": "stream",
     "text": [
      "/usr/local/lib/python3.8/dist-packages/keras/utils/generic_utils.py:494: CustomMaskWarning: Custom mask layers require a config and must override get_config. When loading, the custom mask layer must be passed to the custom_objects argument.\n",
      "  warnings.warn('Custom mask layers require a config and must override '\n"
     ]
    },
    {
     "name": "stdout",
     "output_type": "stream",
     "text": [
      "perf_model_accuracy for train: 0.7812278866767883\n",
      "perf_model_accuracy for val: 0.7157643437385559\n",
      "perf_model_accuracy for secret: 0.717697024345398\n",
      "efficientnet flatten 256 done\n"
     ]
    },
    {
     "name": "stderr",
     "output_type": "stream",
     "text": [
      "2021-12-13 19:14:47.568759: I tensorflow/core/profiler/lib/profiler_session.cc:131] Profiler session initializing.\n",
      "2021-12-13 19:14:47.568788: I tensorflow/core/profiler/lib/profiler_session.cc:146] Profiler session started.\n",
      "2021-12-13 19:14:47.740268: I tensorflow/core/profiler/lib/profiler_session.cc:164] Profiler session tear down.\n",
      "2021-12-13 19:14:47.740436: I tensorflow/core/profiler/internal/gpu/cupti_tracer.cc:1749] CUPTI activity buffer flushed\n",
      "2021-12-13 19:14:57.065778: I tensorflow/core/profiler/lib/profiler_session.cc:131] Profiler session initializing.\n",
      "2021-12-13 19:14:57.065813: I tensorflow/core/profiler/lib/profiler_session.cc:146] Profiler session started.\n",
      "2021-12-13 19:14:58.356713: I tensorflow/core/profiler/lib/profiler_session.cc:66] Profiler session collecting data.\n",
      "2021-12-13 19:14:58.369544: I tensorflow/core/profiler/internal/gpu/cupti_tracer.cc:1749] CUPTI activity buffer flushed\n",
      "2021-12-13 19:14:58.451360: I tensorflow/core/profiler/internal/gpu/cupti_collector.cc:673]  GpuTracer has collected 918 callback api events and 921 activity events. \n",
      "2021-12-13 19:14:58.477894: I tensorflow/core/profiler/lib/profiler_session.cc:164] Profiler session tear down.\n",
      "2021-12-13 19:14:58.637805: I tensorflow/core/profiler/rpc/client/save_profile.cc:136] Creating directory: ../urbangrammar_samba/spatial_signatures/ai/nw/logs/efficientnet_flatten_512_3/train/plugins/profile/2021_12_13_19_14_58\n",
      "\n",
      "2021-12-13 19:14:58.691931: I tensorflow/core/profiler/rpc/client/save_profile.cc:142] Dumped gzipped tool data for trace.json.gz to ../urbangrammar_samba/spatial_signatures/ai/nw/logs/efficientnet_flatten_512_3/train/plugins/profile/2021_12_13_19_14_58/985b7fd52aa6.trace.json.gz\n",
      "2021-12-13 19:14:58.768308: I tensorflow/core/profiler/rpc/client/save_profile.cc:136] Creating directory: ../urbangrammar_samba/spatial_signatures/ai/nw/logs/efficientnet_flatten_512_3/train/plugins/profile/2021_12_13_19_14_58\n",
      "\n",
      "2021-12-13 19:14:58.783058: I tensorflow/core/profiler/rpc/client/save_profile.cc:142] Dumped gzipped tool data for memory_profile.json.gz to ../urbangrammar_samba/spatial_signatures/ai/nw/logs/efficientnet_flatten_512_3/train/plugins/profile/2021_12_13_19_14_58/985b7fd52aa6.memory_profile.json.gz\n",
      "2021-12-13 19:14:58.845335: I tensorflow/core/profiler/rpc/client/capture_profile.cc:251] Creating directory: ../urbangrammar_samba/spatial_signatures/ai/nw/logs/efficientnet_flatten_512_3/train/plugins/profile/2021_12_13_19_14_58\n",
      "Dumped tool data for xplane.pb to ../urbangrammar_samba/spatial_signatures/ai/nw/logs/efficientnet_flatten_512_3/train/plugins/profile/2021_12_13_19_14_58/985b7fd52aa6.xplane.pb\n",
      "Dumped tool data for overview_page.pb to ../urbangrammar_samba/spatial_signatures/ai/nw/logs/efficientnet_flatten_512_3/train/plugins/profile/2021_12_13_19_14_58/985b7fd52aa6.overview_page.pb\n",
      "Dumped tool data for input_pipeline.pb to ../urbangrammar_samba/spatial_signatures/ai/nw/logs/efficientnet_flatten_512_3/train/plugins/profile/2021_12_13_19_14_58/985b7fd52aa6.input_pipeline.pb\n",
      "Dumped tool data for tensorflow_stats.pb to ../urbangrammar_samba/spatial_signatures/ai/nw/logs/efficientnet_flatten_512_3/train/plugins/profile/2021_12_13_19_14_58/985b7fd52aa6.tensorflow_stats.pb\n",
      "Dumped tool data for kernel_stats.pb to ../urbangrammar_samba/spatial_signatures/ai/nw/logs/efficientnet_flatten_512_3/train/plugins/profile/2021_12_13_19_14_58/985b7fd52aa6.kernel_stats.pb\n",
      "\n"
     ]
    },
    {
     "name": "stdout",
     "output_type": "stream",
     "text": [
      "INFO:tensorflow:Assets written to: ../urbangrammar_samba/spatial_signatures/ai/nw/model/efficientnet_flatten_512_3/assets\n"
     ]
    },
    {
     "name": "stderr",
     "output_type": "stream",
     "text": [
      "/usr/local/lib/python3.8/dist-packages/keras/utils/generic_utils.py:494: CustomMaskWarning: Custom mask layers require a config and must override get_config. When loading, the custom mask layer must be passed to the custom_objects argument.\n",
      "  warnings.warn('Custom mask layers require a config and must override '\n"
     ]
    },
    {
     "name": "stdout",
     "output_type": "stream",
     "text": [
      "perf_model_accuracy for train: 0.7561925053596497\n",
      "perf_model_accuracy for val: 0.6971868276596069\n",
      "perf_model_accuracy for secret: 0.7028389573097229\n",
      "efficientnet flatten 512 done\n"
     ]
    },
    {
     "name": "stderr",
     "output_type": "stream",
     "text": [
      "2021-12-13 19:30:46.534367: I tensorflow/core/profiler/lib/profiler_session.cc:131] Profiler session initializing.\n",
      "2021-12-13 19:30:46.534398: I tensorflow/core/profiler/lib/profiler_session.cc:146] Profiler session started.\n",
      "2021-12-13 19:30:46.726172: I tensorflow/core/profiler/lib/profiler_session.cc:164] Profiler session tear down.\n",
      "2021-12-13 19:30:46.726306: I tensorflow/core/profiler/internal/gpu/cupti_tracer.cc:1749] CUPTI activity buffer flushed\n",
      "2021-12-13 19:30:53.053855: I tensorflow/core/profiler/lib/profiler_session.cc:131] Profiler session initializing.\n",
      "2021-12-13 19:30:53.053892: I tensorflow/core/profiler/lib/profiler_session.cc:146] Profiler session started.\n",
      "2021-12-13 19:30:54.174464: I tensorflow/core/profiler/lib/profiler_session.cc:66] Profiler session collecting data.\n",
      "2021-12-13 19:30:54.180249: I tensorflow/core/profiler/internal/gpu/cupti_tracer.cc:1749] CUPTI activity buffer flushed\n",
      "2021-12-13 19:30:54.227415: I tensorflow/core/profiler/internal/gpu/cupti_collector.cc:673]  GpuTracer has collected 918 callback api events and 921 activity events. \n",
      "2021-12-13 19:30:54.254589: I tensorflow/core/profiler/lib/profiler_session.cc:164] Profiler session tear down.\n",
      "2021-12-13 19:30:54.376826: I tensorflow/core/profiler/rpc/client/save_profile.cc:136] Creating directory: ../urbangrammar_samba/spatial_signatures/ai/nw/logs/efficientnet_pooling_128_3/train/plugins/profile/2021_12_13_19_30_54\n",
      "\n",
      "2021-12-13 19:30:54.419039: I tensorflow/core/profiler/rpc/client/save_profile.cc:142] Dumped gzipped tool data for trace.json.gz to ../urbangrammar_samba/spatial_signatures/ai/nw/logs/efficientnet_pooling_128_3/train/plugins/profile/2021_12_13_19_30_54/985b7fd52aa6.trace.json.gz\n",
      "2021-12-13 19:30:54.478718: I tensorflow/core/profiler/rpc/client/save_profile.cc:136] Creating directory: ../urbangrammar_samba/spatial_signatures/ai/nw/logs/efficientnet_pooling_128_3/train/plugins/profile/2021_12_13_19_30_54\n",
      "\n",
      "2021-12-13 19:30:54.492387: I tensorflow/core/profiler/rpc/client/save_profile.cc:142] Dumped gzipped tool data for memory_profile.json.gz to ../urbangrammar_samba/spatial_signatures/ai/nw/logs/efficientnet_pooling_128_3/train/plugins/profile/2021_12_13_19_30_54/985b7fd52aa6.memory_profile.json.gz\n",
      "2021-12-13 19:30:54.549244: I tensorflow/core/profiler/rpc/client/capture_profile.cc:251] Creating directory: ../urbangrammar_samba/spatial_signatures/ai/nw/logs/efficientnet_pooling_128_3/train/plugins/profile/2021_12_13_19_30_54\n",
      "Dumped tool data for xplane.pb to ../urbangrammar_samba/spatial_signatures/ai/nw/logs/efficientnet_pooling_128_3/train/plugins/profile/2021_12_13_19_30_54/985b7fd52aa6.xplane.pb\n",
      "Dumped tool data for overview_page.pb to ../urbangrammar_samba/spatial_signatures/ai/nw/logs/efficientnet_pooling_128_3/train/plugins/profile/2021_12_13_19_30_54/985b7fd52aa6.overview_page.pb\n",
      "Dumped tool data for input_pipeline.pb to ../urbangrammar_samba/spatial_signatures/ai/nw/logs/efficientnet_pooling_128_3/train/plugins/profile/2021_12_13_19_30_54/985b7fd52aa6.input_pipeline.pb\n",
      "Dumped tool data for tensorflow_stats.pb to ../urbangrammar_samba/spatial_signatures/ai/nw/logs/efficientnet_pooling_128_3/train/plugins/profile/2021_12_13_19_30_54/985b7fd52aa6.tensorflow_stats.pb\n",
      "Dumped tool data for kernel_stats.pb to ../urbangrammar_samba/spatial_signatures/ai/nw/logs/efficientnet_pooling_128_3/train/plugins/profile/2021_12_13_19_30_54/985b7fd52aa6.kernel_stats.pb\n",
      "\n"
     ]
    }
   ],
   "source": [
    "model_specs = {\n",
    "    'meta_class_map': group_mapping,\n",
    "    'meta_class_names': [\"centres\", \"periphery\", \"countryside\"],\n",
    "    'meta_chip_size': 32,\n",
    "}\n",
    "\n",
    "for model_name, bridge, neurons in product([\"resnet50\", \"vgg19\", \"efficientnet\"], [\"flatten\", \"pooling\"], [128, 256, 512]):\n",
    "    model = model_builder.model_builder(\n",
    "        model_name=model_name, \n",
    "        bridge=bridge, \n",
    "        top_layer_neurons=neurons,\n",
    "        n_labels=3,\n",
    "    )\n",
    "\n",
    "    h = tools_keras.fit_phase(\n",
    "        model,\n",
    "        train_dataset,\n",
    "        validation_dataset,\n",
    "        secret_dataset,\n",
    "        log_folder=specs[\"folder\"] + \"logs\",\n",
    "        pred_folder=specs[\"folder\"] + \"pred\",\n",
    "        model_folder=specs[\"folder\"] + \"model\",\n",
    "        json_folder=specs[\"folder\"] + \"json\",\n",
    "        specs=model_specs,\n",
    "        epochs=250,\n",
    "        patience=5,\n",
    "        verbose=False,\n",
    "\n",
    "    )\n",
    "    print(model_name, bridge, neurons, \"done\")"
   ]
  },
  {
   "cell_type": "code",
   "execution_count": 54,
   "id": "43c5af2e",
   "metadata": {},
   "outputs": [],
   "source": [
    "# tools_keras.flush(specs[\"folder\"])"
   ]
  },
  {
   "cell_type": "code",
   "execution_count": null,
   "id": "db3a6bfd",
   "metadata": {},
   "outputs": [],
   "source": []
  }
 ],
 "metadata": {
  "kernelspec": {
   "display_name": "Python 3 (ipykernel)",
   "language": "python",
   "name": "python3"
  },
  "language_info": {
   "codemirror_mode": {
    "name": "ipython",
    "version": 3
   },
   "file_extension": ".py",
   "mimetype": "text/x-python",
   "name": "python",
   "nbconvert_exporter": "python",
   "pygments_lexer": "ipython3",
   "version": "3.8.10"
  }
 },
 "nbformat": 4,
 "nbformat_minor": 5
}
