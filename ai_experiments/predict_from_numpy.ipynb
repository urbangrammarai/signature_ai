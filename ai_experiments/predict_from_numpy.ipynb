{
 "cells": [
  {
   "cell_type": "code",
   "execution_count": null,
   "id": "89ced4cc",
   "metadata": {},
   "outputs": [],
   "source": [
    "# Predict "
   ]
  },
  {
   "cell_type": "code",
   "execution_count": 1,
   "id": "e751a2ad",
   "metadata": {},
   "outputs": [],
   "source": [
    "from tensorflow import keras\n",
    "import numpy"
   ]
  },
  {
   "cell_type": "code",
   "execution_count": 2,
   "id": "7874203a",
   "metadata": {},
   "outputs": [
    {
     "name": "stderr",
     "output_type": "stream",
     "text": [
      "2022-03-02 10:40:25.878532: I tensorflow/core/common_runtime/gpu/gpu_device.cc:1510] Created device /job:localhost/replica:0/task:0/device:GPU:0 with 6504 MB memory:  -> device: 0, name: Quadro RTX 4000, pci bus id: 0000:21:00.0, compute capability: 7.5\n"
     ]
    }
   ],
   "source": [
    "model = keras.models.load_model(\"../../urbangrammar_samba/spatial_signatures/ai/gb_32_shuffled/model/efficientnet_pooling_256_12.keras\")"
   ]
  },
  {
   "cell_type": "code",
   "execution_count": 3,
   "id": "4ce27b2e",
   "metadata": {},
   "outputs": [],
   "source": [
    "chips = numpy.load('../../chips/32_nw.npy')"
   ]
  },
  {
   "cell_type": "code",
   "execution_count": 4,
   "id": "0b598b9e",
   "metadata": {},
   "outputs": [
    {
     "data": {
      "text/plain": [
       "<keras.engine.functional.Functional at 0x7f53f138bf70>"
      ]
     },
     "execution_count": 4,
     "metadata": {},
     "output_type": "execute_result"
    }
   ],
   "source": [
    "model"
   ]
  },
  {
   "cell_type": "code",
   "execution_count": 5,
   "id": "e7d751e9",
   "metadata": {},
   "outputs": [],
   "source": [
    "inp = keras.layers.Input(shape=(32, 32, 3)) \n",
    "x = keras.layers.Resizing(224, 224, crop_to_aspect_ratio=True)(inp)\n",
    "x = model(x, training=False)\n",
    "model_pred = keras.Model(\n",
    "        inp,\n",
    "        x,\n",
    ")"
   ]
  },
  {
   "cell_type": "code",
   "execution_count": 6,
   "id": "7789da0b",
   "metadata": {},
   "outputs": [],
   "source": [
    "model_pred.compile()"
   ]
  },
  {
   "cell_type": "code",
   "execution_count": 7,
   "id": "a1b3a12d",
   "metadata": {},
   "outputs": [
    {
     "name": "stderr",
     "output_type": "stream",
     "text": [
      "2022-03-02 10:40:33.482011: I tensorflow/compiler/mlir/mlir_graph_optimization_pass.cc:185] None of the MLIR Optimization Passes are enabled (registered 2)\n",
      "2022-03-02 10:40:37.014401: I tensorflow/stream_executor/cuda/cuda_dnn.cc:381] Loaded cuDNN version 8300\n"
     ]
    }
   ],
   "source": [
    "proba = model_pred.predict(chips)"
   ]
  },
  {
   "cell_type": "code",
   "execution_count": 9,
   "id": "9cb0551c",
   "metadata": {},
   "outputs": [],
   "source": [
    "numpy.save(\"../../chips/32_nw_pred.npy\", proba)"
   ]
  },
  {
   "cell_type": "code",
   "execution_count": 71,
   "id": "9916a12f",
   "metadata": {},
   "outputs": [
    {
     "name": "stdout",
     "output_type": "stream",
     "text": [
      "Found 20514 images belonging to 12 classes.\n"
     ]
    }
   ],
   "source": [
    "train_datagen = keras.preprocessing.image.ImageDataGenerator()\n",
    "train_generator = train_datagen.flow_from_directory(\n",
    "    \"../chips_gb/32_shuffled_balanced_12/secret/\",\n",
    "    target_size=(224, 224),\n",
    "    batch_size=32,\n",
    "    class_mode='sparse')"
   ]
  },
  {
   "cell_type": "code",
   "execution_count": 72,
   "id": "574e701a",
   "metadata": {},
   "outputs": [
    {
     "data": {
      "text/plain": [
       "{'0': 0,\n",
       " '1': 1,\n",
       " '10': 2,\n",
       " '11': 3,\n",
       " '2': 4,\n",
       " '3': 5,\n",
       " '4': 6,\n",
       " '5': 7,\n",
       " '6': 8,\n",
       " '7': 9,\n",
       " '8': 10,\n",
       " '9': 11}"
      ]
     },
     "execution_count": 72,
     "metadata": {},
     "output_type": "execute_result"
    }
   ],
   "source": [
    "train_generator.class_indices"
   ]
  },
  {
   "cell_type": "code",
   "execution_count": null,
   "id": "2a0cb97b",
   "metadata": {},
   "outputs": [],
   "source": []
  }
 ],
 "metadata": {
  "kernelspec": {
   "display_name": "Python 3 (ipykernel)",
   "language": "python",
   "name": "python3"
  },
  "language_info": {
   "codemirror_mode": {
    "name": "ipython",
    "version": 3
   },
   "file_extension": ".py",
   "mimetype": "text/x-python",
   "name": "python",
   "nbconvert_exporter": "python",
   "pygments_lexer": "ipython3",
   "version": "3.8.10"
  }
 },
 "nbformat": 4,
 "nbformat_minor": 5
}
