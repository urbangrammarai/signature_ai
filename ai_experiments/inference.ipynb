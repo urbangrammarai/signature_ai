{
 "cells": [
  {
   "cell_type": "code",
   "execution_count": 1,
   "id": "4e0d0b45",
   "metadata": {},
   "outputs": [],
   "source": [
    "import keras\n",
    "import numpy\n",
    "import pandas\n",
    "from pathlib import Path"
   ]
  },
  {
   "cell_type": "code",
   "execution_count": null,
   "id": "eb4b872f",
   "metadata": {},
   "outputs": [
    {
     "name": "stderr",
     "output_type": "stream",
     "text": [
      "2022-08-11 08:52:08.962512: I tensorflow/core/common_runtime/gpu/gpu_device.cc:1525] Created device /job:localhost/replica:0/task:0/device:GPU:0 with 6619 MB memory:  -> device: 0, name: Quadro RTX 4000, pci bus id: 0000:21:00.0, compute capability: 7.5\n",
      "2022-08-11 08:52:28.256477: I tensorflow/stream_executor/cuda/cuda_dnn.cc:377] Loaded cuDNN version 8302\n"
     ]
    },
    {
     "name": "stdout",
     "output_type": "stream",
     "text": [
      "8, image done\n",
      "8, multi done\n",
      "8, slided done\n",
      "16, image done\n",
      "16, multi done\n",
      "16, slided done\n",
      "32, image done\n",
      "32, multi done\n"
     ]
    },
    {
     "name": "stderr",
     "output_type": "stream",
     "text": [
      "2022-08-11 11:54:26.309065: W tensorflow/core/framework/cpu_allocator_impl.cc:82] Allocation of 2769524736 exceeds 10% of free system memory.\n",
      "2022-08-11 11:54:27.750516: W tensorflow/core/framework/cpu_allocator_impl.cc:82] Allocation of 2769524736 exceeds 10% of free system memory.\n"
     ]
    },
    {
     "name": "stdout",
     "output_type": "stream",
     "text": [
      "32, slided done\n",
      "64, image done\n",
      "64, multi done\n"
     ]
    },
    {
     "name": "stderr",
     "output_type": "stream",
     "text": [
      "2022-08-11 12:51:51.835919: W tensorflow/core/framework/cpu_allocator_impl.cc:82] Allocation of 4585033728 exceeds 10% of free system memory.\n",
      "2022-08-11 12:51:54.231858: W tensorflow/core/framework/cpu_allocator_impl.cc:82] Allocation of 4585033728 exceeds 10% of free system memory.\n"
     ]
    }
   ],
   "source": [
    "for chip_size in [8, 16, 32, 64]:\n",
    "    for arch in [\"image\", \"multi\", \"slided\"]:\n",
    "        app = f\"_{arch}\" if arch != \"image\" else \"\"\n",
    "        specs = {\n",
    "            'chips': f\"../../chips_gb/v2_{chip_size}{app}.npy\",\n",
    "        }\n",
    "        chips = numpy.load(specs[\"chips\"])\n",
    "        p = Path(specs['chips'])\n",
    "        model = keras.models.load_model(f\"../../ai/v2_gb_{p.stem[3:]}/model/efficientnet_pooling_256_12_best/\")\n",
    "        prediction = model.predict(chips)\n",
    "        numpy.save(p.parent.joinpath(p.stem + '_prediction.npy'), prediction)\n",
    "        print(f\"{chip_size}, {arch} done\")"
   ]
  },
  {
   "cell_type": "code",
   "execution_count": 3,
   "id": "5581dea5",
   "metadata": {},
   "outputs": [],
   "source": [
    "model = keras.models.load_model(f\"../../ai/v2_gb_{p.stem[3:]}/model/efficientnet_pooling_256_12_best/\")"
   ]
  },
  {
   "cell_type": "code",
   "execution_count": 4,
   "id": "3db0f837",
   "metadata": {},
   "outputs": [
    {
     "data": {
      "text/plain": [
       "['dense_7']"
      ]
     },
     "execution_count": 4,
     "metadata": {},
     "output_type": "execute_result"
    }
   ],
   "source": [
    "model.output_names"
   ]
  },
  {
   "cell_type": "code",
   "execution_count": 5,
   "id": "9cef2cd0",
   "metadata": {},
   "outputs": [
    {
     "data": {
      "text/plain": [
       "[<KerasTensor: shape=(None, 64, 64, 3) dtype=float32 (created by layer 'input_8')>]"
      ]
     },
     "execution_count": 5,
     "metadata": {},
     "output_type": "execute_result"
    }
   ],
   "source": [
    "model.inputs"
   ]
  },
  {
   "cell_type": "code",
   "execution_count": 8,
   "id": "824f67c8",
   "metadata": {},
   "outputs": [],
   "source": [
    "    from model_builder import model_builder, relabel, class_merger, balancer\n",
    "    import tensorflow as tf\n",
    "\n",
    "    \n",
    "    chip_size = 32\n",
    "    \n",
    "    specs = {\n",
    "        'chips': f\"../../chips_gb/v2_{chip_size}.npy\",\n",
    "        'labels': f\"../../chips_gb/v2_{chip_size}_labels.parquet\",\n",
    "        'folder': f\"../../ai/v2_gb_{chip_size}_slided/\",\n",
    "    }\n",
    "\n",
    "    chips = numpy.load(specs['chips'])\n",
    "    labels = pandas.read_parquet(specs['labels'], columns=['signature_type', 'split'])\n",
    "\n",
    "    sorter = numpy.arange(0, chips.shape[0])\n",
    "    numpy.random.shuffle(sorter)\n",
    "    chips = chips[sorter]\n",
    "    labels = labels.iloc[sorter].reset_index(drop=True)\n",
    "\n",
    "    group_mapping = [\n",
    "        ['9_0', '9_1', '9_2', '9_4', '9_5'],\n",
    "        ['2_0'], \n",
    "        ['2_1'], \n",
    "        ['2_2'],\n",
    "        ['1_0'], \n",
    "        ['3_0'], \n",
    "        ['5_0'], \n",
    "        ['6_0'], \n",
    "        ['8_0'],\n",
    "        ['0_0'],\n",
    "        ['4_0'],\n",
    "        ['7_0']\n",
    "    ]\n",
    "\n",
    "    group_naming = [\n",
    "        \"Urbanity\", \n",
    "        \"Dense residential neighbourhoods\",\n",
    "        \"Connected residential neighbourhoods\",\n",
    "        \"Dense urban neighbourhoods\",\n",
    "        \"Accessible suburbia\",\n",
    "        \"Open sprawl\",\n",
    "        \"Warehouse_Park land\",\n",
    "        \"Gridded residential quarters\",\n",
    "        \"Disconnected suburbia\",\n",
    "        \"Countryside agriculture\", \n",
    "        \"Wild countryside\", \n",
    "        \"Urban buffer\"\n",
    "    ]\n",
    "\n",
    "    mask = labels.split.str.startswith('nn')\n",
    "    labels_nn = labels[mask]\n",
    "    chips_nn = chips[mask]\n",
    "\n",
    "    labels_merged = class_merger(labels_nn.signature_type, group_mapping)\n",
    "\n",
    "    train_mask = labels_nn['split'] == \"nn_train\"\n",
    "\n",
    "    train_dataset = tf.data.Dataset.from_tensor_slices((chips_nn[train_mask], labels_merged[train_mask]))"
   ]
  },
  {
   "cell_type": "code",
   "execution_count": 9,
   "id": "f0bdb541",
   "metadata": {},
   "outputs": [
    {
     "data": {
      "text/plain": [
       "array([ 9, 10,  6, ..., 11, 11, 10])"
      ]
     },
     "execution_count": 9,
     "metadata": {},
     "output_type": "execute_result"
    }
   ],
   "source": [
    "labels_merged[train_mask]"
   ]
  },
  {
   "cell_type": "code",
   "execution_count": null,
   "id": "94c8e6e3",
   "metadata": {},
   "outputs": [],
   "source": []
  }
 ],
 "metadata": {
  "kernelspec": {
   "display_name": "Python 3 (ipykernel)",
   "language": "python",
   "name": "python3"
  },
  "language_info": {
   "codemirror_mode": {
    "name": "ipython",
    "version": 3
   },
   "file_extension": ".py",
   "mimetype": "text/x-python",
   "name": "python",
   "nbconvert_exporter": "python",
   "pygments_lexer": "ipython3",
   "version": "3.8.10"
  }
 },
 "nbformat": 4,
 "nbformat_minor": 5
}
