{
 "cells": [
  {
   "cell_type": "markdown",
   "id": "4bb5ae3c-543f-46bc-8aec-2d6dbb05205e",
   "metadata": {},
   "source": [
    "# Spatial modelling of probabilities in production: all GB"
   ]
  },
  {
   "cell_type": "markdown",
   "id": "8afb4261-40ea-4980-9c45-4f885cb1ee5d",
   "metadata": {},
   "source": [
    "This document contains the code used to perform spatial modeling of probabilities as deployed for the case of GB. It is the production version of [`sp_model_chip_probabilities`](sp_model_chip_probabilities).\n",
    "\n",
    "The following models are fitted:\n",
    "\n",
    "1. `argmax`: pick the top probability from those produced for the chip by the neural net\n",
    "1. `logit`: fit a Logit model using the chip probabilities from the neural net\n",
    "1. `logit_wx`: fit a Logit model using the chip probabilities _and_ the spatial lag of chip probabilities (i.g., using also the probabilities from neighboring chips)\n",
    "1. `gbt`: fit a histogram-based gradient boosted tree model using the chip probabilities from the neural net\n",
    "1. `gbt_wx`: fit a histogram-based gradient boosted tree model using the chip probabilities _and_ the spatial lag of chip probabilities (i.g., using also the probabilities from neighboring chips)\n",
    "\n",
    "These five models will be fitted to neuralnet results with the following features:\n",
    "\n",
    "- Chip size (`8`, `16`, `32`, `64`)\n",
    "- Architecture (base image classification, slided image classiffication, multi-output regression)\n",
    "\n",
    "Each combination contains three original files:\n",
    "\n",
    "- `XXX.npy`: original chips (`N x S x S x 3` with `S` being chip size)\n",
    "- `XXX_prediction.npy`: predicted probabilities (`N x 12`)\n",
    "- `XXX_labels.parquet`: geo-table with all the chip geometries, their split (`nn_train`, `nn_val`, `ml_train`, `ml_val`) and proportion of the chip assined into each label\n",
    "\n",
    "This notebooks will generate single-class predictions for each combination and store them on disk (together with their geometries and true labels). The file name format will be:\n",
    "\n",
    "> `pred_SS_AAA_model.parquet`\n",
    "\n",
    "- `SS` is size (`8`, `16`, `32`, `64`)\n",
    "- `AAA` is the architecture (`bic`, `sic`, `mor`)\n",
    "- `model` is the modelling approach used to generate the class prediction (`argmax`, `logit`, `logit_wx`, `gbt`, `gbt_wx`)\n",
    "\n",
    "To generate a single instance of the file above, we need to perform the following steps:\n",
    "\n",
    "- Pull data for the instance\n",
    "- Build spatial weights for training and validation\n",
    "- Train model\n",
    "- Use validation to get predictions\n",
    "- Write them out to disk\n"
   ]
  },
  {
   "cell_type": "code",
   "execution_count": 43,
   "id": "a4718bba-c608-4dbe-8c37-d2b247fd72a7",
   "metadata": {},
   "outputs": [],
   "source": [
    "import os\n",
    "import pandas\n",
    "import geopandas\n",
    "import numpy as np\n",
    "import tools_chip_prob_modelling as tools\n",
    "\n",
    "data_p = '/home/jovyan/data/spatial_signatures/chip_probs/prod_probs/'\n",
    "\n",
    "chip_sizes = [8, 16, 32, 64]\n",
    "archs = ['bic', 'sic', 'mor']\n",
    "models = ['argmax', 'logit', 'logit_wx', 'gbt', 'gbt_wx']"
   ]
  },
  {
   "cell_type": "markdown",
   "id": "bf060b1a-06d2-4e33-8ae1-cbfd270d2bd1",
   "metadata": {},
   "source": []
  },
  {
   "cell_type": "code",
   "execution_count": 36,
   "id": "714e2814-e760-400d-bb40-50335f99442e",
   "metadata": {},
   "outputs": [
    {
     "data": {
      "text/plain": [
       "7            16_labels.parquet\n",
       "3      16_multi_labels.parquet\n",
       "0     16_slided_labels.parquet\n",
       "2            32_labels.parquet\n",
       "10     32_multi_labels.parquet\n",
       "5     32_slided_labels.parquet\n",
       "6            64_labels.parquet\n",
       "11     64_multi_labels.parquet\n",
       "1     64_slided_labels.parquet\n",
       "8             8_labels.parquet\n",
       "4       8_multi_labels.parquet\n",
       "9      8_slided_labels.parquet\n",
       "dtype: object"
      ]
     },
     "execution_count": 36,
     "metadata": {},
     "output_type": "execute_result"
    }
   ],
   "source": [
    "pandas.Series(\n",
    "    [i[3:] for i in\n",
    " os.listdir(data_p)\n",
    "    if ('v2_' in i) and ('.parquet' in i)]\n",
    ").sort_values()"
   ]
  },
  {
   "cell_type": "code",
   "execution_count": 38,
   "id": "b9d37661-a021-481d-890b-71d315371b51",
   "metadata": {},
   "outputs": [],
   "source": [
    "a1 = geopandas.read_parquet(\n",
    "    data_p+'/v2_16_multi_labels.parquet'\n",
    ")\n",
    "a2 = geopandas.read_parquet(\n",
    "    data_p+'/v2_16_slided_labels.parquet'\n",
    ")"
   ]
  },
  {
   "cell_type": "code",
   "execution_count": 39,
   "id": "d1f8007e-5e4e-4eb7-b455-157cfc14e5d6",
   "metadata": {},
   "outputs": [
    {
     "data": {
      "text/plain": [
       "(126016, 22)"
      ]
     },
     "execution_count": 39,
     "metadata": {},
     "output_type": "execute_result"
    }
   ],
   "source": [
    "a1.shape"
   ]
  },
  {
   "cell_type": "code",
   "execution_count": 41,
   "id": "52f7b93a-8136-4953-b2c2-1538467a5619",
   "metadata": {},
   "outputs": [
    {
     "data": {
      "text/plain": [
       "(1087827, 3)"
      ]
     },
     "execution_count": 41,
     "metadata": {},
     "output_type": "execute_result"
    }
   ],
   "source": [
    "a2.shape"
   ]
  }
 ],
 "metadata": {
  "kernelspec": {
   "display_name": "Python 3 (ipykernel)",
   "language": "python",
   "name": "python3"
  },
  "language_info": {
   "codemirror_mode": {
    "name": "ipython",
    "version": 3
   },
   "file_extension": ".py",
   "mimetype": "text/x-python",
   "name": "python",
   "nbconvert_exporter": "python",
   "pygments_lexer": "ipython3",
   "version": "3.9.12"
  }
 },
 "nbformat": 4,
 "nbformat_minor": 5
}
