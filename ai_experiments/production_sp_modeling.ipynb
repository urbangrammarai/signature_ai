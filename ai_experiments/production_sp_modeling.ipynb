{
 "cells": [
  {
   "cell_type": "markdown",
   "id": "4bb5ae3c-543f-46bc-8aec-2d6dbb05205e",
   "metadata": {},
   "source": [
    "# Spatial modelling of probabilities in production: all GB"
   ]
  },
  {
   "cell_type": "markdown",
   "id": "8afb4261-40ea-4980-9c45-4f885cb1ee5d",
   "metadata": {},
   "source": [
    "This document contains the code used to perform spatial modeling of probabilities as deployed for the case of GB. It is the production version of [`sp_model_chip_probabilities`](sp_model_chip_probabilities).\n",
    "\n",
    "The following models are fitted:\n",
    "\n",
    "1. `argmax`: pick the top probability from those produced for the chip by the neural net\n",
    "1. `logit`: fit a Logit model using the chip probabilities from the neural net\n",
    "1. `logit_wx`: fit a Logit model using the chip probabilities _and_ the spatial lag of chip probabilities (i.g., using also the probabilities from neighboring chips)\n",
    "1. `gbtree`: fit a histogram-based gradient boosted tree model using the chip probabilities from the neural net\n",
    "1. `gbtree_wx`: fit a histogram-based gradient boosted tree model using the chip probabilities _and_ the spatial lag of chip probabilities (i.g., using also the probabilities from neighboring chips)\n",
    "\n",
    "These five models will be fitted to the results from "
   ]
  }
 ],
 "metadata": {
  "kernelspec": {
   "display_name": "Python 3 (ipykernel)",
   "language": "python",
   "name": "python3"
  },
  "language_info": {
   "codemirror_mode": {
    "name": "ipython",
    "version": 3
   },
   "file_extension": ".py",
   "mimetype": "text/x-python",
   "name": "python",
   "nbconvert_exporter": "python",
   "pygments_lexer": "ipython3",
   "version": "3.9.12"
  }
 },
 "nbformat": 4,
 "nbformat_minor": 5
}
