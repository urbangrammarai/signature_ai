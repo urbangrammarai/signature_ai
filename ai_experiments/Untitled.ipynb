{
 "cells": [
  {
   "cell_type": "code",
   "execution_count": 24,
   "id": "524a67bb-3fe0-40e0-b181-30db701462b9",
   "metadata": {
    "tags": []
   },
   "outputs": [],
   "source": [
    "import numpy\n",
    "import pandas\n",
    "from itertools import product"
   ]
  },
  {
   "cell_type": "code",
   "execution_count": 17,
   "id": "b6a8e5e8-8708-4e21-86f5-c0cf697969c3",
   "metadata": {
    "tags": []
   },
   "outputs": [
    {
     "data": {
      "text/plain": [
       "(534729, 8, 8, 3)"
      ]
     },
     "execution_count": 17,
     "metadata": {},
     "output_type": "execute_result"
    }
   ],
   "source": [
    "numpy.load(\"../../chips_gb/v2_8.npy\").shape"
   ]
  },
  {
   "cell_type": "code",
   "execution_count": 18,
   "id": "5f537ddd-cff3-44e9-8787-dcc8036fecf9",
   "metadata": {
    "tags": []
   },
   "outputs": [
    {
     "data": {
      "text/plain": [
       "(331459, 16, 16, 3)"
      ]
     },
     "execution_count": 18,
     "metadata": {},
     "output_type": "execute_result"
    }
   ],
   "source": [
    "numpy.load(\"../../chips_gb/v2_16.npy\").shape"
   ]
  },
  {
   "cell_type": "code",
   "execution_count": 19,
   "id": "1b2d7f7f-1fa0-4c0b-8803-1d44406c733c",
   "metadata": {
    "tags": []
   },
   "outputs": [
    {
     "data": {
      "text/plain": [
       "(179261, 32, 32, 3)"
      ]
     },
     "execution_count": 19,
     "metadata": {},
     "output_type": "execute_result"
    }
   ],
   "source": [
    "numpy.load(\"../../chips_gb/v2_32.npy\").shape"
   ]
  },
  {
   "cell_type": "code",
   "execution_count": 20,
   "id": "350292b7-9a65-41c4-bae0-8c0dcd965896",
   "metadata": {
    "tags": []
   },
   "outputs": [
    {
     "data": {
      "text/plain": [
       "(132619, 64, 64, 3)"
      ]
     },
     "execution_count": 20,
     "metadata": {},
     "output_type": "execute_result"
    }
   ],
   "source": [
    "numpy.load(\"../../chips_gb/v2_64.npy\").shape"
   ]
  },
  {
   "cell_type": "markdown",
   "id": "4dd09707-6f37-41ad-9106-93fa97fd620b",
   "metadata": {},
   "source": [
    "MOR"
   ]
  },
  {
   "cell_type": "code",
   "execution_count": 11,
   "id": "a4f8cce8-78d5-4c76-9758-d7be810e6bb6",
   "metadata": {
    "tags": []
   },
   "outputs": [
    {
     "data": {
      "text/plain": [
       "(135264, 8, 8, 3)"
      ]
     },
     "execution_count": 11,
     "metadata": {},
     "output_type": "execute_result"
    }
   ],
   "source": [
    "numpy.load(\"../../chips_gb/v2_8_multi.npy\").shape"
   ]
  },
  {
   "cell_type": "code",
   "execution_count": 12,
   "id": "886ae726-794e-4191-ad0a-79e9aaf6f443",
   "metadata": {
    "tags": []
   },
   "outputs": [
    {
     "data": {
      "text/plain": [
       "(126016, 16, 16, 3)"
      ]
     },
     "execution_count": 12,
     "metadata": {},
     "output_type": "execute_result"
    }
   ],
   "source": [
    "numpy.load(\"../../chips_gb/v2_16_multi.npy\").shape"
   ]
  },
  {
   "cell_type": "code",
   "execution_count": 9,
   "id": "2ce51fae-0e26-4efa-9132-b21663ac134c",
   "metadata": {
    "tags": []
   },
   "outputs": [
    {
     "data": {
      "text/plain": [
       "(112196, 32, 32, 3)"
      ]
     },
     "execution_count": 9,
     "metadata": {},
     "output_type": "execute_result"
    }
   ],
   "source": [
    "numpy.load(\"../../chips_gb/v2_32_multi.npy\").shape"
   ]
  },
  {
   "cell_type": "code",
   "execution_count": 10,
   "id": "b05cb503-3c1b-4571-a20e-c0edbef396ad",
   "metadata": {
    "tags": []
   },
   "outputs": [
    {
     "data": {
      "text/plain": [
       "(94960, 64, 64, 3)"
      ]
     },
     "execution_count": 10,
     "metadata": {},
     "output_type": "execute_result"
    }
   ],
   "source": [
    "numpy.load(\"../../chips_gb/v2_64_multi.npy\").shape"
   ]
  },
  {
   "cell_type": "markdown",
   "id": "443fd83a-7c72-449c-bfb7-28d8789ef365",
   "metadata": {},
   "source": [
    "Slid"
   ]
  },
  {
   "cell_type": "code",
   "execution_count": 13,
   "id": "d2e89eb8-fd53-423c-a0f3-22a9a581e158",
   "metadata": {
    "tags": []
   },
   "outputs": [
    {
     "data": {
      "text/plain": [
       "(1099439, 8, 8, 3)"
      ]
     },
     "execution_count": 13,
     "metadata": {},
     "output_type": "execute_result"
    }
   ],
   "source": [
    "numpy.load(\"../../chips_gb/v2_8_slided.npy\").shape"
   ]
  },
  {
   "cell_type": "code",
   "execution_count": 14,
   "id": "f1caa25b-f93d-45dc-bcdb-6e873094b65b",
   "metadata": {
    "tags": []
   },
   "outputs": [
    {
     "data": {
      "text/plain": [
       "(1087827, 16, 16, 3)"
      ]
     },
     "execution_count": 14,
     "metadata": {},
     "output_type": "execute_result"
    }
   ],
   "source": [
    "numpy.load(\"../../chips_gb/v2_16_slided.npy\").shape"
   ]
  },
  {
   "cell_type": "code",
   "execution_count": 15,
   "id": "024208da-4302-40e9-bf0b-1c4fedc9a3d5",
   "metadata": {
    "tags": []
   },
   "outputs": [
    {
     "data": {
      "text/plain": [
       "(901538, 32, 32, 3)"
      ]
     },
     "execution_count": 15,
     "metadata": {},
     "output_type": "execute_result"
    }
   ],
   "source": [
    "numpy.load(\"../../chips_gb/v2_32_slided.npy\").shape"
   ]
  },
  {
   "cell_type": "code",
   "execution_count": 16,
   "id": "1d78bc47-22d5-442a-956b-c3c8b2160082",
   "metadata": {
    "tags": []
   },
   "outputs": [
    {
     "data": {
      "text/plain": [
       "(373131, 64, 64, 3)"
      ]
     },
     "execution_count": 16,
     "metadata": {},
     "output_type": "execute_result"
    }
   ],
   "source": [
    "numpy.load(\"../../chips_gb/v2_64_slided.npy\").shape"
   ]
  },
  {
   "cell_type": "code",
   "execution_count": 25,
   "id": "d865dc77-5e72-48ed-af0d-dde81afe4864",
   "metadata": {
    "tags": []
   },
   "outputs": [],
   "source": [
    "chip_counts = pandas.DataFrame()\n",
    "for size, mode in product([8, 16, 32, 64], [\"\", \"_slided\", \"_multi\"]):\n",
    "    chip_counts.loc[size, mode] = numpy.load(f\"../../chips_gb/v2_{size}{mode}.npy\").shape[0]"
   ]
  },
  {
   "cell_type": "code",
   "execution_count": 27,
   "id": "bc9f9031-07bc-4b25-8c7b-88763f6e1a7e",
   "metadata": {
    "tags": []
   },
   "outputs": [
    {
     "name": "stdout",
     "output_type": "stream",
     "text": [
      "\\begin{tabular}{lrrr}\n",
      "\\toprule\n",
      " &  & _slided & _multi \\\\\n",
      "\\midrule\n",
      "8 & 534729.000000 & 1099439.000000 & 135264.000000 \\\\\n",
      "16 & 331459.000000 & 1087827.000000 & 126016.000000 \\\\\n",
      "32 & 179261.000000 & 901538.000000 & 112196.000000 \\\\\n",
      "64 & 132619.000000 & 373131.000000 & 94960.000000 \\\\\n",
      "\\bottomrule\n",
      "\\end{tabular}\n",
      "\n"
     ]
    }
   ],
   "source": [
    "print(chip_counts.to_latex())"
   ]
  },
  {
   "cell_type": "code",
   "execution_count": null,
   "id": "675eaea1-2fef-4999-b612-673d5859e11e",
   "metadata": {},
   "outputs": [],
   "source": []
  }
 ],
 "metadata": {
  "kernelspec": {
   "display_name": "Python 3 (ipykernel)",
   "language": "python",
   "name": "python3"
  },
  "language_info": {
   "codemirror_mode": {
    "name": "ipython",
    "version": 3
   },
   "file_extension": ".py",
   "mimetype": "text/x-python",
   "name": "python",
   "nbconvert_exporter": "python",
   "pygments_lexer": "ipython3",
   "version": "3.11.0"
  }
 },
 "nbformat": 4,
 "nbformat_minor": 5
}
