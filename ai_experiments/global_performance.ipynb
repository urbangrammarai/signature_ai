{
 "cells": [
  {
   "cell_type": "code",
   "execution_count": 5,
   "id": "f607a717-fe31-470f-a1fa-3fee2a4a7455",
   "metadata": {
    "tags": []
   },
   "outputs": [],
   "source": [
    "import glob\n",
    "import json\n",
    "import pandas"
   ]
  },
  {
   "cell_type": "code",
   "execution_count": 3,
   "id": "79571ef6-477e-46b7-8d2b-753bf1b35e42",
   "metadata": {
    "tags": []
   },
   "outputs": [],
   "source": [
    "all_results = glob.glob('model_meta/*')"
   ]
  },
  {
   "cell_type": "code",
   "execution_count": 9,
   "id": "6d5404bb-0bc9-4d84-b20e-f9a72d2191f1",
   "metadata": {
    "tags": []
   },
   "outputs": [],
   "source": [
    "with open(all_results[0], 'r') as f:\n",
    "    r = json.load(f)"
   ]
  },
  {
   "cell_type": "code",
   "execution_count": 11,
   "id": "1d019d4a-d27c-4654-8ffd-2b5b2541658a",
   "metadata": {
    "tags": []
   },
   "outputs": [
    {
     "data": {
      "text/plain": [
       "0.467690110674759"
      ]
     },
     "execution_count": 11,
     "metadata": {},
     "output_type": "execute_result"
    }
   ],
   "source": [
    "r['perf_model_accuracy_val']"
   ]
  },
  {
   "cell_type": "code",
   "execution_count": 58,
   "id": "dfa86bb9-5a79-4f19-9272-162b4bb49220",
   "metadata": {
    "tags": []
   },
   "outputs": [
    {
     "name": "stdout",
     "output_type": "stream",
     "text": [
      "model_meta/HistGradientBoostingClassifier_baseline_16_bic.json\n"
     ]
    }
   ],
   "source": [
    "accuracy = {}\n",
    "for fp in all_results:\n",
    "    try:\n",
    "        with open(fp, 'r') as f:\n",
    "            r = json.load(f)\n",
    "            accuracy[r['model_name']] = r['perf_model_accuracy_val']\n",
    "    except Exception:\n",
    "        print(fp)"
   ]
  },
  {
   "cell_type": "code",
   "execution_count": 59,
   "id": "657bc27b-9d8c-49c1-a002-6568dab81ec6",
   "metadata": {
    "tags": []
   },
   "outputs": [],
   "source": [
    "accuracy = pandas.Series(accuracy)"
   ]
  },
  {
   "cell_type": "code",
   "execution_count": 60,
   "id": "71989040-7729-4395-a87e-2052c2656aa1",
   "metadata": {
    "tags": []
   },
   "outputs": [],
   "source": [
    "accuracy.index = accuracy.index.str.replace(\"_baseline\", \"\")"
   ]
  },
  {
   "cell_type": "code",
   "execution_count": 61,
   "id": "a92403c2-a822-4133-86a6-48eadfb59f8b",
   "metadata": {
    "tags": []
   },
   "outputs": [],
   "source": [
    "accuracy.index = pandas.MultiIndex.from_tuples(accuracy.index.str.split(\"_\").map(tuple))"
   ]
  },
  {
   "cell_type": "code",
   "execution_count": 71,
   "id": "9206fa82-25ce-40d6-b203-a142e2deb857",
   "metadata": {
    "tags": []
   },
   "outputs": [
    {
     "name": "stdout",
     "output_type": "stream",
     "text": [
      "\\begin{tabular}{llrrr}\n",
      "\\toprule\n",
      " &  & bic & mor & sic \\\\\n",
      "\\midrule\n",
      "\\multirow[t]{4}{*}{HistGradientBoostingClassifier} & 16 & NaN & 0.33 & 0.37 \\\\\n",
      " & 32 & 0.48 & 0.49 & 0.40 \\\\\n",
      " & 64 & 0.62 & 0.71 & 0.48 \\\\\n",
      " & 8 & 0.32 & 0.32 & 0.36 \\\\\n",
      "\\cline{1-5}\n",
      "\\multirow[t]{4}{*}{HistGradientBoostingClassifier-wx} & 16 & 0.44 & 0.34 & 0.47 \\\\\n",
      " & 32 & 0.54 & 0.40 & 0.50 \\\\\n",
      " & 64 & 0.68 & 0.63 & 0.56 \\\\\n",
      " & 8 & 0.35 & 0.35 & 0.44 \\\\\n",
      "\\cline{1-5}\n",
      "\\multirow[t]{4}{*}{logite} & 16 & 0.36 & 0.31 & 0.36 \\\\\n",
      " & 32 & 0.46 & 0.36 & 0.36 \\\\\n",
      " & 64 & 0.60 & 0.58 & 0.47 \\\\\n",
      " & 8 & 0.32 & 0.31 & 0.35 \\\\\n",
      "\\cline{1-5}\n",
      "\\multirow[t]{4}{*}{logite-wx} & 16 & 0.42 & 0.33 & 0.46 \\\\\n",
      " & 32 & 0.52 & 0.39 & 0.48 \\\\\n",
      " & 64 & 0.67 & 0.59 & 0.55 \\\\\n",
      " & 8 & 0.34 & 0.33 & 0.41 \\\\\n",
      "\\cline{1-5}\n",
      "\\multirow[t]{4}{*}{maxprob} & 16 & 0.27 & 0.28 & 0.35 \\\\\n",
      " & 32 & 0.42 & 0.35 & 0.34 \\\\\n",
      " & 64 & 0.50 & 0.58 & 0.46 \\\\\n",
      " & 8 & 0.30 & 0.29 & 0.32 \\\\\n",
      "\\cline{1-5}\n",
      "\\bottomrule\n",
      "\\end{tabular}\n",
      "\n"
     ]
    }
   ],
   "source": [
    "print(accuracy.sort_index().unstack().to_latex(float_format=\"%.2f\"))"
   ]
  },
  {
   "cell_type": "code",
   "execution_count": 74,
   "id": "3acf8f28-d306-4928-939f-fa594c05d15d",
   "metadata": {
    "tags": []
   },
   "outputs": [
    {
     "data": {
      "text/plain": [
       "6"
      ]
     },
     "execution_count": 74,
     "metadata": {},
     "output_type": "execute_result"
    }
   ],
   "source": [
    "(accuracy > .6).sum()"
   ]
  },
  {
   "cell_type": "code",
   "execution_count": 75,
   "id": "706b2b68-3693-461e-b6cc-a00418654819",
   "metadata": {
    "tags": []
   },
   "outputs": [
    {
     "data": {
      "text/html": [
       "<div>\n",
       "<style scoped>\n",
       "    .dataframe tbody tr th:only-of-type {\n",
       "        vertical-align: middle;\n",
       "    }\n",
       "\n",
       "    .dataframe tbody tr th {\n",
       "        vertical-align: top;\n",
       "    }\n",
       "\n",
       "    .dataframe thead th {\n",
       "        text-align: right;\n",
       "    }\n",
       "</style>\n",
       "<table border=\"1\" class=\"dataframe\">\n",
       "  <thead>\n",
       "    <tr style=\"text-align: right;\">\n",
       "      <th></th>\n",
       "      <th></th>\n",
       "      <th>bic</th>\n",
       "      <th>mor</th>\n",
       "      <th>sic</th>\n",
       "    </tr>\n",
       "  </thead>\n",
       "  <tbody>\n",
       "    <tr>\n",
       "      <th rowspan=\"4\" valign=\"top\">HistGradientBoostingClassifier</th>\n",
       "      <th>16</th>\n",
       "      <td>NaN</td>\n",
       "      <td>0.329472</td>\n",
       "      <td>0.367168</td>\n",
       "    </tr>\n",
       "    <tr>\n",
       "      <th>32</th>\n",
       "      <td>0.476023</td>\n",
       "      <td>0.493850</td>\n",
       "      <td>0.395469</td>\n",
       "    </tr>\n",
       "    <tr>\n",
       "      <th>64</th>\n",
       "      <td>0.620196</td>\n",
       "      <td>0.713880</td>\n",
       "      <td>0.483161</td>\n",
       "    </tr>\n",
       "    <tr>\n",
       "      <th>8</th>\n",
       "      <td>0.320344</td>\n",
       "      <td>0.316253</td>\n",
       "      <td>0.355841</td>\n",
       "    </tr>\n",
       "    <tr>\n",
       "      <th rowspan=\"4\" valign=\"top\">HistGradientBoostingClassifier-wx</th>\n",
       "      <th>16</th>\n",
       "      <td>0.444498</td>\n",
       "      <td>0.342168</td>\n",
       "      <td>0.465673</td>\n",
       "    </tr>\n",
       "    <tr>\n",
       "      <th>32</th>\n",
       "      <td>0.536188</td>\n",
       "      <td>0.404456</td>\n",
       "      <td>0.497266</td>\n",
       "    </tr>\n",
       "    <tr>\n",
       "      <th>64</th>\n",
       "      <td>0.682291</td>\n",
       "      <td>0.632372</td>\n",
       "      <td>0.564144</td>\n",
       "    </tr>\n",
       "    <tr>\n",
       "      <th>8</th>\n",
       "      <td>0.349159</td>\n",
       "      <td>0.348048</td>\n",
       "      <td>0.443282</td>\n",
       "    </tr>\n",
       "    <tr>\n",
       "      <th rowspan=\"4\" valign=\"top\">logite</th>\n",
       "      <th>16</th>\n",
       "      <td>0.359978</td>\n",
       "      <td>0.308205</td>\n",
       "      <td>0.363813</td>\n",
       "    </tr>\n",
       "    <tr>\n",
       "      <th>32</th>\n",
       "      <td>0.463812</td>\n",
       "      <td>0.361052</td>\n",
       "      <td>0.363654</td>\n",
       "    </tr>\n",
       "    <tr>\n",
       "      <th>64</th>\n",
       "      <td>0.603994</td>\n",
       "      <td>0.575611</td>\n",
       "      <td>0.467690</td>\n",
       "    </tr>\n",
       "    <tr>\n",
       "      <th>8</th>\n",
       "      <td>0.317034</td>\n",
       "      <td>0.309376</td>\n",
       "      <td>0.346236</td>\n",
       "    </tr>\n",
       "    <tr>\n",
       "      <th rowspan=\"4\" valign=\"top\">logite-wx</th>\n",
       "      <th>16</th>\n",
       "      <td>0.424620</td>\n",
       "      <td>0.334788</td>\n",
       "      <td>0.461804</td>\n",
       "    </tr>\n",
       "    <tr>\n",
       "      <th>32</th>\n",
       "      <td>0.520185</td>\n",
       "      <td>0.386007</td>\n",
       "      <td>0.484423</td>\n",
       "    </tr>\n",
       "    <tr>\n",
       "      <th>64</th>\n",
       "      <td>0.668651</td>\n",
       "      <td>0.585720</td>\n",
       "      <td>0.546144</td>\n",
       "    </tr>\n",
       "    <tr>\n",
       "      <th>8</th>\n",
       "      <td>0.341380</td>\n",
       "      <td>0.334738</td>\n",
       "      <td>0.411719</td>\n",
       "    </tr>\n",
       "    <tr>\n",
       "      <th rowspan=\"4\" valign=\"top\">maxprob</th>\n",
       "      <th>16</th>\n",
       "      <td>0.268460</td>\n",
       "      <td>0.278210</td>\n",
       "      <td>0.353988</td>\n",
       "    </tr>\n",
       "    <tr>\n",
       "      <th>32</th>\n",
       "      <td>0.418702</td>\n",
       "      <td>0.348663</td>\n",
       "      <td>0.343697</td>\n",
       "    </tr>\n",
       "    <tr>\n",
       "      <th>64</th>\n",
       "      <td>0.502788</td>\n",
       "      <td>0.581403</td>\n",
       "      <td>0.458765</td>\n",
       "    </tr>\n",
       "    <tr>\n",
       "      <th>8</th>\n",
       "      <td>0.298803</td>\n",
       "      <td>0.293774</td>\n",
       "      <td>0.323104</td>\n",
       "    </tr>\n",
       "  </tbody>\n",
       "</table>\n",
       "</div>"
      ],
      "text/plain": [
       "                                           bic       mor       sic\n",
       "HistGradientBoostingClassifier    16       NaN  0.329472  0.367168\n",
       "                                  32  0.476023  0.493850  0.395469\n",
       "                                  64  0.620196  0.713880  0.483161\n",
       "                                  8   0.320344  0.316253  0.355841\n",
       "HistGradientBoostingClassifier-wx 16  0.444498  0.342168  0.465673\n",
       "                                  32  0.536188  0.404456  0.497266\n",
       "                                  64  0.682291  0.632372  0.564144\n",
       "                                  8   0.349159  0.348048  0.443282\n",
       "logite                            16  0.359978  0.308205  0.363813\n",
       "                                  32  0.463812  0.361052  0.363654\n",
       "                                  64  0.603994  0.575611  0.467690\n",
       "                                  8   0.317034  0.309376  0.346236\n",
       "logite-wx                         16  0.424620  0.334788  0.461804\n",
       "                                  32  0.520185  0.386007  0.484423\n",
       "                                  64  0.668651  0.585720  0.546144\n",
       "                                  8   0.341380  0.334738  0.411719\n",
       "maxprob                           16  0.268460  0.278210  0.353988\n",
       "                                  32  0.418702  0.348663  0.343697\n",
       "                                  64  0.502788  0.581403  0.458765\n",
       "                                  8   0.298803  0.293774  0.323104"
      ]
     },
     "execution_count": 75,
     "metadata": {},
     "output_type": "execute_result"
    }
   ],
   "source": [
    "accuracy.sort_index().unstack()"
   ]
  },
  {
   "cell_type": "code",
   "execution_count": null,
   "id": "4c2f7146-0aab-46ea-8fba-d20b6527c472",
   "metadata": {},
   "outputs": [],
   "source": []
  }
 ],
 "metadata": {
  "kernelspec": {
   "display_name": "Python 3 (ipykernel)",
   "language": "python",
   "name": "python3"
  },
  "language_info": {
   "codemirror_mode": {
    "name": "ipython",
    "version": 3
   },
   "file_extension": ".py",
   "mimetype": "text/x-python",
   "name": "python",
   "nbconvert_exporter": "python",
   "pygments_lexer": "ipython3",
   "version": "3.11.0"
  }
 },
 "nbformat": 4,
 "nbformat_minor": 5
}
