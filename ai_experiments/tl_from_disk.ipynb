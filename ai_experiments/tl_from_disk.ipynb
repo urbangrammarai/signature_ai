{
 "cells": [
  {
   "cell_type": "markdown",
   "id": "c81f9a62-d7f5-47f7-b76f-a96017eacc6d",
   "metadata": {},
   "source": [
    "# AI pipeline from disk"
   ]
  },
  {
   "cell_type": "code",
   "execution_count": 1,
   "id": "3503f55b",
   "metadata": {},
   "outputs": [],
   "source": [
    "import os\n",
    "import glob\n",
    "import shutil\n",
    "from pathlib import Path\n",
    "import random\n",
    "import numpy\n",
    "import tensorflow as tf\n",
    "\n",
    "from model_builder import model_builder, relabel, class_merger, balancer\n",
    "import tools_keras\n",
    "from tensorflow import keras\n",
    "from tensorflow.keras import layers\n",
    "from tensorflow.keras.applications import resnet_v2, vgg19, efficientnet\n",
    "\n",
    "random.seed(42)"
   ]
  },
  {
   "cell_type": "code",
   "execution_count": 2,
   "id": "ba31e3d6",
   "metadata": {},
   "outputs": [],
   "source": [
    "specs = {\n",
    "    'chips': \"../chips_gb/32_temporal/\",\n",
    "    'chips_combined': \"../chips_gb/32_temporal_combined_12/\",\n",
    "    'chips_balanced': \"../chips_gb/32_temporal_balanced_12/\",\n",
    "    'folder': \"../urbangrammar_samba/spatial_signatures/ai/gb_32_temporal/\",\n",
    "}"
   ]
  },
  {
   "cell_type": "markdown",
   "id": "42a8ef50",
   "metadata": {},
   "source": [
    "Combine groups"
   ]
  },
  {
   "cell_type": "code",
   "execution_count": 3,
   "id": "51243984",
   "metadata": {},
   "outputs": [],
   "source": [
    "group_mapping = [\n",
    "    ['9_0', '9_1', '9_2', '9_4', '9_5'],\n",
    "    ['2_0'], \n",
    "    ['2_1'], \n",
    "    ['2_2'],\n",
    "    ['1_0'], \n",
    "    ['3_0'], \n",
    "    ['5_0'], \n",
    "    ['6_0'], \n",
    "    ['8_0'],\n",
    "    ['0_0'],\n",
    "    ['4_0'],\n",
    "    ['7_0']\n",
    "]"
   ]
  },
  {
   "cell_type": "code",
   "execution_count": 4,
   "id": "0f884768",
   "metadata": {},
   "outputs": [],
   "source": [
    "for subset in [\"train\", \"validation\", \"secret\"]:\n",
    "    os.makedirs(specs['chips_combined'] + subset, exist_ok=True)\n",
    "    \n",
    "    for i, group in enumerate(group_mapping):\n",
    "        os.makedirs(specs['chips_combined'] + subset + \"/\" + str(i), exist_ok=True)\n",
    "        \n",
    "        for g in group:\n",
    "            files = glob.glob(f\"{specs['chips']}{subset}/{g}/*.tif\")\n",
    "            for f in files:\n",
    "                f = Path(f)\n",
    "                shutil.copy(f, specs['chips_combined'] + subset + \"/\" + str(i) + \"/\" + f.name)"
   ]
  },
  {
   "cell_type": "markdown",
   "id": "c9ee07b6",
   "metadata": {},
   "source": [
    "Balance groups"
   ]
  },
  {
   "cell_type": "code",
   "execution_count": 5,
   "id": "7a216dbb",
   "metadata": {},
   "outputs": [],
   "source": [
    "for subset in [\"train\", \"validation\", \"secret\"]:\n",
    "    total = 35000 if subset == \"train\" else 5000\n",
    "    os.makedirs(specs['chips_balanced'] + subset, exist_ok=True)\n",
    "    \n",
    "    for folder in glob.glob(specs[\"chips_combined\"] + f\"{subset}/*\"):\n",
    "        os.makedirs(specs['chips_balanced'] + subset + \"/\" + Path(folder).name, exist_ok=True)\n",
    "        files = glob.glob(folder + \"/*\")\n",
    "        random.shuffle(files)\n",
    "        for f in files[:total]:\n",
    "            f = Path(f)\n",
    "            shutil.copy(f, specs['chips_balanced'] + subset + \"/\" + Path(folder).name + \"/\" + f.name)"
   ]
  },
  {
   "cell_type": "code",
   "execution_count": 6,
   "id": "2d0da5aa",
   "metadata": {},
   "outputs": [],
   "source": [
    "model_specs = {\n",
    "    'meta_class_map': group_mapping,\n",
    "    'meta_class_names': [\n",
    "        \"Urbanity\", \n",
    "        \"Dense residential neighbourhoods\",\n",
    "        \"Connected residential neighbourhoods\",\n",
    "        \"Dense urban neighbourhoods\",\n",
    "        \"Accessible suburbia\",\n",
    "        \"Open sprawl\",\n",
    "        \"Warehouse/Park land\",\n",
    "        \"Gridded residential quarters\",\n",
    "        \"Disconnected suburbia\",\n",
    "        \"Countryside agriculture\", \n",
    "        \"Wild countryside\", \n",
    "        \"Urban buffer\"\n",
    "    ],\n",
    "    'meta_chip_size': 32,\n",
    "}\n"
   ]
  },
  {
   "cell_type": "code",
   "execution_count": 7,
   "id": "60e90489",
   "metadata": {},
   "outputs": [
    {
     "name": "stderr",
     "output_type": "stream",
     "text": [
      "2022-02-21 19:07:01.549167: I tensorflow/core/common_runtime/gpu/gpu_device.cc:1510] Created device /job:localhost/replica:0/task:0/device:GPU:0 with 6517 MB memory:  -> device: 0, name: Quadro RTX 4000, pci bus id: 0000:21:00.0, compute capability: 7.5\n"
     ]
    },
    {
     "name": "stdout",
     "output_type": "stream",
     "text": [
      "Downloading data from https://storage.googleapis.com/keras-applications/efficientnetb4_notop.h5\n",
      "71688192/71686520 [==============================] - 1s 0us/step\n",
      "71696384/71686520 [==============================] - 1s 0us/step\n"
     ]
    }
   ],
   "source": [
    "model = model_builder(\n",
    "    model_name=\"efficientnet\", \n",
    "    bridge=\"pooling\", \n",
    "    top_layer_neurons=256,\n",
    "    n_labels=12,\n",
    "    input_shape=(224, 224, 3),\n",
    ")"
   ]
  },
  {
   "cell_type": "code",
   "execution_count": null,
   "id": "8ea24fcd",
   "metadata": {},
   "outputs": [
    {
     "name": "stdout",
     "output_type": "stream",
     "text": [
      "Model: \"efficientnet_pooling_256_12\"\n",
      "_________________________________________________________________\n",
      "Layer (type)                 Output Shape              Param #   \n",
      "=================================================================\n",
      "input_2 (InputLayer)         [(None, 224, 224, 3)]     0         \n",
      "_________________________________________________________________\n",
      "resizing (Resizing)          (None, 224, 224, 3)       0         \n",
      "_________________________________________________________________\n",
      "efficientnetb4 (Functional)  (None, 7, 7, 1792)        17673823  \n",
      "_________________________________________________________________\n",
      "global_average_pooling2d (Gl (None, 1792)              0         \n",
      "_________________________________________________________________\n",
      "dense (Dense)                (None, 256)               459008    \n",
      "_________________________________________________________________\n",
      "dense_1 (Dense)              (None, 12)                3084      \n",
      "=================================================================\n",
      "Total params: 18,135,915\n",
      "Trainable params: 462,092\n",
      "Non-trainable params: 17,673,823\n",
      "_________________________________________________________________\n",
      "None\n",
      "creating ImageDataGenerators...\n"
     ]
    },
    {
     "name": "stderr",
     "output_type": "stream",
     "text": [
      "2022-02-21 19:07:06.202169: I tensorflow/core/profiler/lib/profiler_session.cc:131] Profiler session initializing.\n",
      "2022-02-21 19:07:06.202199: I tensorflow/core/profiler/lib/profiler_session.cc:146] Profiler session started.\n",
      "2022-02-21 19:07:06.202715: I tensorflow/core/profiler/internal/gpu/cupti_tracer.cc:1614] Profiler found 1 GPUs\n",
      "2022-02-21 19:07:06.340010: I tensorflow/core/profiler/lib/profiler_session.cc:164] Profiler session tear down.\n",
      "2022-02-21 19:07:06.340179: I tensorflow/core/profiler/internal/gpu/cupti_tracer.cc:1749] CUPTI activity buffer flushed\n"
     ]
    },
    {
     "name": "stdout",
     "output_type": "stream",
     "text": [
      "Found 420000 images belonging to 12 classes.\n",
      "Found 58134 images belonging to 12 classes.\n",
      "training...\n"
     ]
    },
    {
     "name": "stderr",
     "output_type": "stream",
     "text": [
      "/usr/local/lib/python3.8/dist-packages/keras/utils/generic_utils.py:494: CustomMaskWarning: Custom mask layers require a config and must override get_config. When loading, the custom mask layer must be passed to the custom_objects argument.\n",
      "  warnings.warn('Custom mask layers require a config and must override '\n",
      "2022-02-21 19:07:35.804154: I tensorflow/compiler/mlir/mlir_graph_optimization_pass.cc:185] None of the MLIR Optimization Passes are enabled (registered 2)\n"
     ]
    },
    {
     "name": "stdout",
     "output_type": "stream",
     "text": [
      "Epoch 1/200\n"
     ]
    },
    {
     "name": "stderr",
     "output_type": "stream",
     "text": [
      "2022-02-21 19:07:44.778001: I tensorflow/stream_executor/cuda/cuda_dnn.cc:381] Loaded cuDNN version 8300\n"
     ]
    },
    {
     "name": "stdout",
     "output_type": "stream",
     "text": [
      "    1/13125 [..............................] - ETA: 45:02:00 - loss: 2.5577 - accuracy: 0.0312"
     ]
    },
    {
     "name": "stderr",
     "output_type": "stream",
     "text": [
      "2022-02-21 19:07:48.484811: I tensorflow/core/profiler/lib/profiler_session.cc:131] Profiler session initializing.\n",
      "2022-02-21 19:07:48.484849: I tensorflow/core/profiler/lib/profiler_session.cc:146] Profiler session started.\n"
     ]
    },
    {
     "name": "stdout",
     "output_type": "stream",
     "text": [
      "    2/13125 [..............................] - ETA: 4:39:00 - loss: 2.5870 - accuracy: 0.0625 "
     ]
    },
    {
     "name": "stderr",
     "output_type": "stream",
     "text": [
      "2022-02-21 19:07:49.519324: I tensorflow/core/profiler/lib/profiler_session.cc:66] Profiler session collecting data.\n",
      "2022-02-21 19:07:49.520112: I tensorflow/core/profiler/internal/gpu/cupti_tracer.cc:1749] CUPTI activity buffer flushed\n",
      "2022-02-21 19:07:49.582884: I tensorflow/core/profiler/internal/gpu/cupti_collector.cc:673]  GpuTracer has collected 9459 callback api events and 7601 activity events. \n",
      "2022-02-21 19:07:49.670164: I tensorflow/core/profiler/lib/profiler_session.cc:164] Profiler session tear down.\n",
      "2022-02-21 19:07:49.803630: I tensorflow/core/profiler/rpc/client/save_profile.cc:136] Creating directory: ../urbangrammar_samba/spatial_signatures/ai/gb_32_temporal/logs/efficientnet_pooling_256_12/train/plugins/profile/2022_02_21_19_07_49\n",
      "\n",
      "2022-02-21 19:07:49.885436: I tensorflow/core/profiler/rpc/client/save_profile.cc:142] Dumped gzipped tool data for trace.json.gz to ../urbangrammar_samba/spatial_signatures/ai/gb_32_temporal/logs/efficientnet_pooling_256_12/train/plugins/profile/2022_02_21_19_07_49/b0aa527ea1da.trace.json.gz\n",
      "2022-02-21 19:07:49.977864: I tensorflow/core/profiler/rpc/client/save_profile.cc:136] Creating directory: ../urbangrammar_samba/spatial_signatures/ai/gb_32_temporal/logs/efficientnet_pooling_256_12/train/plugins/profile/2022_02_21_19_07_49\n",
      "\n",
      "2022-02-21 19:07:49.986968: I tensorflow/core/profiler/rpc/client/save_profile.cc:142] Dumped gzipped tool data for memory_profile.json.gz to ../urbangrammar_samba/spatial_signatures/ai/gb_32_temporal/logs/efficientnet_pooling_256_12/train/plugins/profile/2022_02_21_19_07_49/b0aa527ea1da.memory_profile.json.gz\n"
     ]
    },
    {
     "name": "stdout",
     "output_type": "stream",
     "text": [
      "    3/13125 [..............................] - ETA: 3:29:01 - loss: 2.5480 - accuracy: 0.0729"
     ]
    },
    {
     "name": "stderr",
     "output_type": "stream",
     "text": [
      "2022-02-21 19:07:50.031675: I tensorflow/core/profiler/rpc/client/capture_profile.cc:251] Creating directory: ../urbangrammar_samba/spatial_signatures/ai/gb_32_temporal/logs/efficientnet_pooling_256_12/train/plugins/profile/2022_02_21_19_07_49\n",
      "Dumped tool data for xplane.pb to ../urbangrammar_samba/spatial_signatures/ai/gb_32_temporal/logs/efficientnet_pooling_256_12/train/plugins/profile/2022_02_21_19_07_49/b0aa527ea1da.xplane.pb\n",
      "Dumped tool data for overview_page.pb to ../urbangrammar_samba/spatial_signatures/ai/gb_32_temporal/logs/efficientnet_pooling_256_12/train/plugins/profile/2022_02_21_19_07_49/b0aa527ea1da.overview_page.pb\n",
      "Dumped tool data for input_pipeline.pb to ../urbangrammar_samba/spatial_signatures/ai/gb_32_temporal/logs/efficientnet_pooling_256_12/train/plugins/profile/2022_02_21_19_07_49/b0aa527ea1da.input_pipeline.pb\n",
      "Dumped tool data for tensorflow_stats.pb to ../urbangrammar_samba/spatial_signatures/ai/gb_32_temporal/logs/efficientnet_pooling_256_12/train/plugins/profile/2022_02_21_19_07_49/b0aa527ea1da.tensorflow_stats.pb\n",
      "Dumped tool data for kernel_stats.pb to ../urbangrammar_samba/spatial_signatures/ai/gb_32_temporal/logs/efficientnet_pooling_256_12/train/plugins/profile/2022_02_21_19_07_49/b0aa527ea1da.kernel_stats.pb\n",
      "\n"
     ]
    },
    {
     "name": "stdout",
     "output_type": "stream",
     "text": [
      "13125/13125 [==============================] - 1645s 124ms/step - loss: 1.6454 - accuracy: 0.3935 - val_loss: 1.8330 - val_accuracy: 0.3475\n",
      "Epoch 2/200\n",
      "13125/13125 [==============================] - 1632s 124ms/step - loss: 1.4809 - accuracy: 0.4559 - val_loss: 1.8705 - val_accuracy: 0.3481\n",
      "Epoch 3/200\n",
      " 7551/13125 [================>.............] - ETA: 10:12 - loss: 1.4117 - accuracy: 0.4811"
     ]
    },
    {
     "name": "stderr",
     "output_type": "stream",
     "text": [
      "IOPub message rate exceeded.\n",
      "The notebook server will temporarily stop sending output\n",
      "to the client in order to avoid crashing it.\n",
      "To change this limit, set the config variable\n",
      "`--NotebookApp.iopub_msg_rate_limit`.\n",
      "\n",
      "Current values:\n",
      "NotebookApp.iopub_msg_rate_limit=1000.0 (msgs/sec)\n",
      "NotebookApp.rate_limit_window=3.0 (secs)\n",
      "\n"
     ]
    },
    {
     "name": "stdout",
     "output_type": "stream",
     "text": [
      "13125/13125 [==============================] - 1632s 124ms/step - loss: 1.4045 - accuracy: 0.4835 - val_loss: 1.8771 - val_accuracy: 0.3504\n",
      "Epoch 4/200\n",
      "13125/13125 [==============================] - 1634s 124ms/step - loss: 1.3539 - accuracy: 0.5025 - val_loss: 1.9430 - val_accuracy: 0.3437\n",
      "Epoch 5/200\n",
      " 8742/13125 [==================>...........] - ETA: 8:02 - loss: 1.3159 - accuracy: 0.5147"
     ]
    }
   ],
   "source": [
    "h = tools_keras.fit_phase(\n",
    "        model,\n",
    "        specs['chips_balanced'] + 'train',\n",
    "        specs['chips_balanced'] + 'validation',\n",
    "        specs['chips_balanced'] + 'secret',\n",
    "        log_folder=specs[\"folder\"] + \"logs\",\n",
    "        pred_folder=specs[\"folder\"] + \"pred\",\n",
    "        model_folder=specs[\"folder\"] + \"model\",\n",
    "        json_folder=specs[\"folder\"] + \"json\",\n",
    "        specs=model_specs,\n",
    "        epochs=200,\n",
    "        patience=5,\n",
    "        batch_size=32,\n",
    "        verbose=True,\n",
    "    )"
   ]
  },
  {
   "cell_type": "code",
   "execution_count": null,
   "id": "99366867",
   "metadata": {},
   "outputs": [],
   "source": []
  }
 ],
 "metadata": {
  "kernelspec": {
   "display_name": "Python 3 (ipykernel)",
   "language": "python",
   "name": "python3"
  },
  "language_info": {
   "codemirror_mode": {
    "name": "ipython",
    "version": 3
   },
   "file_extension": ".py",
   "mimetype": "text/x-python",
   "name": "python",
   "nbconvert_exporter": "python",
   "pygments_lexer": "ipython3",
   "version": "3.9.7"
  }
 },
 "nbformat": 4,
 "nbformat_minor": 5
}
