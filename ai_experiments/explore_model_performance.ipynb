{
 "cells": [
  {
   "cell_type": "markdown",
   "id": "736e9414-bc4e-4a38-ba6b-815271f0044e",
   "metadata": {},
   "source": [
    "# Explore model performances"
   ]
  },
  {
   "cell_type": "markdown",
   "id": "23ce66db-4d9a-4061-88cd-4730954f1483",
   "metadata": {},
   "source": [
    "This document presents an overview of the results from a variety of model outputs, including further modelling chip probabilities.\n",
    "\n",
    "There are several aspects of the predictions we'd like to explore and compare across models:\n",
    "\n",
    "- Overall metrics:\n",
    "     - [ ] Accuracy ([micro-F1](https://towardsdatascience.com/multi-class-metrics-made-simple-part-ii-the-f1-score-ebe8b2c2ca1): general over-simplified measure of how many chips the model got right\n",
    "     - [ ] [Kappa score](https://towardsdatascience.com/multi-class-metrics-made-simple-the-kappa-score-aka-cohens-kappa-coefficient-bdea137af09c): measure of how many chips the model got right, _above_ what it would have got by pure chance\n",
    "- Class-based metrics:\n",
    "     - [ ] Accuracy: proportion of chips the model got right for each class\n",
    "     - [ ] Macro-F1: overview of how good the model is at predicting each single class\n",
    "- Confusion matrices: more disaggregated view on predictions. Detailed but not summarising.\n",
    "- Spatial metrics: compare whether the distribution of predicted labels over space resembles that of the true values\n",
    "     - [ ] Joint count statistics"
   ]
  },
  {
   "cell_type": "code",
   "execution_count": 1,
   "id": "d920deef-e2e0-4b5e-bfc1-1d2cd2ab0168",
   "metadata": {},
   "outputs": [
    {
     "name": "stderr",
     "output_type": "stream",
     "text": [
      "ERROR 1: PROJ: proj_create_from_database: Open of /opt/conda/share/proj failed\n"
     ]
    }
   ],
   "source": [
    "import os\n",
    "import pandas\n",
    "import geopandas\n",
    "import numpy as np\n",
    "import seaborn as sns\n",
    "import matplotlib.pyplot as plt\n",
    "import tools_chip_prob_modelling as tools\n",
    "from copy import deepcopy"
   ]
  },
  {
   "cell_type": "markdown",
   "id": "e301a0af-4f87-4ec0-b4b9-21b512cf50c5",
   "metadata": {},
   "source": [
    "## Data"
   ]
  },
  {
   "cell_type": "markdown",
   "id": "6a326721-1a04-4d70-a1ba-aab44a657eba",
   "metadata": {},
   "source": [
    "Here we load the original chip geometries, the true labels and predictions from each model and merge everything into a single geo-table."
   ]
  },
  {
   "cell_type": "markdown",
   "id": "fa9e74e7-e4ad-403a-918a-6fa78c7831c1",
   "metadata": {},
   "source": [
    "- Geometries and true labels"
   ]
  },
  {
   "cell_type": "code",
   "execution_count": 2,
   "id": "2e70583a-ab48-43fc-8d2b-5ae9e3ffddef",
   "metadata": {},
   "outputs": [],
   "source": [
    "gl = geopandas.read_parquet(\n",
    "    '/home/jovyan/data/model_outputs/db.pq',\n",
    "    columns=['label', 'train_all', 'geometry']\n",
    ")"
   ]
  },
  {
   "cell_type": "markdown",
   "id": "93da43d3-347c-447f-a075-57560b39fafd",
   "metadata": {},
   "source": [
    "- Model predictions"
   ]
  },
  {
   "cell_type": "markdown",
   "id": "1d80aa31-6143-4c78-bfeb-8a19ad824005",
   "metadata": {},
   "source": [
    "Grab all files with model predictions"
   ]
  },
  {
   "cell_type": "code",
   "execution_count": 3,
   "id": "05e8f21a-a376-40d4-9791-336c5f04bc6b",
   "metadata": {},
   "outputs": [
    {
     "data": {
      "text/plain": [
       "['HistGradientBoostingClassifier_baseline_wx_y_pred.pq',\n",
       " 'logite_baseline_wx_y_pred.pq',\n",
       " 'RandomForestClassifier_baseline_wx_y_pred.pq',\n",
       " 'HistGradientBoostingClassifier_baseline_y_pred.pq',\n",
       " 'logite_baseline_y_pred.pq',\n",
       " 'maxprob_baseline_y_pred.pq',\n",
       " 'RandomForestClassifier_baseline_y_pred.pq']"
      ]
     },
     "execution_count": 3,
     "metadata": {},
     "output_type": "execute_result"
    }
   ],
   "source": [
    "y_preds_f = [\n",
    "    i for i in os.listdir(\n",
    "        '/home/jovyan/data/model_outputs/'\n",
    "    ) if '_y_pred.pq' in i\n",
    "]\n",
    "y_preds_f"
   ]
  },
  {
   "cell_type": "markdown",
   "id": "3df90c67-66fe-4abc-a09b-214d9cc98932",
   "metadata": {},
   "source": [
    "Read and store predictions and train/val label"
   ]
  },
  {
   "cell_type": "code",
   "execution_count": 4,
   "id": "a4c76387-b11a-4e21-8510-61cc02994c3d",
   "metadata": {},
   "outputs": [],
   "source": [
    "y_preds = pandas.DataFrame(None, index=gl.index)\n",
    "for f in y_preds_f:\n",
    "    tab = pandas.read_parquet(\n",
    "        os.path.join('/home/jovyan/data/model_outputs/', f)\n",
    "    ).set_index(\n",
    "        'id'\n",
    "    ).rename(\n",
    "        columns=lambda s: f.replace('_y_pred.pq', '')+'_'+s\n",
    "    )\n",
    "    y_preds = y_preds.join(tab)"
   ]
  },
  {
   "cell_type": "markdown",
   "id": "e6f4a0f1-cf0d-4a4d-ae88-2b41ec67816d",
   "metadata": {},
   "source": [
    "Check train/val indices align across models so we can remove them:"
   ]
  },
  {
   "cell_type": "code",
   "execution_count": 5,
   "id": "7d5b736b-6397-4699-ad80-45e42ee0c31c",
   "metadata": {},
   "outputs": [
    {
     "name": "stdout",
     "output_type": "stream",
     "text": [
      "0\n",
      "0\n",
      "0\n",
      "0\n",
      "0\n",
      "0\n"
     ]
    }
   ],
   "source": [
    "vals = [c for c in y_preds.columns if '_Validation' in c]\n",
    "for i in range(len(vals)-1):\n",
    "    print((y_preds[vals[i]] != y_preds[vals[i+1]]).sum())"
   ]
  },
  {
   "cell_type": "markdown",
   "id": "a2d8b78d-543a-464a-b0a8-88ca89a923f9",
   "metadata": {},
   "source": [
    "- Single table"
   ]
  },
  {
   "cell_type": "code",
   "execution_count": 6,
   "id": "23c1b431-2cf4-4894-8cf9-6947493842ad",
   "metadata": {},
   "outputs": [
    {
     "name": "stdout",
     "output_type": "stream",
     "text": [
      "<class 'geopandas.geodataframe.GeoDataFrame'>\n",
      "Int64Index: 64409 entries, 4 to 103043\n",
      "Data columns (total 10 columns):\n",
      " #   Column                                             Non-Null Count  Dtype   \n",
      "---  ------                                             --------------  -----   \n",
      " 0   label                                              64409 non-null  category\n",
      " 1   train_all                                          64409 non-null  bool    \n",
      " 2   geometry                                           64409 non-null  geometry\n",
      " 3   HistGradientBoostingClassifier_baseline_wx_y_pred  64409 non-null  object  \n",
      " 4   logite_baseline_wx_y_pred                          64409 non-null  object  \n",
      " 5   RandomForestClassifier_baseline_wx_y_pred          64409 non-null  object  \n",
      " 6   HistGradientBoostingClassifier_baseline_y_pred     64409 non-null  object  \n",
      " 7   logite_baseline_y_pred                             64409 non-null  object  \n",
      " 8   maxprob_baseline_y_pred                            64409 non-null  object  \n",
      " 9   RandomForestClassifier_baseline_y_pred             64409 non-null  object  \n",
      "dtypes: bool(1), category(1), geometry(1), object(7)\n",
      "memory usage: 6.6+ MB\n"
     ]
    }
   ],
   "source": [
    "db = gl.join(y_preds.drop(columns=vals))\n",
    "db.info()"
   ]
  },
  {
   "cell_type": "markdown",
   "id": "1cc861dc-3989-4aa5-a6bf-4e9836b14d45",
   "metadata": {},
   "source": [
    "## Metrics"
   ]
  },
  {
   "cell_type": "markdown",
   "id": "b635122f-ace3-4874-9111-56033361d9be",
   "metadata": {},
   "source": [
    "- Set intuitive order of models"
   ]
  },
  {
   "cell_type": "code",
   "execution_count": 7,
   "id": "ac4ea6eb-3ca3-4fc9-821a-1b7848aa0627",
   "metadata": {},
   "outputs": [],
   "source": [
    "model_names = [\n",
    "    'maxprob_baseline_y_pred',\n",
    "    'logite_baseline_y_pred',\n",
    "    'logite_baseline_wx_y_pred',\n",
    "    'RandomForestClassifier_baseline_y_pred',\n",
    "    'RandomForestClassifier_baseline_wx_y_pred',\n",
    "    'HistGradientBoostingClassifier_baseline_y_pred',\n",
    "    'HistGradientBoostingClassifier_baseline_wx_y_pred'\n",
    "]\n",
    "model_names_short = [\n",
    "    'maxprob_baseline',\n",
    "    'logite',\n",
    "    'logite_wx',\n",
    "    'RF',\n",
    "    'RF_wx',\n",
    "    'HBGB',\n",
    "    'HBGB_wx'\n",
    "]"
   ]
  },
  {
   "cell_type": "markdown",
   "id": "777885c7-dfbc-4886-a550-f33c371e2cf9",
   "metadata": {},
   "source": [
    "- Calculate all metrics by model"
   ]
  },
  {
   "cell_type": "code",
   "execution_count": 8,
   "id": "5bb629f9-098c-41e3-a277-38f83c87291d",
   "metadata": {},
   "outputs": [],
   "source": [
    "metrics = {}\n",
    "train = db.query('train_all')\n",
    "val = db.query('~train_all')\n",
    "for model in model_names:\n",
    "    meta = tools.build_perf(\n",
    "        train['label'],\n",
    "        train[model],\n",
    "        val['label'],\n",
    "        val[model],\n",
    "        tools.class_names\n",
    "    )\n",
    "    metrics[model] = deepcopy(meta)"
   ]
  },
  {
   "cell_type": "markdown",
   "id": "9fbfe5f1-af57-4f16-9b55-b88167e04f2b",
   "metadata": {
    "tags": []
   },
   "source": [
    "### Global"
   ]
  },
  {
   "cell_type": "markdown",
   "id": "3d6e38fb-7148-414c-b6e9-6591240aaa5f",
   "metadata": {},
   "source": [
    "- Single scores"
   ]
  },
  {
   "cell_type": "code",
   "execution_count": 23,
   "id": "7a589ac7-8b08-4dc7-bb33-e17fbdb1417f",
   "metadata": {
    "jupyter": {
     "source_hidden": true
    },
    "tags": []
   },
   "outputs": [
    {
     "data": {
      "text/html": [
       "<div>\n",
       "<style scoped>\n",
       "    .dataframe tbody tr th:only-of-type {\n",
       "        vertical-align: middle;\n",
       "    }\n",
       "\n",
       "    .dataframe tbody tr th {\n",
       "        vertical-align: top;\n",
       "    }\n",
       "\n",
       "    .dataframe thead th {\n",
       "        text-align: right;\n",
       "    }\n",
       "</style>\n",
       "<table border=\"1\" class=\"dataframe\">\n",
       "  <thead>\n",
       "    <tr style=\"text-align: right;\">\n",
       "      <th></th>\n",
       "      <th>kappa</th>\n",
       "      <th>model_accuracy</th>\n",
       "      <th>macro_f1_avg</th>\n",
       "      <th>macro_f1_w</th>\n",
       "    </tr>\n",
       "  </thead>\n",
       "  <tbody>\n",
       "    <tr>\n",
       "      <th>maxprob_baseline</th>\n",
       "      <td>0.082029</td>\n",
       "      <td>0.240624</td>\n",
       "      <td>0.152201</td>\n",
       "      <td>0.257502</td>\n",
       "    </tr>\n",
       "    <tr>\n",
       "      <th>logite_baseline</th>\n",
       "      <td>0.156026</td>\n",
       "      <td>0.418220</td>\n",
       "      <td>0.148086</td>\n",
       "      <td>0.403382</td>\n",
       "    </tr>\n",
       "    <tr>\n",
       "      <th>logite_baseline_wx</th>\n",
       "      <td>0.188568</td>\n",
       "      <td>0.426946</td>\n",
       "      <td>0.163392</td>\n",
       "      <td>0.421285</td>\n",
       "    </tr>\n",
       "    <tr>\n",
       "      <th>RandomForestClassifier_baseline</th>\n",
       "      <td>0.170676</td>\n",
       "      <td>0.484988</td>\n",
       "      <td>0.169646</td>\n",
       "      <td>0.455800</td>\n",
       "    </tr>\n",
       "    <tr>\n",
       "      <th>RandomForestClassifier_baseline_wx</th>\n",
       "      <td>0.260813</td>\n",
       "      <td>0.529699</td>\n",
       "      <td>0.257296</td>\n",
       "      <td>0.504723</td>\n",
       "    </tr>\n",
       "    <tr>\n",
       "      <th>HistGradientBoostingClassifier_baseline</th>\n",
       "      <td>0.184691</td>\n",
       "      <td>0.491708</td>\n",
       "      <td>0.217279</td>\n",
       "      <td>0.466327</td>\n",
       "    </tr>\n",
       "    <tr>\n",
       "      <th>HistGradientBoostingClassifier_baseline_wx</th>\n",
       "      <td>0.240259</td>\n",
       "      <td>0.507967</td>\n",
       "      <td>0.231894</td>\n",
       "      <td>0.494618</td>\n",
       "    </tr>\n",
       "  </tbody>\n",
       "</table>\n",
       "</div>"
      ],
      "text/plain": [
       "                                               kappa  model_accuracy  \\\n",
       "maxprob_baseline                            0.082029        0.240624   \n",
       "logite_baseline                             0.156026        0.418220   \n",
       "logite_baseline_wx                          0.188568        0.426946   \n",
       "RandomForestClassifier_baseline             0.170676        0.484988   \n",
       "RandomForestClassifier_baseline_wx          0.260813        0.529699   \n",
       "HistGradientBoostingClassifier_baseline     0.184691        0.491708   \n",
       "HistGradientBoostingClassifier_baseline_wx  0.240259        0.507967   \n",
       "\n",
       "                                            macro_f1_avg  macro_f1_w  \n",
       "maxprob_baseline                                0.152201    0.257502  \n",
       "logite_baseline                                 0.148086    0.403382  \n",
       "logite_baseline_wx                              0.163392    0.421285  \n",
       "RandomForestClassifier_baseline                 0.169646    0.455800  \n",
       "RandomForestClassifier_baseline_wx              0.257296    0.504723  \n",
       "HistGradientBoostingClassifier_baseline         0.217279    0.466327  \n",
       "HistGradientBoostingClassifier_baseline_wx      0.231894    0.494618  "
      ]
     },
     "execution_count": 23,
     "metadata": {},
     "output_type": "execute_result"
    }
   ],
   "source": [
    "global_scores = []\n",
    "for model in metrics:\n",
    "    global_scores.append(pandas.Series(\n",
    "        {i.replace('perf_', '').replace('_val', ''): metrics[model][i] for i in [\n",
    "            'perf_kappa_val', \n",
    "            'perf_model_accuracy_val', \n",
    "            'perf_macro_f1_avg_val',\n",
    "            'perf_macro_f1_w_val'\n",
    "        ]},\n",
    "        name=model\n",
    "    ))\n",
    "global_scores = pandas.concat(\n",
    "    global_scores, axis=1\n",
    ")[\n",
    "    model_names\n",
    "].rename(\n",
    "    columns=lambda s: s.replace('_y_pred', '')\n",
    ").T\n",
    "global_scores"
   ]
  },
  {
   "cell_type": "markdown",
   "id": "a1f69beb-301f-4657-81a4-10e198d7a3c9",
   "metadata": {},
   "source": [
    "- Confusion matrices"
   ]
  },
  {
   "cell_type": "code",
   "execution_count": 20,
   "id": "ff6eca29-8d0c-45b0-ad49-eb42a2544edd",
   "metadata": {
    "jupyter": {
     "source_hidden": true
    },
    "tags": []
   },
   "outputs": [
    {
     "data": {
      "image/png": "[encoded data removed]",
      "text/plain": [
       "<Figure size 864x864 with 30 Axes>"
      ]
     },
     "metadata": {
      "needs_background": "light"
     },
     "output_type": "display_data"
    }
   ],
   "source": [
    "f, axs = plt.subplots(4, 4, figsize=(12, 12))\n",
    "model_loc = [\n",
    "    (0, 0), # Maxprob\n",
    "    (1, 0), # Logite\n",
    "    (1, 1), # Logite Wx\n",
    "    (2, 0), # RF\n",
    "    (2, 1), # RF Wx\n",
    "    (3, 0), # HGBD\n",
    "    (3, 1)  # HGBD Wx\n",
    "]\n",
    "                    # Raw counts #\n",
    "maxcount = max([np.array(metrics[model]['perf_confusion_val']).max()])\n",
    "for i, model in enumerate(model_names):\n",
    "    ax = tools.build_cm_plot(\n",
    "        metrics[model]['perf_confusion_val'], \n",
    "        maxcount=maxcount,\n",
    "        ax=axs[model_loc[i]]\n",
    "    )\n",
    "    ax.set_title(model_names_short[i])\n",
    "axs[0, 1].set_axis_off()\n",
    "                    # Std #\n",
    "for i, model in enumerate(model_names):\n",
    "    xy = model_loc[i]\n",
    "    ax = tools.build_cm_plot(\n",
    "        metrics[model]['perf_confusion_val'], \n",
    "        maxcount=maxcount,\n",
    "        std=True,\n",
    "        ax=axs[xy[0], xy[1]+2]\n",
    "    )\n",
    "    ax.set_title(model_names_short[i])\n",
    "axs[0, 3].set_axis_off()\n",
    "plt.tight_layout()"
   ]
  },
  {
   "cell_type": "markdown",
   "id": "56ba7f6b-a59d-470b-9a14-e133bbc7c95e",
   "metadata": {},
   "source": [
    "### Class-based"
   ]
  },
  {
   "cell_type": "code",
   "execution_count": 31,
   "id": "b8575f76-3ce5-4da6-b553-eab3d36192e1",
   "metadata": {},
   "outputs": [
    {
     "data": {
      "text/html": [
       "<div>\n",
       "<style scoped>\n",
       "    .dataframe tbody tr th:only-of-type {\n",
       "        vertical-align: middle;\n",
       "    }\n",
       "\n",
       "    .dataframe tbody tr th {\n",
       "        vertical-align: top;\n",
       "    }\n",
       "\n",
       "    .dataframe thead th {\n",
       "        text-align: right;\n",
       "    }\n",
       "</style>\n",
       "<table border=\"1\" class=\"dataframe\">\n",
       "  <thead>\n",
       "    <tr style=\"text-align: right;\">\n",
       "      <th></th>\n",
       "      <th>urbanity</th>\n",
       "      <th>dense_urban_neighbourhoods</th>\n",
       "      <th>dense_residential_neighbourhoods</th>\n",
       "      <th>connected_residential_neighbourhoods</th>\n",
       "      <th>gridded_residential_quarters</th>\n",
       "      <th>accessible_suburbia</th>\n",
       "      <th>disconnected_suburbia</th>\n",
       "      <th>open_sprawl</th>\n",
       "      <th>warehouse_park_land</th>\n",
       "      <th>urban_buffer</th>\n",
       "      <th>countryside_agriculture</th>\n",
       "      <th>wild_countryside</th>\n",
       "    </tr>\n",
       "  </thead>\n",
       "  <tbody>\n",
       "    <tr>\n",
       "      <th>maxprob_baseline</th>\n",
       "      <td>0.6</td>\n",
       "      <td>0.263889</td>\n",
       "      <td>0.190476</td>\n",
       "      <td>0.082192</td>\n",
       "      <td>0.223529</td>\n",
       "      <td>0.370526</td>\n",
       "      <td>0.000000</td>\n",
       "      <td>0.195699</td>\n",
       "      <td>0.293907</td>\n",
       "      <td>0.120669</td>\n",
       "      <td>0.303030</td>\n",
       "      <td>0.732816</td>\n",
       "    </tr>\n",
       "    <tr>\n",
       "      <th>logite</th>\n",
       "      <td>0.0</td>\n",
       "      <td>0.000000</td>\n",
       "      <td>0.000000</td>\n",
       "      <td>0.000000</td>\n",
       "      <td>0.129412</td>\n",
       "      <td>0.528421</td>\n",
       "      <td>0.000000</td>\n",
       "      <td>0.371326</td>\n",
       "      <td>0.184588</td>\n",
       "      <td>0.300146</td>\n",
       "      <td>0.632074</td>\n",
       "      <td>0.005543</td>\n",
       "    </tr>\n",
       "    <tr>\n",
       "      <th>logite_wx</th>\n",
       "      <td>0.0</td>\n",
       "      <td>0.000000</td>\n",
       "      <td>0.000000</td>\n",
       "      <td>0.000000</td>\n",
       "      <td>0.200000</td>\n",
       "      <td>0.698947</td>\n",
       "      <td>0.000000</td>\n",
       "      <td>0.409319</td>\n",
       "      <td>0.297491</td>\n",
       "      <td>0.320324</td>\n",
       "      <td>0.602740</td>\n",
       "      <td>0.025499</td>\n",
       "    </tr>\n",
       "    <tr>\n",
       "      <th>RF</th>\n",
       "      <td>0.0</td>\n",
       "      <td>0.000000</td>\n",
       "      <td>0.000000</td>\n",
       "      <td>0.000000</td>\n",
       "      <td>0.117647</td>\n",
       "      <td>0.408421</td>\n",
       "      <td>0.000000</td>\n",
       "      <td>0.156989</td>\n",
       "      <td>0.062724</td>\n",
       "      <td>0.595380</td>\n",
       "      <td>0.554310</td>\n",
       "      <td>0.000000</td>\n",
       "    </tr>\n",
       "    <tr>\n",
       "      <th>RF_wx</th>\n",
       "      <td>0.0</td>\n",
       "      <td>0.111111</td>\n",
       "      <td>0.095238</td>\n",
       "      <td>0.000000</td>\n",
       "      <td>0.329412</td>\n",
       "      <td>0.524211</td>\n",
       "      <td>0.000000</td>\n",
       "      <td>0.248746</td>\n",
       "      <td>0.367384</td>\n",
       "      <td>0.493429</td>\n",
       "      <td>0.720631</td>\n",
       "      <td>0.002217</td>\n",
       "    </tr>\n",
       "    <tr>\n",
       "      <th>HBGB</th>\n",
       "      <td>0.0</td>\n",
       "      <td>0.000000</td>\n",
       "      <td>0.009524</td>\n",
       "      <td>0.013699</td>\n",
       "      <td>0.258824</td>\n",
       "      <td>0.454737</td>\n",
       "      <td>0.045455</td>\n",
       "      <td>0.136918</td>\n",
       "      <td>0.250896</td>\n",
       "      <td>0.558609</td>\n",
       "      <td>0.592500</td>\n",
       "      <td>0.012195</td>\n",
       "    </tr>\n",
       "    <tr>\n",
       "      <th>HBGB_wx</th>\n",
       "      <td>0.0</td>\n",
       "      <td>0.208333</td>\n",
       "      <td>0.152381</td>\n",
       "      <td>0.095890</td>\n",
       "      <td>0.258824</td>\n",
       "      <td>0.345263</td>\n",
       "      <td>0.045455</td>\n",
       "      <td>0.161290</td>\n",
       "      <td>0.349462</td>\n",
       "      <td>0.490774</td>\n",
       "      <td>0.683963</td>\n",
       "      <td>0.097561</td>\n",
       "    </tr>\n",
       "  </tbody>\n",
       "</table>\n",
       "</div>"
      ],
      "text/plain": [
       "                  urbanity  dense_urban_neighbourhoods  \\\n",
       "maxprob_baseline       0.6                    0.263889   \n",
       "logite                 0.0                    0.000000   \n",
       "logite_wx              0.0                    0.000000   \n",
       "RF                     0.0                    0.000000   \n",
       "RF_wx                  0.0                    0.111111   \n",
       "HBGB                   0.0                    0.000000   \n",
       "HBGB_wx                0.0                    0.208333   \n",
       "\n",
       "                  dense_residential_neighbourhoods  \\\n",
       "maxprob_baseline                          0.190476   \n",
       "logite                                    0.000000   \n",
       "logite_wx                                 0.000000   \n",
       "RF                                        0.000000   \n",
       "RF_wx                                     0.095238   \n",
       "HBGB                                      0.009524   \n",
       "HBGB_wx                                   0.152381   \n",
       "\n",
       "                  connected_residential_neighbourhoods  \\\n",
       "maxprob_baseline                              0.082192   \n",
       "logite                                        0.000000   \n",
       "logite_wx                                     0.000000   \n",
       "RF                                            0.000000   \n",
       "RF_wx                                         0.000000   \n",
       "HBGB                                          0.013699   \n",
       "HBGB_wx                                       0.095890   \n",
       "\n",
       "                  gridded_residential_quarters  accessible_suburbia  \\\n",
       "maxprob_baseline                      0.223529             0.370526   \n",
       "logite                                0.129412             0.528421   \n",
       "logite_wx                             0.200000             0.698947   \n",
       "RF                                    0.117647             0.408421   \n",
       "RF_wx                                 0.329412             0.524211   \n",
       "HBGB                                  0.258824             0.454737   \n",
       "HBGB_wx                               0.258824             0.345263   \n",
       "\n",
       "                  disconnected_suburbia  open_sprawl  warehouse_park_land  \\\n",
       "maxprob_baseline               0.000000     0.195699             0.293907   \n",
       "logite                         0.000000     0.371326             0.184588   \n",
       "logite_wx                      0.000000     0.409319             0.297491   \n",
       "RF                             0.000000     0.156989             0.062724   \n",
       "RF_wx                          0.000000     0.248746             0.367384   \n",
       "HBGB                           0.045455     0.136918             0.250896   \n",
       "HBGB_wx                        0.045455     0.161290             0.349462   \n",
       "\n",
       "                  urban_buffer  countryside_agriculture  wild_countryside  \n",
       "maxprob_baseline      0.120669                 0.303030          0.732816  \n",
       "logite                0.300146                 0.632074          0.005543  \n",
       "logite_wx             0.320324                 0.602740          0.025499  \n",
       "RF                    0.595380                 0.554310          0.000000  \n",
       "RF_wx                 0.493429                 0.720631          0.002217  \n",
       "HBGB                  0.558609                 0.592500          0.012195  \n",
       "HBGB_wx               0.490774                 0.683963          0.097561  "
      ]
     },
     "execution_count": 31,
     "metadata": {},
     "output_type": "execute_result"
    }
   ],
   "source": [
    "wca = []\n",
    "for i, model in enumerate(model_names):\n",
    "    wca.append(pandas.Series(\n",
    "        metrics[model]['perf_within_class_accuracy_val'],\n",
    "        metrics[model]['meta_class_names'],\n",
    "        name=model_names_short[i]\n",
    "    ))\n",
    "wca = pandas.concat(\n",
    "    wca, axis=1\n",
    ")[model_names_short].T\n",
    "wca"
   ]
  },
  {
   "cell_type": "code",
   "execution_count": 36,
   "id": "d4c510a4-4f36-496c-913a-50ce3a123dbd",
   "metadata": {},
   "outputs": [
    {
     "data": {
      "image/png": "[encoded data removed]",
      "text/plain": [
       "<Figure size 432x288 with 2 Axes>"
      ]
     },
     "metadata": {
      "needs_background": "light"
     },
     "output_type": "display_data"
    }
   ],
   "source": [
    "h = sns.heatmap(wca, vmin=0, vmax=1, cmap='viridis')\n",
    "h.set_xticklabels(h.get_xticklabels(), rotation = 45, ha=\"right\")\n",
    "h.set_title('Within-class Accuracy');"
   ]
  },
  {
   "cell_type": "markdown",
   "id": "610e5a71-7e60-4c3f-a628-a6a8fb4a7ac7",
   "metadata": {},
   "source": [
    "### Spatial"
   ]
  },
  {
   "cell_type": "code",
   "execution_count": 25,
   "id": "d0828894-b4d3-4db6-a593-4ad0de9e6eec",
   "metadata": {},
   "outputs": [
    {
     "data": {
      "text/plain": [
       "['urbanity',\n",
       " 'dense_urban_neighbourhoods',\n",
       " 'dense_residential_neighbourhoods',\n",
       " 'connected_residential_neighbourhoods',\n",
       " 'gridded_residential_quarters',\n",
       " 'accessible_suburbia',\n",
       " 'disconnected_suburbia',\n",
       " 'open_sprawl',\n",
       " 'warehouse_park_land',\n",
       " 'urban_buffer',\n",
       " 'countryside_agriculture',\n",
       " 'wild_countryside']"
      ]
     },
     "execution_count": 25,
     "metadata": {},
     "output_type": "execute_result"
    }
   ],
   "source": [
    "metrics[model_names[0]]['meta_class_names']"
   ]
  },
  {
   "cell_type": "code",
   "execution_count": 115,
   "id": "69173773-8748-4a03-9245-2c5cb468a8dc",
   "metadata": {},
   "outputs": [
    {
     "data": {
      "text/plain": [
       "['perf_confusion_val']"
      ]
     },
     "execution_count": 115,
     "metadata": {},
     "output_type": "execute_result"
    }
   ],
   "source": [
    "[i for i in list(\n",
    "    metrics['HistGradientBoostingClassifier_baseline_wx_y_pred'].keys()\n",
    ") if ('perf_' in i) and ('val' in i) and ('confusion' in i)]"
   ]
  }
 ],
 "metadata": {
  "kernelspec": {
   "display_name": "Python 3 (ipykernel)",
   "language": "python",
   "name": "python3"
  },
  "language_info": {
   "codemirror_mode": {
    "name": "ipython",
    "version": 3
   },
   "file_extension": ".py",
   "mimetype": "text/x-python",
   "name": "python",
   "nbconvert_exporter": "python",
   "pygments_lexer": "ipython3",
   "version": "3.9.12"
  }
 },
 "nbformat": 4,
 "nbformat_minor": 5
}
