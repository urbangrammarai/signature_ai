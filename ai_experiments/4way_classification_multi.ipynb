{
 "cells": [
  {
   "cell_type": "code",
   "execution_count": 1,
   "id": "39750c9c",
   "metadata": {},
   "outputs": [],
   "source": [
    "import os\n",
    "import glob\n",
    "import shutil\n",
    "from pathlib import Path\n",
    "import random\n",
    "import numpy\n",
    "import tensorflow as tf\n",
    "import pandas\n",
    "\n",
    "from model_builder import model_builder, relabel, class_merger, balancer\n",
    "import tools_keras\n",
    "from tensorflow import keras\n",
    "from tensorflow.keras import layers\n",
    "from tensorflow.keras.applications import resnet_v2, vgg19, efficientnet\n",
    "\n",
    "random.seed(42)\n",
    "numpy.random.seed(42)\n",
    "tf.random.set_seed(42)"
   ]
  },
  {
   "cell_type": "code",
   "execution_count": null,
   "id": "33df2655",
   "metadata": {},
   "outputs": [
    {
     "name": "stderr",
     "output_type": "stream",
     "text": [
      "2022-08-08 14:12:41.049455: I tensorflow/core/common_runtime/gpu/gpu_device.cc:1525] Created device /job:localhost/replica:0/task:0/device:GPU:0 with 6619 MB memory:  -> device: 0, name: Quadro RTX 4000, pci bus id: 0000:21:00.0, compute capability: 7.5\n"
     ]
    },
    {
     "name": "stdout",
     "output_type": "stream",
     "text": [
      "Downloading data from https://storage.googleapis.com/keras-applications/efficientnetb4_notop.h5\n",
      "71688192/71686520 [==============================] - 1s 0us/step\n",
      "71696384/71686520 [==============================] - 1s 0us/step\n",
      "Model: \"efficientnet_pooling_256_12\"\n",
      "_________________________________________________________________\n",
      " Layer (type)                Output Shape              Param #   \n",
      "=================================================================\n",
      " input_2 (InputLayer)        [(None, 8, 8, 3)]         0         \n",
      "                                                                 \n",
      " resizing (Resizing)         (None, 224, 224, 3)       0         \n",
      "                                                                 \n",
      " efficientnetb4 (Functional)  (None, 7, 7, 1792)       17673823  \n",
      "                                                                 \n",
      " global_average_pooling2d (G  (None, 1792)             0         \n",
      " lobalAveragePooling2D)                                          \n",
      "                                                                 \n",
      " dense (Dense)               (None, 256)               459008    \n",
      "                                                                 \n",
      " dense_1 (Dense)             (None, 12)                3084      \n",
      "                                                                 \n",
      "=================================================================\n",
      "Total params: 18,135,915\n",
      "Trainable params: 462,092\n",
      "Non-trainable params: 17,673,823\n",
      "_________________________________________________________________\n",
      "None\n",
      "training...\n"
     ]
    },
    {
     "name": "stderr",
     "output_type": "stream",
     "text": [
      "/usr/local/lib/python3.8/dist-packages/keras/engine/functional.py:1410: CustomMaskWarning: Custom mask layers require a config and must override get_config. When loading, the custom mask layer must be passed to the custom_objects argument.\n",
      "  layer_config = serialize_layer_fn(layer)\n"
     ]
    },
    {
     "name": "stdout",
     "output_type": "stream",
     "text": [
      "Epoch 1/200\n"
     ]
    },
    {
     "name": "stderr",
     "output_type": "stream",
     "text": [
      "2022-08-08 14:12:52.961070: I tensorflow/stream_executor/cuda/cuda_dnn.cc:377] Loaded cuDNN version 8302\n"
     ]
    },
    {
     "name": "stdout",
     "output_type": "stream",
     "text": [
      "1691/1691 [==============================] - ETA: 0s - loss: 3.0550 - accuracy: 0.2421"
     ]
    },
    {
     "name": "stderr",
     "output_type": "stream",
     "text": [
      "2022-08-08 14:16:52.815296: W tensorflow/python/util/util.cc:368] Sets are not currently considered sequences, but this may change in the future, so consider avoiding using them.\n"
     ]
    },
    {
     "name": "stdout",
     "output_type": "stream",
     "text": [
      "INFO:tensorflow:Assets written to: ../../ai/v2_gb_8_multi/model/efficientnet_pooling_256_12_best/assets\n"
     ]
    },
    {
     "name": "stderr",
     "output_type": "stream",
     "text": [
      "/usr/local/lib/python3.8/dist-packages/keras/engine/functional.py:1410: CustomMaskWarning: Custom mask layers require a config and must override get_config. When loading, the custom mask layer must be passed to the custom_objects argument.\n",
      "  layer_config = serialize_layer_fn(layer)\n",
      "/usr/local/lib/python3.8/dist-packages/keras/saving/saved_model/layer_serialization.py:112: CustomMaskWarning: Custom mask layers require a config and must override get_config. When loading, the custom mask layer must be passed to the custom_objects argument.\n",
      "  return generic_utils.serialize_keras_object(obj)\n"
     ]
    },
    {
     "name": "stdout",
     "output_type": "stream",
     "text": [
      "1691/1691 [==============================] - 281s 161ms/step - loss: 3.0550 - accuracy: 0.2421 - val_loss: 2.0276 - val_accuracy: 0.2698\n",
      "Epoch 2/200\n",
      "1691/1691 [==============================] - ETA: 0s - loss: 2.9732 - accuracy: 0.2642INFO:tensorflow:Assets written to: ../../ai/v2_gb_8_multi/model/efficientnet_pooling_256_12_best/assets\n"
     ]
    },
    {
     "name": "stderr",
     "output_type": "stream",
     "text": [
      "/usr/local/lib/python3.8/dist-packages/keras/engine/functional.py:1410: CustomMaskWarning: Custom mask layers require a config and must override get_config. When loading, the custom mask layer must be passed to the custom_objects argument.\n",
      "  layer_config = serialize_layer_fn(layer)\n",
      "/usr/local/lib/python3.8/dist-packages/keras/saving/saved_model/layer_serialization.py:112: CustomMaskWarning: Custom mask layers require a config and must override get_config. When loading, the custom mask layer must be passed to the custom_objects argument.\n",
      "  return generic_utils.serialize_keras_object(obj)\n"
     ]
    },
    {
     "name": "stdout",
     "output_type": "stream",
     "text": [
      "1691/1691 [==============================] - 273s 161ms/step - loss: 2.9732 - accuracy: 0.2642 - val_loss: 2.0073 - val_accuracy: 0.2784\n",
      "Epoch 3/200\n",
      "1691/1691 [==============================] - ETA: 0s - loss: 2.9457 - accuracy: 0.2716INFO:tensorflow:Assets written to: ../../ai/v2_gb_8_multi/model/efficientnet_pooling_256_12_best/assets\n"
     ]
    },
    {
     "name": "stderr",
     "output_type": "stream",
     "text": [
      "/usr/local/lib/python3.8/dist-packages/keras/engine/functional.py:1410: CustomMaskWarning: Custom mask layers require a config and must override get_config. When loading, the custom mask layer must be passed to the custom_objects argument.\n",
      "  layer_config = serialize_layer_fn(layer)\n",
      "/usr/local/lib/python3.8/dist-packages/keras/saving/saved_model/layer_serialization.py:112: CustomMaskWarning: Custom mask layers require a config and must override get_config. When loading, the custom mask layer must be passed to the custom_objects argument.\n",
      "  return generic_utils.serialize_keras_object(obj)\n"
     ]
    },
    {
     "name": "stdout",
     "output_type": "stream",
     "text": [
      "1691/1691 [==============================] - 273s 162ms/step - loss: 2.9457 - accuracy: 0.2716 - val_loss: 2.0026 - val_accuracy: 0.2794\n",
      "Epoch 4/200\n",
      "1691/1691 [==============================] - ETA: 0s - loss: 2.9274 - accuracy: 0.2765INFO:tensorflow:Assets written to: ../../ai/v2_gb_8_multi/model/efficientnet_pooling_256_12_best/assets\n"
     ]
    },
    {
     "name": "stderr",
     "output_type": "stream",
     "text": [
      "/usr/local/lib/python3.8/dist-packages/keras/engine/functional.py:1410: CustomMaskWarning: Custom mask layers require a config and must override get_config. When loading, the custom mask layer must be passed to the custom_objects argument.\n",
      "  layer_config = serialize_layer_fn(layer)\n",
      "/usr/local/lib/python3.8/dist-packages/keras/saving/saved_model/layer_serialization.py:112: CustomMaskWarning: Custom mask layers require a config and must override get_config. When loading, the custom mask layer must be passed to the custom_objects argument.\n",
      "  return generic_utils.serialize_keras_object(obj)\n"
     ]
    },
    {
     "name": "stdout",
     "output_type": "stream",
     "text": [
      "1691/1691 [==============================] - 273s 162ms/step - loss: 2.9274 - accuracy: 0.2765 - val_loss: 1.9948 - val_accuracy: 0.2805\n",
      "Epoch 5/200\n",
      "1691/1691 [==============================] - ETA: 0s - loss: 2.9131 - accuracy: 0.2801"
     ]
    }
   ],
   "source": [
    "for chip_size in [8, 16, 32, 64]:\n",
    "    specs = {\n",
    "        'chips': f\"../../chips_gb/v2_{chip_size}_multi.npy\",\n",
    "        'labels': f\"../../chips_gb/v2_{chip_size}_multi_labels.parquet\",\n",
    "        'folder': f\"../../ai/v2_gb_{chip_size}_multi/\",\n",
    "    }\n",
    "\n",
    "    chips = numpy.load(specs['chips'])\n",
    "    labels = pandas.read_parquet(specs['labels'])\n",
    "\n",
    "    labels[\"signature_type\"] = labels.drop(columns=[\"geometry\", \"split\"]).idxmax(axis=1)\n",
    "\n",
    "    labels = labels[[\"signature_type\", \"split\"]]\n",
    "\n",
    "    sorter = numpy.arange(0, chips.shape[0])\n",
    "    numpy.random.shuffle(sorter)\n",
    "    chips = chips[sorter]\n",
    "    labels = labels.iloc[sorter].reset_index(drop=True)\n",
    "\n",
    "    group_mapping = [\n",
    "        ['9_0', '9_1', '9_2', '9_4', '9_5'],\n",
    "        ['2_0'], \n",
    "        ['2_1'], \n",
    "        ['2_2'],\n",
    "        ['1_0'], \n",
    "        ['3_0'], \n",
    "        ['5_0'], \n",
    "        ['6_0'], \n",
    "        ['8_0'],\n",
    "        ['0_0'],\n",
    "        ['4_0'],\n",
    "        ['7_0']\n",
    "    ]\n",
    "\n",
    "    group_naming = [\n",
    "        \"Urbanity\", \n",
    "        \"Dense residential neighbourhoods\",\n",
    "        \"Connected residential neighbourhoods\",\n",
    "        \"Dense urban neighbourhoods\",\n",
    "        \"Accessible suburbia\",\n",
    "        \"Open sprawl\",\n",
    "        \"Warehouse_Park land\",\n",
    "        \"Gridded residential quarters\",\n",
    "        \"Disconnected suburbia\",\n",
    "        \"Countryside agriculture\", \n",
    "        \"Wild countryside\", \n",
    "        \"Urban buffer\"\n",
    "    ]\n",
    "\n",
    "    mask = labels.split.str.startswith('nn')\n",
    "    labels_nn = labels[mask]\n",
    "    chips_nn = chips[mask]\n",
    "\n",
    "    labels_merged = class_merger(labels_nn.signature_type, group_mapping)\n",
    "\n",
    "    train_mask = labels_nn['split'] == \"nn_train\"\n",
    "\n",
    "    train_dataset = tf.data.Dataset.from_tensor_slices((chips_nn[train_mask], labels_merged[train_mask]))\n",
    "    validation_dataset = tf.data.Dataset.from_tensor_slices((chips_nn[~train_mask], labels_merged[~train_mask]))\n",
    "\n",
    "    train_dataset = train_dataset.batch(batch_size=32)\n",
    "    validation_dataset = validation_dataset.batch(batch_size=32)\n",
    "\n",
    "    model_specs = {\n",
    "        'meta_class_map': group_mapping,\n",
    "        'meta_class_names': group_naming,\n",
    "        'meta_chip_size': chip_size,\n",
    "    }\n",
    "\n",
    "    model = model_builder(\n",
    "        model_name=\"efficientnet\", \n",
    "        bridge=\"pooling\", \n",
    "        top_layer_neurons=256,\n",
    "        n_labels=12,\n",
    "        input_shape=(chip_size, chip_size, 3),\n",
    "    )\n",
    "\n",
    "    un, c = numpy.unique(labels_merged, return_counts=True)\n",
    "    class_weights = dict(zip(un, c.max() / c))\n",
    "\n",
    "    h = tools_keras.fit_phase_numpy(\n",
    "            model,\n",
    "            train_dataset,\n",
    "            validation_dataset,\n",
    "            log_folder=specs[\"folder\"] + \"logs\",\n",
    "            pred_folder=None,\n",
    "            model_folder=specs[\"folder\"] + \"model\",\n",
    "            json_folder=None,\n",
    "            specs=model_specs,\n",
    "            epochs=200,\n",
    "            patience=5,\n",
    "            batch_size=32,\n",
    "            verbose=True,\n",
    "            class_weight=class_weights,\n",
    "        )"
   ]
  },
  {
   "cell_type": "code",
   "execution_count": null,
   "id": "b621df23",
   "metadata": {},
   "outputs": [],
   "source": []
  }
 ],
 "metadata": {
  "kernelspec": {
   "display_name": "Python 3 (ipykernel)",
   "language": "python",
   "name": "python3"
  },
  "language_info": {
   "codemirror_mode": {
    "name": "ipython",
    "version": 3
   },
   "file_extension": ".py",
   "mimetype": "text/x-python",
   "name": "python",
   "nbconvert_exporter": "python",
   "pygments_lexer": "ipython3",
   "version": "3.11.0"
  }
 },
 "nbformat": 4,
 "nbformat_minor": 5
}
