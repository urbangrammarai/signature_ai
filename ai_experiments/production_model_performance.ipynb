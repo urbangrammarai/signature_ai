{
 "cells": [
  {
   "cell_type": "markdown",
   "id": "67eb096e-f6e1-4ab9-a0be-43de78cb2954",
   "metadata": {},
   "source": [
    "# Model performance in production: all GB"
   ]
  },
  {
   "cell_type": "markdown",
   "id": "00f9414c-0e9d-4ac0-87f5-1c51ec09abc8",
   "metadata": {},
   "source": [
    "This document contains the code used to compute performance scores of all the models used for the case of GB. It is the production version of [`explore_model_performance`](explore_model_performance)."
   ]
  }
 ],
 "metadata": {
  "kernelspec": {
   "display_name": "Python 3 (ipykernel)",
   "language": "python",
   "name": "python3"
  },
  "language_info": {
   "codemirror_mode": {
    "name": "ipython",
    "version": 3
   },
   "file_extension": ".py",
   "mimetype": "text/x-python",
   "name": "python",
   "nbconvert_exporter": "python",
   "pygments_lexer": "ipython3",
   "version": "3.9.12"
  }
 },
 "nbformat": 4,
 "nbformat_minor": 5
}
