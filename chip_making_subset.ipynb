{
 "cells": [
  {
   "cell_type": "markdown",
   "id": "022b7cf0-838a-4cab-be6d-50c74f025526",
   "metadata": {},
   "source": [
    "# Chip making for a subset of GB\n",
    "\n",
    "This document extracts a series of chips for a region of GB and stores them as `numpy` arrays ready to be loaded by TensorFlow."
   ]
  },
  {
   "cell_type": "code",
   "execution_count": 9,
   "id": "37ad34be-b7c7-4211-8028-71ef2ba7ea07",
   "metadata": {},
   "outputs": [],
   "source": [
    "import tools\n",
    "import xarray, rioxarray\n",
    "from shapely.geometry import box"
   ]
  },
  {
   "cell_type": "markdown",
   "id": "eb4c5e24-6887-4c40-932b-54e0708b5a76",
   "metadata": {},
   "source": [
    "## Specs"
   ]
  },
  {
   "cell_type": "markdown",
   "id": "964c6f82-4983-405b-b28b-73c86dbde346",
   "metadata": {},
   "source": [
    "- Data paths"
   ]
  },
  {
   "cell_type": "code",
   "execution_count": 6,
   "id": "048bc0a7-24da-4490-aac4-17b2765f0ce1",
   "metadata": {},
   "outputs": [],
   "source": [
    "mosaic_p = '/home/jovyan/data/ghs_composite_s2/GHS-composite-S2.vrt'\n",
    "spsig_p = (\n",
    "    '/home/jovyan/data/spatial_signatures/'\n",
    "    'signatures/signatures_combined_levels_simplified.gpkg'\n",
    ")"
   ]
  },
  {
   "cell_type": "markdown",
   "id": "59352c70-8ffc-4eda-b60d-d6444594cc64",
   "metadata": {},
   "source": [
    "- Parameters for chip making"
   ]
  },
  {
   "cell_type": "code",
   "execution_count": null,
   "id": "9a50dd43-a1d3-4dae-9d83-9e426c239153",
   "metadata": {},
   "outputs": [],
   "source": [
    "specs = {\n",
    "    'bb': (321566, 468106, 365379, 437198),\n",
    "    'chip_size': 64\n",
    "}"
   ]
  },
  {
   "cell_type": "markdown",
   "id": "9805d2de-55fe-4840-b9f0-968bf1c5efdf",
   "metadata": {},
   "source": [
    "## Load region"
   ]
  },
  {
   "cell_type": "code",
   "execution_count": 4,
   "id": "6490a7e1-ead9-49df-8f7f-665abb982379",
   "metadata": {},
   "outputs": [],
   "source": [
    "r = rioxarray.open_rasterio(\n",
    "    '/home/jovyan/data/ghs_composite_s2/GHS-composite-S2.vrt',\n",
    "    chunks={'x': 1024, 'y': 1024}\n",
    ")"
   ]
  },
  {
   "cell_type": "markdown",
   "id": "668304f0-7e83-43f0-ab45-70062b051b39",
   "metadata": {},
   "source": [
    "## Make chips"
   ]
  },
  {
   "cell_type": "markdown",
   "id": "aac432b8-b213-4d80-9a7f-9601595a54e2",
   "metadata": {
    "tags": []
   },
   "source": [
    "## Filter through signatures"
   ]
  },
  {
   "cell_type": "markdown",
   "id": "c38846f9-b926-467b-a87a-d9fbbef130ed",
   "metadata": {},
   "source": [
    "## Load imagery into chips"
   ]
  },
  {
   "cell_type": "markdown",
   "id": "9a7ebb7f-183d-4c97-a8f3-9fba4ba144f3",
   "metadata": {},
   "source": [
    "## Write to disk\n",
    "\n",
    "Once ready, we store the array as a `.npz` file to be shipped to TensorFlow."
   ]
  },
  {
   "cell_type": "code",
   "execution_count": null,
   "id": "f7891e56-6961-4cd8-9f8d-05b931e0625d",
   "metadata": {},
   "outputs": [],
   "source": [
    "# See https://numpy.org/doc/stable/reference/generated/numpy.savez_compressed.html"
   ]
  }
 ],
 "metadata": {
  "kernelspec": {
   "display_name": "Python 3 (ipykernel)",
   "language": "python",
   "name": "python3"
  },
  "language_info": {
   "codemirror_mode": {
    "name": "ipython",
    "version": 3
   },
   "file_extension": ".py",
   "mimetype": "text/x-python",
   "name": "python",
   "nbconvert_exporter": "python",
   "pygments_lexer": "ipython3",
   "version": "3.9.7"
  }
 },
 "nbformat": 4,
 "nbformat_minor": 5
}
