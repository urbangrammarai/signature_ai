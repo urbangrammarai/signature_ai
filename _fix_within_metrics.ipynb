{
 "cells": [
  {
   "cell_type": "code",
   "execution_count": 1,
   "id": "18b9c394",
   "metadata": {},
   "outputs": [],
   "source": [
    "import glob\n",
    "import json\n",
    "\n",
    "import numpy\n",
    "import tensorflow as tf\n",
    "\n",
    "import tools_keras"
   ]
  },
  {
   "cell_type": "markdown",
   "id": "08c07e69",
   "metadata": {},
   "source": [
    "16"
   ]
  },
  {
   "cell_type": "code",
   "execution_count": 19,
   "id": "4e038fb7",
   "metadata": {},
   "outputs": [],
   "source": [
    "with open(glob.glob(\"../urbangrammar_samba/spatial_signatures/ai/gb_64_shuffled/json/*\")[0]) as f:\n",
    "    meta = json.load(f)"
   ]
  },
  {
   "cell_type": "code",
   "execution_count": 20,
   "id": "f9305285",
   "metadata": {},
   "outputs": [],
   "source": [
    "model = tf.keras.models.load_model(glob.glob(\"../urbangrammar_samba/spatial_signatures/ai/gb_64_shuffled/model/*\")[0])"
   ]
  },
  {
   "cell_type": "code",
   "execution_count": 21,
   "id": "e81309f9",
   "metadata": {},
   "outputs": [
    {
     "name": "stdout",
     "output_type": "stream",
     "text": [
      "Found 125450 images belonging to 5 classes.\n",
      "Found 26750 images belonging to 5 classes.\n",
      "Found 24017 images belonging to 5 classes.\n"
     ]
    }
   ],
   "source": [
    "train_datagen = tf.keras.preprocessing.image.ImageDataGenerator()\n",
    "train_generator = train_datagen.flow_from_directory(\n",
    "    \"../chips_gb/64_shuffled_balanced/train\",\n",
    "    target_size=(224, 224),\n",
    "    batch_size=32,\n",
    "    class_mode='sparse',\n",
    "    shuffle=False,\n",
    ")\n",
    "\n",
    "validation_datagen = tf.keras.preprocessing.image.ImageDataGenerator()\n",
    "validation_generator = validation_datagen.flow_from_directory(\n",
    "    \"../chips_gb/64_shuffled_balanced/validation\",\n",
    "    target_size=(224, 224),\n",
    "    batch_size=32,\n",
    "    class_mode='sparse',\n",
    "    shuffle=False\n",
    ")\n",
    "secret_datagen = tf.keras.preprocessing.image.ImageDataGenerator()\n",
    "secret_generator = validation_datagen.flow_from_directory(\n",
    "    \"../chips_gb/64_shuffled_balanced/secret\",\n",
    "    target_size=(224, 224),\n",
    "    batch_size=32,\n",
    "    class_mode='sparse',\n",
    "    shuffle=False\n",
    ")\n",
    "\n",
    "subsets = {\n",
    "    \"train\": train_generator,\n",
    "    \"val\": validation_generator,\n",
    "    \"secret\": secret_generator,\n",
    "}"
   ]
  },
  {
   "cell_type": "code",
   "execution_count": 22,
   "id": "92dda91b",
   "metadata": {},
   "outputs": [],
   "source": [
    "for subset in subsets:\n",
    "    dataset = subsets[subset]\n",
    "    y_pred_probs = numpy.load(f\"../urbangrammar_samba/spatial_signatures/ai/gb_64_shuffled/pred/efficientnet_pooling_256_5_{subset}.npy\")\n",
    "    y_pred = numpy.argmax(y_pred_probs, axis=1)\n",
    "    y = dataset.labels\n",
    "    top_prob, wc_accuracy, wc_top_prob = tools_keras.within_class_metrics(\n",
    "            y, y_pred, y_pred_probs\n",
    "        )\n",
    "    # Prob for top class\n",
    "    meta[f\"perf_avg_prob_top_{subset}\"] = top_prob\n",
    "    # Within-class accuracy\n",
    "    meta[f\"perf_within_class_accuracy_{subset}\"] = wc_accuracy\n",
    "    # Within-class avg. prob for top class\n",
    "    meta[f\"perf_within_class_avg_prob_top_{subset}\"] = wc_top_prob"
   ]
  },
  {
   "cell_type": "code",
   "execution_count": 23,
   "id": "566da3aa",
   "metadata": {},
   "outputs": [],
   "source": [
    "with open(glob.glob(\"../urbangrammar_samba/spatial_signatures/ai/gb_64_shuffled/json/*\")[0], \"w\") as f:\n",
    "    f.write(json.dumps(meta, indent=4, cls=tools_keras.NumpyEncoder).replace(\"NaN\", \"null\"))"
   ]
  },
  {
   "cell_type": "code",
   "execution_count": null,
   "id": "75022acb",
   "metadata": {},
   "outputs": [],
   "source": []
  }
 ],
 "metadata": {
  "kernelspec": {
   "display_name": "Python 3 (ipykernel)",
   "language": "python",
   "name": "python3"
  },
  "language_info": {
   "codemirror_mode": {
    "name": "ipython",
    "version": 3
   },
   "file_extension": ".py",
   "mimetype": "text/x-python",
   "name": "python",
   "nbconvert_exporter": "python",
   "pygments_lexer": "ipython3",
   "version": "3.8.10"
  }
 },
 "nbformat": 4,
 "nbformat_minor": 5
}
