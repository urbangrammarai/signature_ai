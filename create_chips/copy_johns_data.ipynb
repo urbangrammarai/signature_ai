{
 "cells": [
  {
   "cell_type": "code",
   "execution_count": 41,
   "id": "a8ca70a7-babd-49a9-bec9-2a7cbbae9b61",
   "metadata": {},
   "outputs": [],
   "source": [
    "import os\n",
    "import shutil\n",
    "import glob\n",
    "import pandas\n",
    "from pathlib import Path\n",
    "from tqdm.auto import tqdm"
   ]
  },
  {
   "cell_type": "code",
   "execution_count": 2,
   "id": "a24da37c-f0f6-4e44-8aeb-ab22032c3b2d",
   "metadata": {},
   "outputs": [],
   "source": [
    "tiles = [\n",
    "    '29UQR', '30UUA', '29UQS', '30UWA', '30UVA', '30UXB', '30UWB',\n",
    "    '30UVB', '30UXC', '30UWC', '30UVC', '30UXD', '30UWD', '30UUB',\n",
    "    '29UQT', '30UUC', '29UQU', '30UUD', '30UVD', '30UXE', '30UWE',\n",
    "    '30UVE', '30UXF', '30UWF', '30UVF', '30UXG', '30UWG', '30UVG',\n",
    "    '29UQV', '30UUE', '30UUF', '30UUG', '30VWH', '30VVH', '29VPC',\n",
    "    '30VUH', '30UYB', '31UCS', '30UYC', '31UCT', '31UDT', '30UYD',\n",
    "    '31UCU', '31UDU', '30UYE', '31UCV'\n",
    "]"
   ]
  },
  {
   "cell_type": "code",
   "execution_count": 46,
   "id": "c22ec167-65c4-480d-9dcd-791aca5461bb",
   "metadata": {},
   "outputs": [
    {
     "data": {
      "application/vnd.jupyter.widget-view+json": {
       "model_id": "fa30cdafcc0f4f10963b95ce3402898e",
       "version_major": 2,
       "version_minor": 0
      },
      "text/plain": [
       "  0%|          | 0/46 [00:00<?, ?it/s]"
      ]
     },
     "metadata": {},
     "output_type": "display_data"
    },
    {
     "data": {
      "application/vnd.jupyter.widget-view+json": {
       "model_id": "323dfc424f3e4e71850be287c413bf74",
       "version_major": 2,
       "version_minor": 0
      },
      "text/plain": [
       "  0%|          | 0/24 [00:00<?, ?it/s]"
      ]
     },
     "metadata": {},
     "output_type": "display_data"
    },
    {
     "data": {
      "application/vnd.jupyter.widget-view+json": {
       "model_id": "7926b5d1357949acb0fca97f38f4ca0c",
       "version_major": 2,
       "version_minor": 0
      },
      "text/plain": [
       "  0%|          | 0/24 [00:00<?, ?it/s]"
      ]
     },
     "metadata": {},
     "output_type": "display_data"
    },
    {
     "data": {
      "application/vnd.jupyter.widget-view+json": {
       "model_id": "e412a7d9ac654fb295fa7364912d71ff",
       "version_major": 2,
       "version_minor": 0
      },
      "text/plain": [
       "  0%|          | 0/25 [00:00<?, ?it/s]"
      ]
     },
     "metadata": {},
     "output_type": "display_data"
    },
    {
     "data": {
      "application/vnd.jupyter.widget-view+json": {
       "model_id": "e1bc2f908b924526b941de4b338d6aa0",
       "version_major": 2,
       "version_minor": 0
      },
      "text/plain": [
       "  0%|          | 0/30 [00:00<?, ?it/s]"
      ]
     },
     "metadata": {},
     "output_type": "display_data"
    },
    {
     "data": {
      "application/vnd.jupyter.widget-view+json": {
       "model_id": "16fc2909090e48998ebfe4ba42474460",
       "version_major": 2,
       "version_minor": 0
      },
      "text/plain": [
       "  0%|          | 0/36 [00:00<?, ?it/s]"
      ]
     },
     "metadata": {},
     "output_type": "display_data"
    },
    {
     "data": {
      "application/vnd.jupyter.widget-view+json": {
       "model_id": "cd5b29840b0e4f14b7643e9942efc3d1",
       "version_major": 2,
       "version_minor": 0
      },
      "text/plain": [
       "  0%|          | 0/27 [00:00<?, ?it/s]"
      ]
     },
     "metadata": {},
     "output_type": "display_data"
    },
    {
     "data": {
      "application/vnd.jupyter.widget-view+json": {
       "model_id": "e0c606c3122f4d869491f7e953e64fde",
       "version_major": 2,
       "version_minor": 0
      },
      "text/plain": [
       "  0%|          | 0/17 [00:00<?, ?it/s]"
      ]
     },
     "metadata": {},
     "output_type": "display_data"
    },
    {
     "data": {
      "application/vnd.jupyter.widget-view+json": {
       "model_id": "efb5150e2b554205bb05ca15e36b8609",
       "version_major": 2,
       "version_minor": 0
      },
      "text/plain": [
       "  0%|          | 0/28 [00:00<?, ?it/s]"
      ]
     },
     "metadata": {},
     "output_type": "display_data"
    },
    {
     "data": {
      "application/vnd.jupyter.widget-view+json": {
       "model_id": "e2d590f42c9d46d4ac2ed0b982fa8fe7",
       "version_major": 2,
       "version_minor": 0
      },
      "text/plain": [
       "  0%|          | 0/29 [00:00<?, ?it/s]"
      ]
     },
     "metadata": {},
     "output_type": "display_data"
    },
    {
     "name": "stdout",
     "output_type": "stream",
     "text": [
      "30UXC../../john/Sentinel2/30UXC/20220131T111209 cloud mask not found\n"
     ]
    },
    {
     "data": {
      "application/vnd.jupyter.widget-view+json": {
       "model_id": "52a765fbf3a74cc698a31b62c0eea5d2",
       "version_major": 2,
       "version_minor": 0
      },
      "text/plain": [
       "  0%|          | 0/17 [00:00<?, ?it/s]"
      ]
     },
     "metadata": {},
     "output_type": "display_data"
    },
    {
     "data": {
      "application/vnd.jupyter.widget-view+json": {
       "model_id": "dab2f46448e247899d0f0d17b55ff424",
       "version_major": 2,
       "version_minor": 0
      },
      "text/plain": [
       "  0%|          | 0/27 [00:00<?, ?it/s]"
      ]
     },
     "metadata": {},
     "output_type": "display_data"
    },
    {
     "data": {
      "application/vnd.jupyter.widget-view+json": {
       "model_id": "bf1cf7af455e4f7da47e0df340ff1b6b",
       "version_major": 2,
       "version_minor": 0
      },
      "text/plain": [
       "  0%|          | 0/31 [00:00<?, ?it/s]"
      ]
     },
     "metadata": {},
     "output_type": "display_data"
    },
    {
     "name": "stdout",
     "output_type": "stream",
     "text": [
      "30UXD../../john/Sentinel2/30UXD/20220126T111331 cloud mask not found\n",
      "30UXD../../john/Sentinel2/30UXD/20220131T111209 cloud mask not found\n"
     ]
    },
    {
     "data": {
      "application/vnd.jupyter.widget-view+json": {
       "model_id": "25c00ef0d353458bbc4387294d460483",
       "version_major": 2,
       "version_minor": 0
      },
      "text/plain": [
       "  0%|          | 0/26 [00:00<?, ?it/s]"
      ]
     },
     "metadata": {},
     "output_type": "display_data"
    },
    {
     "name": "stdout",
     "output_type": "stream",
     "text": [
      "30UWD../../john/Sentinel2/30UWD/20220126T111331 cloud mask not found\n",
      "30UWD../../john/Sentinel2/30UWD/20220201T113321 cloud mask not found\n"
     ]
    },
    {
     "data": {
      "application/vnd.jupyter.widget-view+json": {
       "model_id": "462541575b9c4addb51001b1c42b8125",
       "version_major": 2,
       "version_minor": 0
      },
      "text/plain": [
       "  0%|          | 0/23 [00:00<?, ?it/s]"
      ]
     },
     "metadata": {},
     "output_type": "display_data"
    },
    {
     "data": {
      "application/vnd.jupyter.widget-view+json": {
       "model_id": "9bfe6b9609eb4038977ccbdde08c4d5f",
       "version_major": 2,
       "version_minor": 0
      },
      "text/plain": [
       "  0%|          | 0/36 [00:00<?, ?it/s]"
      ]
     },
     "metadata": {},
     "output_type": "display_data"
    },
    {
     "name": "stdout",
     "output_type": "stream",
     "text": [
      "29UQT../../john/Sentinel2/29UQT/20210430T142658 TCI not found\n",
      "29UQT../../john/Sentinel2/29UQT/20210430T142658 near-IR not found\n",
      "29UQT../../john/Sentinel2/29UQT/20210430T142658 cloud probability not found\n",
      "29UQT../../john/Sentinel2/29UQT/20210430T142658 cloud mask not found\n",
      "29UQT../../john/Sentinel2/29UQT/20220201T113321 cloud mask not found\n",
      "29UQT../../john/Sentinel2/29UQT/20220204T114351 cloud mask not found\n"
     ]
    },
    {
     "data": {
      "application/vnd.jupyter.widget-view+json": {
       "model_id": "66cb010d6a8d4366b57e907d404ee2a6",
       "version_major": 2,
       "version_minor": 0
      },
      "text/plain": [
       "  0%|          | 0/34 [00:00<?, ?it/s]"
      ]
     },
     "metadata": {},
     "output_type": "display_data"
    },
    {
     "name": "stdout",
     "output_type": "stream",
     "text": [
      "30UUC../../john/Sentinel2/30UUC/20210430T142658 TCI not found\n",
      "30UUC../../john/Sentinel2/30UUC/20210430T142658 near-IR not found\n",
      "30UUC../../john/Sentinel2/30UUC/20210430T142658 cloud probability not found\n",
      "30UUC../../john/Sentinel2/30UUC/20210430T142658 cloud mask not found\n",
      "30UUC../../john/Sentinel2/30UUC/20220201T113321 cloud mask not found\n",
      "30UUC../../john/Sentinel2/30UUC/20220204T114351 cloud mask not found\n"
     ]
    },
    {
     "data": {
      "application/vnd.jupyter.widget-view+json": {
       "model_id": "8424e0f2e0774379ad7cfc7037a55095",
       "version_major": 2,
       "version_minor": 0
      },
      "text/plain": [
       "  0%|          | 0/34 [00:00<?, ?it/s]"
      ]
     },
     "metadata": {},
     "output_type": "display_data"
    },
    {
     "name": "stdout",
     "output_type": "stream",
     "text": [
      "29UQU../../john/Sentinel2/29UQU/20220127T113309 cloud mask not found\n",
      "29UQU../../john/Sentinel2/29UQU/20220204T114351 cloud mask not found\n"
     ]
    },
    {
     "data": {
      "application/vnd.jupyter.widget-view+json": {
       "model_id": "1f47dbcaa0bd43c4bdaf32ea132d1306",
       "version_major": 2,
       "version_minor": 0
      },
      "text/plain": [
       "  0%|          | 0/34 [00:00<?, ?it/s]"
      ]
     },
     "metadata": {},
     "output_type": "display_data"
    },
    {
     "name": "stdout",
     "output_type": "stream",
     "text": [
      "30UUD../../john/Sentinel2/30UUD/20220127T113309 cloud mask not found\n",
      "30UUD../../john/Sentinel2/30UUD/20220204T114351 cloud mask not found\n"
     ]
    },
    {
     "data": {
      "application/vnd.jupyter.widget-view+json": {
       "model_id": "d82c8c26b5bf42f884087e0a9de91dea",
       "version_major": 2,
       "version_minor": 0
      },
      "text/plain": [
       "  0%|          | 0/8 [00:00<?, ?it/s]"
      ]
     },
     "metadata": {},
     "output_type": "display_data"
    },
    {
     "data": {
      "application/vnd.jupyter.widget-view+json": {
       "model_id": "d6173c818cc247fa9bacb4db0cb9a768",
       "version_major": 2,
       "version_minor": 0
      },
      "text/plain": [
       "  0%|          | 0/18 [00:00<?, ?it/s]"
      ]
     },
     "metadata": {},
     "output_type": "display_data"
    },
    {
     "name": "stdout",
     "output_type": "stream",
     "text": [
      "30UXE../../john/Sentinel2/30UXE/20220131T111209 cloud mask not found\n"
     ]
    },
    {
     "data": {
      "application/vnd.jupyter.widget-view+json": {
       "model_id": "90cfb6c5d73d4bd78c5875b8aeaf1d54",
       "version_major": 2,
       "version_minor": 0
      },
      "text/plain": [
       "  0%|          | 0/17 [00:00<?, ?it/s]"
      ]
     },
     "metadata": {},
     "output_type": "display_data"
    },
    {
     "name": "stdout",
     "output_type": "stream",
     "text": [
      "30UWE../../john/Sentinel2/30UWE/20220131T111209 cloud mask not found\n"
     ]
    },
    {
     "data": {
      "application/vnd.jupyter.widget-view+json": {
       "model_id": "bd41af89d2064db3b44bebc50fa77ad8",
       "version_major": 2,
       "version_minor": 0
      },
      "text/plain": [
       "  0%|          | 0/13 [00:00<?, ?it/s]"
      ]
     },
     "metadata": {},
     "output_type": "display_data"
    },
    {
     "name": "stdout",
     "output_type": "stream",
     "text": [
      "30UVE../../john/Sentinel2/30UVE/20220127T113309 cloud mask not found\n"
     ]
    },
    {
     "data": {
      "application/vnd.jupyter.widget-view+json": {
       "model_id": "f1b1d741b6354292928a3d83606abde6",
       "version_major": 2,
       "version_minor": 0
      },
      "text/plain": [
       "  0%|          | 0/15 [00:00<?, ?it/s]"
      ]
     },
     "metadata": {},
     "output_type": "display_data"
    },
    {
     "data": {
      "application/vnd.jupyter.widget-view+json": {
       "model_id": "c5f40df6a31f4f87a3d2f6020725ee43",
       "version_major": 2,
       "version_minor": 0
      },
      "text/plain": [
       "  0%|          | 0/24 [00:00<?, ?it/s]"
      ]
     },
     "metadata": {},
     "output_type": "display_data"
    },
    {
     "name": "stdout",
     "output_type": "stream",
     "text": [
      "30UWF../../john/Sentinel2/30UWF/20220131T111209 cloud mask not found\n"
     ]
    },
    {
     "data": {
      "application/vnd.jupyter.widget-view+json": {
       "model_id": "a2548fc8152d4e7ebb039918deb39db5",
       "version_major": 2,
       "version_minor": 0
      },
      "text/plain": [
       "  0%|          | 0/23 [00:00<?, ?it/s]"
      ]
     },
     "metadata": {},
     "output_type": "display_data"
    },
    {
     "data": {
      "application/vnd.jupyter.widget-view+json": {
       "model_id": "1b6626e5a52a46aeb24bcb979c1c32d3",
       "version_major": 2,
       "version_minor": 0
      },
      "text/plain": [
       "  0%|          | 0/35 [00:00<?, ?it/s]"
      ]
     },
     "metadata": {},
     "output_type": "display_data"
    },
    {
     "name": "stdout",
     "output_type": "stream",
     "text": [
      "30UXG../../john/Sentinel2/30UXG/20220127T113309 cloud mask not found\n",
      "30UXG../../john/Sentinel2/30UXG/20220129T112321 cloud mask not found\n"
     ]
    },
    {
     "data": {
      "application/vnd.jupyter.widget-view+json": {
       "model_id": "62e0bb087c8843fca01a541996ca0dfc",
       "version_major": 2,
       "version_minor": 0
      },
      "text/plain": [
       "  0%|          | 0/25 [00:00<?, ?it/s]"
      ]
     },
     "metadata": {},
     "output_type": "display_data"
    },
    {
     "name": "stdout",
     "output_type": "stream",
     "text": [
      "30UWG../../john/Sentinel2/30UWG/20220129T112321 cloud mask not found\n"
     ]
    },
    {
     "data": {
      "application/vnd.jupyter.widget-view+json": {
       "model_id": "b19b585b8ecd432cba13892408f6e733",
       "version_major": 2,
       "version_minor": 0
      },
      "text/plain": [
       "  0%|          | 0/18 [00:00<?, ?it/s]"
      ]
     },
     "metadata": {},
     "output_type": "display_data"
    },
    {
     "data": {
      "application/vnd.jupyter.widget-view+json": {
       "model_id": "14db73d920b249d592b091b26b0268db",
       "version_major": 2,
       "version_minor": 0
      },
      "text/plain": [
       "  0%|          | 0/27 [00:00<?, ?it/s]"
      ]
     },
     "metadata": {},
     "output_type": "display_data"
    },
    {
     "name": "stdout",
     "output_type": "stream",
     "text": [
      "29UQV../../john/Sentinel2/29UQV/20220127T113309 cloud mask not found\n",
      "29UQV../../john/Sentinel2/29UQV/20220204T114351 cloud mask not found\n"
     ]
    },
    {
     "data": {
      "application/vnd.jupyter.widget-view+json": {
       "model_id": "90dfd057036d488cb1652f0ca184bc12",
       "version_major": 2,
       "version_minor": 0
      },
      "text/plain": [
       "  0%|          | 0/29 [00:00<?, ?it/s]"
      ]
     },
     "metadata": {},
     "output_type": "display_data"
    },
    {
     "name": "stdout",
     "output_type": "stream",
     "text": [
      "30UUE../../john/Sentinel2/30UUE/20220127T113309 cloud mask not found\n",
      "30UUE../../john/Sentinel2/30UUE/20220129T112321 cloud mask not found\n",
      "30UUE../../john/Sentinel2/30UUE/20220204T114351 cloud mask not found\n"
     ]
    },
    {
     "data": {
      "application/vnd.jupyter.widget-view+json": {
       "model_id": "95ad0cdaa6204209b7da77f111d22749",
       "version_major": 2,
       "version_minor": 0
      },
      "text/plain": [
       "  0%|          | 0/13 [00:00<?, ?it/s]"
      ]
     },
     "metadata": {},
     "output_type": "display_data"
    },
    {
     "data": {
      "application/vnd.jupyter.widget-view+json": {
       "model_id": "32ea77c06a454b93bedebaeec6f1dba3",
       "version_major": 2,
       "version_minor": 0
      },
      "text/plain": [
       "  0%|          | 0/19 [00:00<?, ?it/s]"
      ]
     },
     "metadata": {},
     "output_type": "display_data"
    },
    {
     "data": {
      "application/vnd.jupyter.widget-view+json": {
       "model_id": "c15fc431bdba4e369df48dda438f431d",
       "version_major": 2,
       "version_minor": 0
      },
      "text/plain": [
       "  0%|          | 0/17 [00:00<?, ?it/s]"
      ]
     },
     "metadata": {},
     "output_type": "display_data"
    },
    {
     "name": "stdout",
     "output_type": "stream",
     "text": [
      "30VWH../../john/Sentinel2/30VWH/20220127T113309 cloud mask not found\n",
      "30VWH../../john/Sentinel2/30VWH/20220129T112321 cloud mask not found\n"
     ]
    },
    {
     "data": {
      "application/vnd.jupyter.widget-view+json": {
       "model_id": "1fdcee54ec8e4803b7eccc24aa2ea0d5",
       "version_major": 2,
       "version_minor": 0
      },
      "text/plain": [
       "  0%|          | 0/14 [00:00<?, ?it/s]"
      ]
     },
     "metadata": {},
     "output_type": "display_data"
    },
    {
     "data": {
      "application/vnd.jupyter.widget-view+json": {
       "model_id": "8f80707c9dc24e7099aa4e9d298d82fd",
       "version_major": 2,
       "version_minor": 0
      },
      "text/plain": [
       "  0%|          | 0/12 [00:00<?, ?it/s]"
      ]
     },
     "metadata": {},
     "output_type": "display_data"
    },
    {
     "data": {
      "application/vnd.jupyter.widget-view+json": {
       "model_id": "a6927b8c081d48128d9f7bf8bce71a00",
       "version_major": 2,
       "version_minor": 0
      },
      "text/plain": [
       "  0%|          | 0/10 [00:00<?, ?it/s]"
      ]
     },
     "metadata": {},
     "output_type": "display_data"
    },
    {
     "data": {
      "application/vnd.jupyter.widget-view+json": {
       "model_id": "2bb69849cfeb42b99a8a4df869999eff",
       "version_major": 2,
       "version_minor": 0
      },
      "text/plain": [
       "  0%|          | 0/17 [00:00<?, ?it/s]"
      ]
     },
     "metadata": {},
     "output_type": "display_data"
    },
    {
     "name": "stdout",
     "output_type": "stream",
     "text": [
      "30UYB../../john/Sentinel2/30UYB/20220131T111209 cloud mask not found\n"
     ]
    },
    {
     "data": {
      "application/vnd.jupyter.widget-view+json": {
       "model_id": "67c94928d38d43fea398a29b69b07e10",
       "version_major": 2,
       "version_minor": 0
      },
      "text/plain": [
       "  0%|          | 0/20 [00:00<?, ?it/s]"
      ]
     },
     "metadata": {},
     "output_type": "display_data"
    },
    {
     "data": {
      "application/vnd.jupyter.widget-view+json": {
       "model_id": "93db6d20dd4a45f2a6e27e46994706c0",
       "version_major": 2,
       "version_minor": 0
      },
      "text/plain": [
       "  0%|          | 0/17 [00:00<?, ?it/s]"
      ]
     },
     "metadata": {},
     "output_type": "display_data"
    },
    {
     "data": {
      "application/vnd.jupyter.widget-view+json": {
       "model_id": "5de67236bdfd4317a38661b6b35c30db",
       "version_major": 2,
       "version_minor": 0
      },
      "text/plain": [
       "  0%|          | 0/18 [00:00<?, ?it/s]"
      ]
     },
     "metadata": {},
     "output_type": "display_data"
    },
    {
     "data": {
      "application/vnd.jupyter.widget-view+json": {
       "model_id": "31a14a8439a949ae9fc31423b4187f97",
       "version_major": 2,
       "version_minor": 0
      },
      "text/plain": [
       "  0%|          | 0/33 [00:00<?, ?it/s]"
      ]
     },
     "metadata": {},
     "output_type": "display_data"
    },
    {
     "name": "stdout",
     "output_type": "stream",
     "text": [
      "31UDT../../john/Sentinel2/31UDT/20220130T105301 cloud mask not found\n"
     ]
    },
    {
     "data": {
      "application/vnd.jupyter.widget-view+json": {
       "model_id": "52bebbeb57594a018ca953faf41d676d",
       "version_major": 2,
       "version_minor": 0
      },
      "text/plain": [
       "  0%|          | 0/18 [00:00<?, ?it/s]"
      ]
     },
     "metadata": {},
     "output_type": "display_data"
    },
    {
     "data": {
      "application/vnd.jupyter.widget-view+json": {
       "model_id": "94c86a40579a4a3495e010251c9a5e2e",
       "version_major": 2,
       "version_minor": 0
      },
      "text/plain": [
       "  0%|          | 0/17 [00:00<?, ?it/s]"
      ]
     },
     "metadata": {},
     "output_type": "display_data"
    },
    {
     "data": {
      "application/vnd.jupyter.widget-view+json": {
       "model_id": "1667976110894980b0f11b4d3e91463d",
       "version_major": 2,
       "version_minor": 0
      },
      "text/plain": [
       "  0%|          | 0/33 [00:00<?, ?it/s]"
      ]
     },
     "metadata": {},
     "output_type": "display_data"
    },
    {
     "name": "stdout",
     "output_type": "stream",
     "text": [
      "31UDU../../john/Sentinel2/31UDU/20220130T105301 cloud mask not found\n"
     ]
    },
    {
     "data": {
      "application/vnd.jupyter.widget-view+json": {
       "model_id": "b26883679346417e8921e9ecf471eb2d",
       "version_major": 2,
       "version_minor": 0
      },
      "text/plain": [
       "  0%|          | 0/36 [00:00<?, ?it/s]"
      ]
     },
     "metadata": {},
     "output_type": "display_data"
    },
    {
     "name": "stdout",
     "output_type": "stream",
     "text": [
      "30UYE../../john/Sentinel2/30UYE/20220129T112321 cloud mask not found\n"
     ]
    },
    {
     "data": {
      "application/vnd.jupyter.widget-view+json": {
       "model_id": "8c0ae790076246efa45bd9b62b46d42e",
       "version_major": 2,
       "version_minor": 0
      },
      "text/plain": [
       "  0%|          | 0/35 [00:00<?, ?it/s]"
      ]
     },
     "metadata": {},
     "output_type": "display_data"
    }
   ],
   "source": [
    "for t in tqdm(tiles):\n",
    "    dates = glob.glob(f\"../../john/Sentinel2/{t}/*\")\n",
    "    dates = pandas.Series(dates)\n",
    "    mask = pandas.to_datetime(dates.apply(lambda x: x[27:35])) > \"2021-04-19\"\n",
    "    to_fetch = dates[mask]\n",
    "    for f in tqdm(to_fetch):\n",
    "        folder = f\"../../data/Sentinel2/{t}/{Path(f).stem}\"\n",
    "        os.makedirs(folder, exist_ok=True)\n",
    "        \n",
    "        try:\n",
    "            tci = glob.glob(f + \"/S2*.SAFE/GRANULE/L2A_*/IMG_DATA/R10m/*_TCI_10m.jp2\")[0]\n",
    "            if not os.path.exists(folder + \"/\" + Path(tci).name):\n",
    "                shutil.copy(tci, folder + \"/\" + Path(tci).name)\n",
    "        except IndexError:\n",
    "            print(t + f + \" TCI not found\")\n",
    "        try:\n",
    "            near = glob.glob(f + \"/S2*.SAFE/GRANULE/L2A_*/IMG_DATA/R10m/*_B08_10m.jp2\")[0]\n",
    "            if not os.path.exists(folder + \"/\" + Path(near).name):\n",
    "                shutil.copy(near, folder + \"/\" + Path(near).name)\n",
    "        except IndexError:\n",
    "            print(t + f + \" near-IR not found\")\n",
    "        try:\n",
    "            cldprb = glob.glob(f + \"/S2*.SAFE/GRANULE/L2A_*/QI_DATA/MSK_CLDPRB_20m.jp2\")[0]\n",
    "            if not os.path.exists(folder + \"/\" + Path(cldprb).name):\n",
    "                shutil.copy(cldprb, folder + \"/\" + Path(cldprb).name)\n",
    "        except IndexError:\n",
    "            print(t + f + \" cloud probability not found\")\n",
    "        try:\n",
    "            cld = glob.glob(f + \"/S2*.SAFE/GRANULE/L2A_*/QI_DATA/MSK_CLOUDS_B00.gml\")[0]\n",
    "            if not os.path.exists(folder + \"/\" + Path(cld).name):\n",
    "                shutil.copy(cld, folder + \"/\" + Path(cld).name)\n",
    "        except IndexError:\n",
    "            print(t + f + \" cloud mask not found\")\n",
    "            \n",
    "        \n",
    "           \n",
    "            \n",
    "            \n",
    "            "
   ]
  },
  {
   "cell_type": "code",
   "execution_count": null,
   "id": "4cbdc8f6-a531-4cfb-81d3-ec7b3e366490",
   "metadata": {},
   "outputs": [],
   "source": []
  }
 ],
 "metadata": {
  "kernelspec": {
   "display_name": "Python 3 (ipykernel)",
   "language": "python",
   "name": "python3"
  },
  "language_info": {
   "codemirror_mode": {
    "name": "ipython",
    "version": 3
   },
   "file_extension": ".py",
   "mimetype": "text/x-python",
   "name": "python",
   "nbconvert_exporter": "python",
   "pygments_lexer": "ipython3",
   "version": "3.9.7"
  }
 },
 "nbformat": 4,
 "nbformat_minor": 5
}
