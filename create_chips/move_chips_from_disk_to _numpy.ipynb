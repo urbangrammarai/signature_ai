{
 "cells": [
  {
   "cell_type": "code",
   "execution_count": 1,
   "id": "08a5fc96-9196-461e-b7b9-8dec094aef98",
   "metadata": {},
   "outputs": [],
   "source": [
    "import numpy\n",
    "import rasterio\n",
    "from glob import glob"
   ]
  },
  {
   "cell_type": "code",
   "execution_count": null,
   "id": "6335bd0e-65a3-4118-8c1f-36af9764f3c6",
   "metadata": {},
   "outputs": [],
   "source": []
  }
 ],
 "metadata": {
  "kernelspec": {
   "display_name": "Python 3 (ipykernel)",
   "language": "python",
   "name": "python3"
  },
  "language_info": {
   "codemirror_mode": {
    "name": "ipython",
    "version": 3
   },
   "file_extension": ".py",
   "mimetype": "text/x-python",
   "name": "python",
   "nbconvert_exporter": "python",
   "pygments_lexer": "ipython3",
   "version": "3.9.7"
  }
 },
 "nbformat": 4,
 "nbformat_minor": 5
}
