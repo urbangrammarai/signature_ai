{
 "cells": [
  {
   "cell_type": "markdown",
   "id": "8837b9bf",
   "metadata": {
    "tags": []
   },
   "source": [
    "# Create multi-label chips for multi-output regression\n",
    "\n",
    "Create chips and store proportions of signature types within as an input of multi-output regression problem"
   ]
  },
  {
   "cell_type": "code",
   "execution_count": 1,
   "id": "3cb714b2",
   "metadata": {},
   "outputs": [],
   "source": [
    "import geopandas\n",
    "import tobler\n",
    "import pyogrio\n",
    "import pygeos\n",
    "import numpy\n",
    "import pandas\n",
    "\n",
    "from scipy.sparse import coo_matrix"
   ]
  },
  {
   "cell_type": "code",
   "execution_count": 2,
   "id": "775fe510",
   "metadata": {},
   "outputs": [],
   "source": [
    "df = geopandas.read_parquet(\"/home/jovyan/work/chips/32_nw/chip_bounds/\").reset_index(drop=True)"
   ]
  },
  {
   "cell_type": "code",
   "execution_count": 3,
   "id": "4d3d342f",
   "metadata": {},
   "outputs": [],
   "source": [
    "signatures = pyogrio.read_dataframe(        \n",
    "        '/home/jovyan/work/urbangrammar_samba/spatial_signatures/'\n",
    "        'signatures/'\n",
    "        'signatures_combined_levels_simplified.gpkg'\n",
    ")"
   ]
  },
  {
   "cell_type": "code",
   "execution_count": 10,
   "id": "796a36ea",
   "metadata": {},
   "outputs": [
    {
     "data": {
      "text/html": [
       "<div>\n",
       "<style scoped>\n",
       "    .dataframe tbody tr th:only-of-type {\n",
       "        vertical-align: middle;\n",
       "    }\n",
       "\n",
       "    .dataframe tbody tr th {\n",
       "        vertical-align: top;\n",
       "    }\n",
       "\n",
       "    .dataframe thead th {\n",
       "        text-align: right;\n",
       "    }\n",
       "</style>\n",
       "<table border=\"1\" class=\"dataframe\">\n",
       "  <thead>\n",
       "    <tr style=\"text-align: right;\">\n",
       "      <th></th>\n",
       "      <th>kmeans10gb</th>\n",
       "      <th>level2</th>\n",
       "      <th>signature_type</th>\n",
       "      <th>geometry</th>\n",
       "    </tr>\n",
       "  </thead>\n",
       "  <tbody>\n",
       "    <tr>\n",
       "      <th>459</th>\n",
       "      <td>0</td>\n",
       "      <td>0.0</td>\n",
       "      <td>0_0</td>\n",
       "      <td>POLYGON ((222242.349 119007.271, 222247.769 11...</td>\n",
       "    </tr>\n",
       "    <tr>\n",
       "      <th>2377</th>\n",
       "      <td>0</td>\n",
       "      <td>0.0</td>\n",
       "      <td>0_0</td>\n",
       "      <td>POLYGON ((321483.724 375103.509, 321491.985 37...</td>\n",
       "    </tr>\n",
       "    <tr>\n",
       "      <th>2392</th>\n",
       "      <td>0</td>\n",
       "      <td>0.0</td>\n",
       "      <td>0_0</td>\n",
       "      <td>POLYGON ((322237.916 365837.936, 322262.255 36...</td>\n",
       "    </tr>\n",
       "    <tr>\n",
       "      <th>2402</th>\n",
       "      <td>0</td>\n",
       "      <td>0.0</td>\n",
       "      <td>0_0</td>\n",
       "      <td>POLYGON ((322711.350 366509.621, 322702.224 36...</td>\n",
       "    </tr>\n",
       "    <tr>\n",
       "      <th>2417</th>\n",
       "      <td>0</td>\n",
       "      <td>0.0</td>\n",
       "      <td>0_0</td>\n",
       "      <td>POLYGON ((323443.669 383766.131, 323468.800 38...</td>\n",
       "    </tr>\n",
       "    <tr>\n",
       "      <th>...</th>\n",
       "      <td>...</td>\n",
       "      <td>...</td>\n",
       "      <td>...</td>\n",
       "      <td>...</td>\n",
       "    </tr>\n",
       "    <tr>\n",
       "      <th>96646</th>\n",
       "      <td>9</td>\n",
       "      <td>4.0</td>\n",
       "      <td>9_4</td>\n",
       "      <td>POLYGON ((435218.589 387770.750, 435228.865 38...</td>\n",
       "    </tr>\n",
       "    <tr>\n",
       "      <th>96649</th>\n",
       "      <td>9</td>\n",
       "      <td>4.0</td>\n",
       "      <td>9_4</td>\n",
       "      <td>POLYGON ((435261.290 387786.423, 435257.445 38...</td>\n",
       "    </tr>\n",
       "    <tr>\n",
       "      <th>96650</th>\n",
       "      <td>9</td>\n",
       "      <td>4.0</td>\n",
       "      <td>9_4</td>\n",
       "      <td>POLYGON ((435384.580 386952.325, 435375.182 38...</td>\n",
       "    </tr>\n",
       "    <tr>\n",
       "      <th>96651</th>\n",
       "      <td>9</td>\n",
       "      <td>4.0</td>\n",
       "      <td>9_4</td>\n",
       "      <td>POLYGON ((435457.100 386870.244, 435452.993 38...</td>\n",
       "    </tr>\n",
       "    <tr>\n",
       "      <th>96652</th>\n",
       "      <td>9</td>\n",
       "      <td>4.0</td>\n",
       "      <td>9_4</td>\n",
       "      <td>POLYGON ((435476.794 387379.590, 435472.571 38...</td>\n",
       "    </tr>\n",
       "  </tbody>\n",
       "</table>\n",
       "<p>14910 rows × 4 columns</p>\n",
       "</div>"
      ],
      "text/plain": [
       "       kmeans10gb  level2 signature_type  \\\n",
       "459             0     0.0            0_0   \n",
       "2377            0     0.0            0_0   \n",
       "2392            0     0.0            0_0   \n",
       "2402            0     0.0            0_0   \n",
       "2417            0     0.0            0_0   \n",
       "...           ...     ...            ...   \n",
       "96646           9     4.0            9_4   \n",
       "96649           9     4.0            9_4   \n",
       "96650           9     4.0            9_4   \n",
       "96651           9     4.0            9_4   \n",
       "96652           9     4.0            9_4   \n",
       "\n",
       "                                                geometry  \n",
       "459    POLYGON ((222242.349 119007.271, 222247.769 11...  \n",
       "2377   POLYGON ((321483.724 375103.509, 321491.985 37...  \n",
       "2392   POLYGON ((322237.916 365837.936, 322262.255 36...  \n",
       "2402   POLYGON ((322711.350 366509.621, 322702.224 36...  \n",
       "2417   POLYGON ((323443.669 383766.131, 323468.800 38...  \n",
       "...                                                  ...  \n",
       "96646  POLYGON ((435218.589 387770.750, 435228.865 38...  \n",
       "96649  POLYGON ((435261.290 387786.423, 435257.445 38...  \n",
       "96650  POLYGON ((435384.580 386952.325, 435375.182 38...  \n",
       "96651  POLYGON ((435457.100 386870.244, 435452.993 38...  \n",
       "96652  POLYGON ((435476.794 387379.590, 435472.571 38...  \n",
       "\n",
       "[14910 rows x 4 columns]"
      ]
     },
     "execution_count": 10,
     "metadata": {},
     "output_type": "execute_result"
    }
   ],
   "source": [
    "signatures"
   ]
  },
  {
   "cell_type": "code",
   "execution_count": 4,
   "id": "525bd37c",
   "metadata": {},
   "outputs": [],
   "source": [
    "bds = df.total_bounds\n",
    "signatures = signatures.cx[bds[0]:bds[2], bds[1]:bds[3]]"
   ]
  },
  {
   "cell_type": "code",
   "execution_count": 5,
   "id": "7100e00a",
   "metadata": {},
   "outputs": [
    {
     "name": "stdout",
     "output_type": "stream",
     "text": [
      "CPU times: user 6.1 s, sys: 7.44 ms, total: 6.11 s\n",
      "Wall time: 6.1 s\n"
     ]
    }
   ],
   "source": [
    "%%time\n",
    "\n",
    "ids_src, ids_tgt = df.sindex.query_bulk(signatures.geometry, predicate=\"intersects\")"
   ]
  },
  {
   "cell_type": "code",
   "execution_count": 6,
   "id": "18a615e3",
   "metadata": {},
   "outputs": [],
   "source": [
    "od_matrix = pandas.DataFrame(dict(ids_src=ids_src, ids_tgt=ids_tgt))"
   ]
  },
  {
   "cell_type": "code",
   "execution_count": 7,
   "id": "1f372af7",
   "metadata": {},
   "outputs": [],
   "source": [
    "sjoined = df.set_geometry(df.centroid).sjoin(signatures[[\"signature_type\", \"geometry\"]], how=\"left\", predicate=\"within\")"
   ]
  },
  {
   "cell_type": "code",
   "execution_count": 8,
   "id": "0962697e",
   "metadata": {},
   "outputs": [],
   "source": [
    "od_matrix[\"signature_type\"] = sjoined.signature_type.iloc[ids_tgt].values"
   ]
  },
  {
   "cell_type": "code",
   "execution_count": 39,
   "id": "94370869",
   "metadata": {},
   "outputs": [
    {
     "data": {
      "text/plain": [
       "<AxesSubplot:>"
      ]
     },
     "execution_count": 39,
     "metadata": {},
     "output_type": "execute_result"
    },
    {
     "data": {
      "image/png": "[encoded data removed]",
      "text/plain": [
       "<Figure size 432x288 with 1 Axes>"
      ]
     },
     "metadata": {
      "needs_background": "light"
     },
     "output_type": "display_data"
    }
   ],
   "source": [
    "od_matrix.signature_type.value_counts().plot.bar()"
   ]
  },
  {
   "cell_type": "code",
   "execution_count": 9,
   "id": "5c34282b-1804-44e2-901c-053a22e941ec",
   "metadata": {},
   "outputs": [
    {
     "data": {
      "text/plain": [
       "7_0    86108\n",
       "0_0    41437\n",
       "3_0    10464\n",
       "1_0     7648\n",
       "2_1     2938\n",
       "5_0     2734\n",
       "2_0     1063\n",
       "6_0      242\n",
       "2_2      237\n",
       "8_0      187\n",
       "9_0       71\n",
       "9_2       25\n",
       "Name: signature_type, dtype: int64"
      ]
     },
     "execution_count": 9,
     "metadata": {},
     "output_type": "execute_result"
    }
   ],
   "source": [
    "od_matrix.signature_type.value_counts()"
   ]
  },
  {
   "cell_type": "code",
   "execution_count": 21,
   "id": "827a9313",
   "metadata": {},
   "outputs": [],
   "source": [
    "keep = []\n",
    "counts = {k:0 for k in od_matrix.signature_type.unique()}\n",
    "for i, t in od_matrix.signature_type.sample(len(od_matrix)).iteritems():\n",
    "    counts[t] += 1\n",
    "    if counts[t] < 5000:\n",
    "        keep.append(i)"
   ]
  },
  {
   "cell_type": "code",
   "execution_count": 26,
   "id": "75084073",
   "metadata": {},
   "outputs": [],
   "source": [
    "limited = od_matrix.iloc[keep]"
   ]
  },
  {
   "cell_type": "code",
   "execution_count": 40,
   "id": "d6ab9d82",
   "metadata": {},
   "outputs": [
    {
     "data": {
      "text/plain": [
       "<AxesSubplot:>"
      ]
     },
     "execution_count": 40,
     "metadata": {},
     "output_type": "execute_result"
    },
    {
     "data": {
      "image/png": "[encoded data removed]",
      "text/plain": [
       "<Figure size 432x288 with 1 Axes>"
      ]
     },
     "metadata": {
      "needs_background": "light"
     },
     "output_type": "display_data"
    }
   ],
   "source": [
    "limited.signature_type.value_counts().plot.bar()"
   ]
  },
  {
   "cell_type": "code",
   "execution_count": 28,
   "id": "7e325ffb",
   "metadata": {},
   "outputs": [],
   "source": [
    "chips = df.geometry.values[limited.ids_tgt.values].data\n",
    "sig = signatures.geometry.values[limited.ids_src.values].data\n",
    "\n",
    "# this could be parallelised\n",
    "r = [\n",
    "    pygeos.clip_by_rect(\n",
    "        g, *chip\n",
    "    ) for g, chip in zip(sig, pygeos.bounds(chips))\n",
    "]\n",
    "\n",
    "areas = pygeos.area(r)\n",
    "\n",
    "table = coo_matrix(\n",
    "    (\n",
    "        areas,\n",
    "        (limited.ids_src.values, limited.ids_tgt.values),\n",
    "    ),\n",
    "    shape=(signatures.shape[0], df.shape[0]),\n",
    "    dtype=numpy.float32,\n",
    ")\n",
    "\n",
    "table = table.todok()"
   ]
  },
  {
   "cell_type": "code",
   "execution_count": 29,
   "id": "8328e485",
   "metadata": {
    "tags": []
   },
   "outputs": [
    {
     "name": "stdout",
     "output_type": "stream",
     "text": [
      "CPU times: user 4min 7s, sys: 24.8 ms, total: 4min 7s\n",
      "Wall time: 4min 7s\n"
     ]
    }
   ],
   "source": [
    "%%time\n",
    "ests = tobler.area_weighted.area_interpolate(\n",
    "    signatures, \n",
    "    df, \n",
    "    categorical_variables=[\"signature_type\"], \n",
    "    table=table\n",
    ")"
   ]
  },
  {
   "cell_type": "code",
   "execution_count": 8,
   "id": "71795c60",
   "metadata": {},
   "outputs": [
    {
     "name": "stderr",
     "output_type": "stream",
     "text": [
      "/tmp/ipykernel_171/3044546498.py:1: UserWarning: this is an initial implementation of Parquet/Feather file support and associated metadata.  This is tracking version 0.1.0 of the metadata specification at https://github.com/geopandas/geo-arrow-spec\n",
      "\n",
      "This metadata specification does not yet make stability promises.  We do not yet recommend using this in a production setting unless you are able to rewrite your Parquet/Feather files.\n",
      "\n",
      "To further ignore this warning, you can do: \n",
      "import warnings; warnings.filterwarnings('ignore', message='.*initial implementation of Parquet.*')\n",
      "  ests.to_parquet(\"/home/jovyan/work/chips/32_nw/chip_proportions.pq\")\n"
     ]
    }
   ],
   "source": [
    "ests.to_parquet(\"/home/jovyan/work/chips/32_nw/chip_proportions.pq\")"
   ]
  },
  {
   "cell_type": "code",
   "execution_count": 36,
   "id": "daa87975",
   "metadata": {},
   "outputs": [
    {
     "name": "stderr",
     "output_type": "stream",
     "text": [
      "/tmp/ipykernel_2992/4123122304.py:1: FutureWarning: Dropping of nuisance columns in DataFrame reductions (with 'numeric_only=None') is deprecated; in a future version this will raise TypeError.  Select only valid columns before calling the reduction.\n",
      "  ests.sum().plot.bar()\n"
     ]
    },
    {
     "data": {
      "text/plain": [
       "<AxesSubplot:>"
      ]
     },
     "execution_count": 36,
     "metadata": {},
     "output_type": "execute_result"
    },
    {
     "data": {
      "image/png": "[encoded data removed]",
      "text/plain": [
       "<Figure size 432x288 with 1 Axes>"
      ]
     },
     "metadata": {
      "needs_background": "light"
     },
     "output_type": "display_data"
    }
   ],
   "source": [
    "ests.sum().plot.bar()"
   ]
  },
  {
   "cell_type": "code",
   "execution_count": 42,
   "id": "7852ba5f",
   "metadata": {},
   "outputs": [],
   "source": [
    "orig = geopandas.read_parquet(\"/home/jovyan/work/chips/32_nw/chip_proportions.pq\")"
   ]
  },
  {
   "cell_type": "code",
   "execution_count": 37,
   "id": "e697c890",
   "metadata": {},
   "outputs": [
    {
     "name": "stderr",
     "output_type": "stream",
     "text": [
      "/tmp/ipykernel_2992/2298300246.py:1: FutureWarning: Dropping of nuisance columns in DataFrame reductions (with 'numeric_only=None') is deprecated; in a future version this will raise TypeError.  Select only valid columns before calling the reduction.\n",
      "  orig.sum().plot.bar()\n"
     ]
    },
    {
     "data": {
      "text/plain": [
       "<AxesSubplot:>"
      ]
     },
     "execution_count": 37,
     "metadata": {},
     "output_type": "execute_result"
    },
    {
     "data": {
      "image/png": "[encoded data removed]",
      "text/plain": [
       "<Figure size 432x288 with 1 Axes>"
      ]
     },
     "metadata": {
      "needs_background": "light"
     },
     "output_type": "display_data"
    }
   ],
   "source": [
    "orig.sum().plot.bar()"
   ]
  },
  {
   "cell_type": "code",
   "execution_count": 48,
   "id": "6463ab20",
   "metadata": {},
   "outputs": [
    {
     "data": {
      "text/plain": [
       "<AxesSubplot:>"
      ]
     },
     "execution_count": 48,
     "metadata": {},
     "output_type": "execute_result"
    },
    {
     "data": {
      "image/png": "[encoded data removed]",
      "text/plain": [
       "<Figure size 864x864 with 2 Axes>"
      ]
     },
     "metadata": {
      "needs_background": "light"
     },
     "output_type": "display_data"
    }
   ],
   "source": [
    "orig.plot(orig.index.values, figsize=(12, 12), legend=True)"
   ]
  },
  {
   "cell_type": "code",
   "execution_count": null,
   "id": "04d1b29a-7c57-4b52-9cbe-0e413caffff1",
   "metadata": {},
   "outputs": [],
   "source": []
  }
 ],
 "metadata": {
  "kernelspec": {
   "display_name": "Python 3 (ipykernel)",
   "language": "python",
   "name": "python3"
  },
  "language_info": {
   "codemirror_mode": {
    "name": "ipython",
    "version": 3
   },
   "file_extension": ".py",
   "mimetype": "text/x-python",
   "name": "python",
   "nbconvert_exporter": "python",
   "pygments_lexer": "ipython3",
   "version": "3.9.7"
  }
 },
 "nbformat": 4,
 "nbformat_minor": 5
}
