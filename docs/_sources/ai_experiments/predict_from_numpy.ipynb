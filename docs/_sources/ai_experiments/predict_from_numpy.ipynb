{
 "cells": [
  {
   "cell_type": "markdown",
   "id": "494adebc",
   "metadata": {},
   "source": [
    "# Predict signature types from a numpy array of chips"
   ]
  },
  {
   "cell_type": "code",
   "execution_count": 1,
   "id": "0369f36c",
   "metadata": {},
   "outputs": [],
   "source": [
    "from tensorflow import keras\n",
    "import numpy"
   ]
  },
  {
   "cell_type": "code",
   "execution_count": 2,
   "id": "9888359f",
   "metadata": {},
   "outputs": [
    {
     "name": "stderr",
     "output_type": "stream",
     "text": [
      "2022-03-02 10:40:25.878532: I tensorflow/core/common_runtime/gpu/gpu_device.cc:1510] Created device /job:localhost/replica:0/task:0/device:GPU:0 with 6504 MB memory:  -> device: 0, name: Quadro RTX 4000, pci bus id: 0000:21:00.0, compute capability: 7.5\n"
     ]
    }
   ],
   "source": [
    "model = keras.models.load_model(\"../../urbangrammar_samba/spatial_signatures/ai/gb_32_shuffled/model/efficientnet_pooling_256_12.keras\")"
   ]
  },
  {
   "cell_type": "code",
   "execution_count": 3,
   "id": "5dafcc02",
   "metadata": {},
   "outputs": [],
   "source": [
    "chips = numpy.load('../../chips/32_nw.npy')"
   ]
  },
  {
   "cell_type": "code",
   "execution_count": 4,
   "id": "d3dc0e10",
   "metadata": {},
   "outputs": [
    {
     "data": {
      "text/plain": [
       "<keras.engine.functional.Functional at 0x7f53f138bf70>"
      ]
     },
     "execution_count": 4,
     "metadata": {},
     "output_type": "execute_result"
    }
   ],
   "source": [
    "model"
   ]
  },
  {
   "cell_type": "code",
   "execution_count": 5,
   "id": "4b7c0920",
   "metadata": {},
   "outputs": [],
   "source": [
    "inp = keras.layers.Input(shape=(32, 32, 3)) \n",
    "x = keras.layers.Resizing(224, 224, crop_to_aspect_ratio=True)(inp)\n",
    "x = model(x, training=False)\n",
    "model_pred = keras.Model(\n",
    "        inp,\n",
    "        x,\n",
    ")"
   ]
  },
  {
   "cell_type": "code",
   "execution_count": 6,
   "id": "353d3b8b",
   "metadata": {},
   "outputs": [],
   "source": [
    "model_pred.compile()"
   ]
  },
  {
   "cell_type": "code",
   "execution_count": 7,
   "id": "76168549",
   "metadata": {},
   "outputs": [
    {
     "name": "stderr",
     "output_type": "stream",
     "text": [
      "2022-03-02 10:40:33.482011: I tensorflow/compiler/mlir/mlir_graph_optimization_pass.cc:185] None of the MLIR Optimization Passes are enabled (registered 2)\n",
      "2022-03-02 10:40:37.014401: I tensorflow/stream_executor/cuda/cuda_dnn.cc:381] Loaded cuDNN version 8300\n"
     ]
    }
   ],
   "source": [
    "proba = model_pred.predict(chips)"
   ]
  },
  {
   "cell_type": "code",
   "execution_count": 9,
   "id": "5ebe49fd",
   "metadata": {},
   "outputs": [],
   "source": [
    "numpy.save(\"../../chips/32_nw_pred.npy\", proba)"
   ]
  },
  {
   "cell_type": "code",
   "execution_count": 71,
   "id": "96915817",
   "metadata": {},
   "outputs": [
    {
     "name": "stdout",
     "output_type": "stream",
     "text": [
      "Found 20514 images belonging to 12 classes.\n"
     ]
    }
   ],
   "source": [
    "train_datagen = keras.preprocessing.image.ImageDataGenerator()\n",
    "train_generator = train_datagen.flow_from_directory(\n",
    "    \"../chips_gb/32_shuffled_balanced_12/secret/\",\n",
    "    target_size=(224, 224),\n",
    "    batch_size=32,\n",
    "    class_mode='sparse')"
   ]
  },
  {
   "cell_type": "code",
   "execution_count": 72,
   "id": "a18b086f",
   "metadata": {},
   "outputs": [
    {
     "data": {
      "text/plain": [
       "{'0': 0,\n",
       " '1': 1,\n",
       " '10': 2,\n",
       " '11': 3,\n",
       " '2': 4,\n",
       " '3': 5,\n",
       " '4': 6,\n",
       " '5': 7,\n",
       " '6': 8,\n",
       " '7': 9,\n",
       " '8': 10,\n",
       " '9': 11}"
      ]
     },
     "execution_count": 72,
     "metadata": {},
     "output_type": "execute_result"
    }
   ],
   "source": [
    "train_generator.class_indices"
   ]
  },
  {
   "cell_type": "code",
   "execution_count": null,
   "id": "51c7530c",
   "metadata": {},
   "outputs": [],
   "source": []
  }
 ],
 "metadata": {
  "kernelspec": {
   "display_name": "Python 3 (ipykernel)",
   "language": "python",
   "name": "python3"
  },
  "language_info": {
   "codemirror_mode": {
    "name": "ipython",
    "version": 3
   },
   "file_extension": ".py",
   "mimetype": "text/x-python",
   "name": "python",
   "nbconvert_exporter": "python",
   "pygments_lexer": "ipython3",
   "version": "3.8.10"
  }
 },
 "nbformat": 4,
 "nbformat_minor": 5
}
