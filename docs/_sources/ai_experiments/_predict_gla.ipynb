{
 "cells": [
  {
   "cell_type": "code",
   "execution_count": 48,
   "id": "427c0132",
   "metadata": {},
   "outputs": [],
   "source": [
    "from tensorflow import keras\n",
    "import numpy"
   ]
  },
  {
   "cell_type": "code",
   "execution_count": 2,
   "id": "fa379a7c",
   "metadata": {},
   "outputs": [
    {
     "name": "stderr",
     "output_type": "stream",
     "text": [
      "2022-02-14 12:08:32.951081: I tensorflow/core/common_runtime/gpu/gpu_device.cc:1510] Created device /job:localhost/replica:0/task:0/device:GPU:0 with 6534 MB memory:  -> device: 0, name: Quadro RTX 4000, pci bus id: 0000:21:00.0, compute capability: 7.5\n"
     ]
    }
   ],
   "source": [
    "model = keras.models.load_model(\"../urbangrammar_samba/spatial_signatures/ai/gb_32_shuffled/model/efficientnet_pooling_256_12.keras\")"
   ]
  },
  {
   "cell_type": "code",
   "execution_count": 51,
   "id": "24195299",
   "metadata": {},
   "outputs": [],
   "source": [
    "chips = numpy.load('../chips/32_glasgow.npz.npy')"
   ]
  },
  {
   "cell_type": "code",
   "execution_count": 54,
   "id": "89f9a0f9",
   "metadata": {},
   "outputs": [
    {
     "data": {
      "text/plain": [
       "<keras.engine.functional.Functional at 0x7f5bb652ffd0>"
      ]
     },
     "execution_count": 54,
     "metadata": {},
     "output_type": "execute_result"
    }
   ],
   "source": [
    "model"
   ]
  },
  {
   "cell_type": "code",
   "execution_count": 58,
   "id": "adbf73db",
   "metadata": {},
   "outputs": [],
   "source": [
    "inp = keras.layers.Input(shape=(32, 32, 3)) \n",
    "x = keras.layers.Resizing(224, 224, crop_to_aspect_ratio=True)(inp)\n",
    "x = model(x, training=False)\n",
    "model_pred = keras.Model(\n",
    "        inp,\n",
    "        x,\n",
    ")"
   ]
  },
  {
   "cell_type": "code",
   "execution_count": 62,
   "id": "ad0ec9d0",
   "metadata": {},
   "outputs": [],
   "source": [
    "model_pred.compile()"
   ]
  },
  {
   "cell_type": "code",
   "execution_count": 63,
   "id": "f358f79d",
   "metadata": {},
   "outputs": [
    {
     "name": "stderr",
     "output_type": "stream",
     "text": [
      "2022-02-14 13:40:26.480837: I tensorflow/stream_executor/cuda/cuda_dnn.cc:381] Loaded cuDNN version 8300\n"
     ]
    }
   ],
   "source": [
    "proba = model_pred.predict(chips)"
   ]
  },
  {
   "cell_type": "code",
   "execution_count": 66,
   "id": "6a66e6c4",
   "metadata": {},
   "outputs": [],
   "source": [
    "numpy.save(\"../chips/32_glasgow_pred\", proba)"
   ]
  },
  {
   "cell_type": "code",
   "execution_count": 71,
   "id": "f475294c",
   "metadata": {},
   "outputs": [
    {
     "name": "stdout",
     "output_type": "stream",
     "text": [
      "Found 20514 images belonging to 12 classes.\n"
     ]
    }
   ],
   "source": [
    "train_datagen = keras.preprocessing.image.ImageDataGenerator()\n",
    "train_generator = train_datagen.flow_from_directory(\n",
    "    \"../chips_gb/32_shuffled_balanced_12/secret/\",\n",
    "    target_size=(224, 224),\n",
    "    batch_size=32,\n",
    "    class_mode='sparse')"
   ]
  },
  {
   "cell_type": "code",
   "execution_count": 72,
   "id": "6811ae6d",
   "metadata": {},
   "outputs": [
    {
     "data": {
      "text/plain": [
       "{'0': 0,\n",
       " '1': 1,\n",
       " '10': 2,\n",
       " '11': 3,\n",
       " '2': 4,\n",
       " '3': 5,\n",
       " '4': 6,\n",
       " '5': 7,\n",
       " '6': 8,\n",
       " '7': 9,\n",
       " '8': 10,\n",
       " '9': 11}"
      ]
     },
     "execution_count": 72,
     "metadata": {},
     "output_type": "execute_result"
    }
   ],
   "source": [
    "train_generator.class_indices"
   ]
  },
  {
   "cell_type": "code",
   "execution_count": null,
   "id": "d5e22b06",
   "metadata": {},
   "outputs": [],
   "source": []
  }
 ],
 "metadata": {
  "kernelspec": {
   "display_name": "Python 3 (ipykernel)",
   "language": "python",
   "name": "python3"
  },
  "language_info": {
   "codemirror_mode": {
    "name": "ipython",
    "version": 3
   },
   "file_extension": ".py",
   "mimetype": "text/x-python",
   "name": "python",
   "nbconvert_exporter": "python",
   "pygments_lexer": "ipython3",
   "version": "3.9.7"
  }
 },
 "nbformat": 4,
 "nbformat_minor": 5
}
