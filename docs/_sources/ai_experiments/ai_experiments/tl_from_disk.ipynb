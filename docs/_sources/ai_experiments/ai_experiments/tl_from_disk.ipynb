{
 "cells": [
  {
   "cell_type": "markdown",
   "id": "d1c968c9",
   "metadata": {},
   "source": [
    "# AI pipeline from disk\n",
    "\n",
    "This notebook contains a Keras pipeline that takes chips stored in individual folders per class and train a model on them."
   ]
  },
  {
   "cell_type": "code",
   "execution_count": 1,
   "id": "4ea0288a",
   "metadata": {},
   "outputs": [],
   "source": [
    "import os\n",
    "import glob\n",
    "import shutil\n",
    "from pathlib import Path\n",
    "import random\n",
    "import numpy\n",
    "import tensorflow as tf\n",
    "\n",
    "from model_builder import model_builder, relabel, class_merger, balancer\n",
    "import tools_keras\n",
    "from tensorflow import keras\n",
    "from tensorflow.keras import layers\n",
    "from tensorflow.keras.applications import resnet_v2, vgg19, efficientnet\n",
    "\n",
    "random.seed(42)\n",
    "numpy.random.seed(42)\n",
    "tf.random.set_seed(42)"
   ]
  },
  {
   "cell_type": "code",
   "execution_count": 2,
   "id": "f9e4cd6b",
   "metadata": {},
   "outputs": [],
   "source": [
    "specs = {\n",
    "    'chips': \"../../chips_gb/32_shuffled/\",\n",
    "    'chips_combined': \"../../chips_gb/32_shuffled_combined_12_named/\",\n",
    "    'chips_balanced': \"../../chips_gb/32_shuffled_balanced_12_named/\",\n",
    "    'folder': \"../../ai/gb_32_shuffled/\",\n",
    "}"
   ]
  },
  {
   "cell_type": "markdown",
   "id": "283d4611",
   "metadata": {},
   "source": [
    "Combine groups"
   ]
  },
  {
   "cell_type": "code",
   "execution_count": 3,
   "id": "e0db78dd",
   "metadata": {},
   "outputs": [],
   "source": [
    "group_mapping = [\n",
    "    ['9_0', '9_1', '9_2', '9_4', '9_5'],\n",
    "    ['2_0'], \n",
    "    ['2_1'], \n",
    "    ['2_2'],\n",
    "    ['1_0'], \n",
    "    ['3_0'], \n",
    "    ['5_0'], \n",
    "    ['6_0'], \n",
    "    ['8_0'],\n",
    "    ['0_0'],\n",
    "    ['4_0'],\n",
    "    ['7_0']\n",
    "]\n",
    "\n",
    "group_naming = [\n",
    "    \"Urbanity\", \n",
    "    \"Dense residential neighbourhoods\",\n",
    "    \"Connected residential neighbourhoods\",\n",
    "    \"Dense urban neighbourhoods\",\n",
    "    \"Accessible suburbia\",\n",
    "    \"Open sprawl\",\n",
    "    \"Warehouse_Park land\",\n",
    "    \"Gridded residential quarters\",\n",
    "    \"Disconnected suburbia\",\n",
    "    \"Countryside agriculture\", \n",
    "    \"Wild countryside\", \n",
    "    \"Urban buffer\"\n",
    "]"
   ]
  },
  {
   "cell_type": "code",
   "execution_count": 4,
   "id": "83d002c9",
   "metadata": {},
   "outputs": [],
   "source": [
    "for subset in [\"train\", \"validation\", \"secret\"]:\n",
    "    os.makedirs(specs['chips_combined'] + subset, exist_ok=True)\n",
    "    \n",
    "    for name, group in zip(group_naming, group_mapping):\n",
    "        os.makedirs(specs['chips_combined'] + subset + \"/\" + name.replace(\" \",\"_\").lower(), exist_ok=True)\n",
    "        \n",
    "        for g in group:\n",
    "            files = glob.glob(f\"{specs['chips']}{subset}/{g}/*.tif\")\n",
    "            for f in files:\n",
    "                f = Path(f)\n",
    "                shutil.copy(f, specs['chips_combined'] + subset + \"/\" + name.replace(\" \",\"_\").lower() + \"/\" + f.name)"
   ]
  },
  {
   "cell_type": "markdown",
   "id": "e62d2f3a",
   "metadata": {},
   "source": [
    "Balance groups"
   ]
  },
  {
   "cell_type": "code",
   "execution_count": 5,
   "id": "2b418634",
   "metadata": {},
   "outputs": [],
   "source": [
    "for subset in [\"train\", \"validation\", \"secret\"]:\n",
    "    total = 35000 if subset == \"train\" else 5000\n",
    "    os.makedirs(specs['chips_balanced'] + subset, exist_ok=True)\n",
    "    \n",
    "    for folder in glob.glob(specs[\"chips_combined\"] + f\"{subset}/*\"):\n",
    "        os.makedirs(specs['chips_balanced'] + subset + \"/\" + Path(folder).name, exist_ok=True)\n",
    "        files = glob.glob(folder + \"/*\")\n",
    "        random.shuffle(files)\n",
    "        for f in files[:total]:\n",
    "            f = Path(f)\n",
    "            shutil.copy(f, specs['chips_balanced'] + subset + \"/\" + Path(folder).name + \"/\" + f.name)"
   ]
  },
  {
   "cell_type": "code",
   "execution_count": 4,
   "id": "e71b75bf",
   "metadata": {},
   "outputs": [],
   "source": [
    "model_specs = {\n",
    "    'meta_class_map': group_mapping,\n",
    "    'meta_class_names': group_naming,\n",
    "    'meta_chip_size': 32,\n",
    "}\n"
   ]
  },
  {
   "cell_type": "code",
   "execution_count": 5,
   "id": "4d3eea63",
   "metadata": {},
   "outputs": [
    {
     "name": "stderr",
     "output_type": "stream",
     "text": [
      "2022-05-09 10:43:11.087950: I tensorflow/core/common_runtime/gpu/gpu_device.cc:1525] Created device /job:localhost/replica:0/task:0/device:GPU:0 with 6391 MB memory:  -> device: 0, name: Quadro RTX 4000, pci bus id: 0000:21:00.0, compute capability: 7.5\n"
     ]
    }
   ],
   "source": [
    "model = model_builder(\n",
    "    model_name=\"efficientnet\", \n",
    "    bridge=\"pooling\", \n",
    "    top_layer_neurons=256,\n",
    "    n_labels=12,\n",
    "    input_shape=(224, 224, 3),\n",
    ")"
   ]
  },
  {
   "cell_type": "markdown",
   "id": "a13bb61e",
   "metadata": {},
   "source": [
    "Define class weigths as an inverse of the count."
   ]
  },
  {
   "cell_type": "code",
   "execution_count": 6,
   "id": "d853f883",
   "metadata": {},
   "outputs": [
    {
     "name": "stdout",
     "output_type": "stream",
     "text": [
      "Found 262937 images belonging to 12 classes.\n"
     ]
    }
   ],
   "source": [
    "train_datagen = tf.keras.preprocessing.image.ImageDataGenerator()\n",
    "train_generator = train_datagen.flow_from_directory(\n",
    "    specs['chips_balanced'] + 'train',\n",
    "    target_size=(224, 224),\n",
    "    class_mode='sparse')"
   ]
  },
  {
   "cell_type": "code",
   "execution_count": 7,
   "id": "728d3301",
   "metadata": {},
   "outputs": [],
   "source": [
    "un, c = numpy.unique(train_generator.classes, return_counts=True)\n",
    "class_weights = dict(zip(un, c.max() / c))"
   ]
  },
  {
   "cell_type": "code",
   "execution_count": 8,
   "id": "ecd8ba5e",
   "metadata": {},
   "outputs": [
    {
     "name": "stdout",
     "output_type": "stream",
     "text": [
      "Model: \"efficientnet_pooling_256_12\"\n",
      "_________________________________________________________________\n",
      " Layer (type)                Output Shape              Param #   \n",
      "=================================================================\n",
      " input_2 (InputLayer)        [(None, 224, 224, 3)]     0         \n",
      "                                                                 \n",
      " resizing (Resizing)         (None, 224, 224, 3)       0         \n",
      "                                                                 \n",
      " efficientnetb4 (Functional)  (None, 7, 7, 1792)       17673823  \n",
      "                                                                 \n",
      " global_average_pooling2d (G  (None, 1792)             0         \n",
      " lobalAveragePooling2D)                                          \n",
      "                                                                 \n",
      " dense (Dense)               (None, 256)               459008    \n",
      "                                                                 \n",
      " dense_1 (Dense)             (None, 12)                3084      \n",
      "                                                                 \n",
      "=================================================================\n",
      "Total params: 18,135,915\n",
      "Trainable params: 462,092\n",
      "Non-trainable params: 17,673,823\n",
      "_________________________________________________________________\n",
      "None\n",
      "creating ImageDataGenerators...\n",
      "Found 262937 images belonging to 12 classes.\n",
      "Found 42251 images belonging to 12 classes.\n",
      "training...\n"
     ]
    },
    {
     "name": "stderr",
     "output_type": "stream",
     "text": [
      "/usr/local/lib/python3.8/dist-packages/keras/engine/functional.py:1410: CustomMaskWarning: Custom mask layers require a config and must override get_config. When loading, the custom mask layer must be passed to the custom_objects argument.\n",
      "  layer_config = serialize_layer_fn(layer)\n"
     ]
    },
    {
     "name": "stdout",
     "output_type": "stream",
     "text": [
      "Epoch 1/200\n"
     ]
    },
    {
     "name": "stderr",
     "output_type": "stream",
     "text": [
      "2022-05-09 10:43:38.630974: I tensorflow/stream_executor/cuda/cuda_dnn.cc:377] Loaded cuDNN version 8302\n"
     ]
    },
    {
     "name": "stdout",
     "output_type": "stream",
     "text": [
      "8217/8217 [==============================] - ETA: 0s - loss: 2.5337 - accuracy: 0.3838"
     ]
    },
    {
     "name": "stderr",
     "output_type": "stream",
     "text": [
      "2022-05-09 11:01:28.444617: W tensorflow/python/util/util.cc:368] Sets are not currently considered sequences, but this may change in the future, so consider avoiding using them.\n"
     ]
    },
    {
     "name": "stdout",
     "output_type": "stream",
     "text": [
      "INFO:tensorflow:Assets written to: ../../ai/gb_32_shuffled/model/efficientnet_pooling_256_12_best/assets\n"
     ]
    },
    {
     "name": "stderr",
     "output_type": "stream",
     "text": [
      "/usr/local/lib/python3.8/dist-packages/keras/engine/functional.py:1410: CustomMaskWarning: Custom mask layers require a config and must override get_config. When loading, the custom mask layer must be passed to the custom_objects argument.\n",
      "  layer_config = serialize_layer_fn(layer)\n",
      "/usr/local/lib/python3.8/dist-packages/keras/saving/saved_model/layer_serialization.py:112: CustomMaskWarning: Custom mask layers require a config and must override get_config. When loading, the custom mask layer must be passed to the custom_objects argument.\n",
      "  return generic_utils.serialize_keras_object(obj)\n"
     ]
    },
    {
     "name": "stdout",
     "output_type": "stream",
     "text": [
      "8217/8217 [==============================] - 1110s 134ms/step - loss: 2.5337 - accuracy: 0.3838 - val_loss: 1.6744 - val_accuracy: 0.3807\n",
      "Epoch 2/200\n",
      "8217/8217 [==============================] - ETA: 0s - loss: 2.2021 - accuracy: 0.4353INFO:tensorflow:Assets written to: ../../ai/gb_32_shuffled/model/efficientnet_pooling_256_12_best/assets\n"
     ]
    },
    {
     "name": "stderr",
     "output_type": "stream",
     "text": [
      "/usr/local/lib/python3.8/dist-packages/keras/engine/functional.py:1410: CustomMaskWarning: Custom mask layers require a config and must override get_config. When loading, the custom mask layer must be passed to the custom_objects argument.\n",
      "  layer_config = serialize_layer_fn(layer)\n",
      "/usr/local/lib/python3.8/dist-packages/keras/saving/saved_model/layer_serialization.py:112: CustomMaskWarning: Custom mask layers require a config and must override get_config. When loading, the custom mask layer must be passed to the custom_objects argument.\n",
      "  return generic_utils.serialize_keras_object(obj)\n"
     ]
    },
    {
     "name": "stdout",
     "output_type": "stream",
     "text": [
      "8217/8217 [==============================] - 1106s 135ms/step - loss: 2.2021 - accuracy: 0.4353 - val_loss: 1.6776 - val_accuracy: 0.3881\n",
      "Epoch 3/200\n",
      "8217/8217 [==============================] - ETA: 0s - loss: 2.0392 - accuracy: 0.4612INFO:tensorflow:Assets written to: ../../ai/gb_32_shuffled/model/efficientnet_pooling_256_12_best/assets\n"
     ]
    },
    {
     "name": "stderr",
     "output_type": "stream",
     "text": [
      "/usr/local/lib/python3.8/dist-packages/keras/engine/functional.py:1410: CustomMaskWarning: Custom mask layers require a config and must override get_config. When loading, the custom mask layer must be passed to the custom_objects argument.\n",
      "  layer_config = serialize_layer_fn(layer)\n",
      "/usr/local/lib/python3.8/dist-packages/keras/saving/saved_model/layer_serialization.py:112: CustomMaskWarning: Custom mask layers require a config and must override get_config. When loading, the custom mask layer must be passed to the custom_objects argument.\n",
      "  return generic_utils.serialize_keras_object(obj)\n"
     ]
    },
    {
     "name": "stdout",
     "output_type": "stream",
     "text": [
      "8217/8217 [==============================] - 1107s 135ms/step - loss: 2.0392 - accuracy: 0.4612 - val_loss: 1.6744 - val_accuracy: 0.3967\n",
      "Epoch 4/200\n",
      "8217/8217 [==============================] - ETA: 0s - loss: 1.9295 - accuracy: 0.4762INFO:tensorflow:Assets written to: ../../ai/gb_32_shuffled/model/efficientnet_pooling_256_12_best/assets\n"
     ]
    },
    {
     "name": "stderr",
     "output_type": "stream",
     "text": [
      "/usr/local/lib/python3.8/dist-packages/keras/engine/functional.py:1410: CustomMaskWarning: Custom mask layers require a config and must override get_config. When loading, the custom mask layer must be passed to the custom_objects argument.\n",
      "  layer_config = serialize_layer_fn(layer)\n",
      "/usr/local/lib/python3.8/dist-packages/keras/saving/saved_model/layer_serialization.py:112: CustomMaskWarning: Custom mask layers require a config and must override get_config. When loading, the custom mask layer must be passed to the custom_objects argument.\n",
      "  return generic_utils.serialize_keras_object(obj)\n"
     ]
    },
    {
     "name": "stdout",
     "output_type": "stream",
     "text": [
      "8217/8217 [==============================] - 1109s 135ms/step - loss: 1.9295 - accuracy: 0.4762 - val_loss: 1.6667 - val_accuracy: 0.4117\n",
      "Epoch 5/200\n",
      "8217/8217 [==============================] - ETA: 0s - loss: 1.8435 - accuracy: 0.4902INFO:tensorflow:Assets written to: ../../ai/gb_32_shuffled/model/efficientnet_pooling_256_12_best/assets\n"
     ]
    },
    {
     "name": "stderr",
     "output_type": "stream",
     "text": [
      "/usr/local/lib/python3.8/dist-packages/keras/engine/functional.py:1410: CustomMaskWarning: Custom mask layers require a config and must override get_config. When loading, the custom mask layer must be passed to the custom_objects argument.\n",
      "  layer_config = serialize_layer_fn(layer)\n",
      "/usr/local/lib/python3.8/dist-packages/keras/saving/saved_model/layer_serialization.py:112: CustomMaskWarning: Custom mask layers require a config and must override get_config. When loading, the custom mask layer must be passed to the custom_objects argument.\n",
      "  return generic_utils.serialize_keras_object(obj)\n"
     ]
    },
    {
     "name": "stdout",
     "output_type": "stream",
     "text": [
      "8217/8217 [==============================] - 1108s 135ms/step - loss: 1.8435 - accuracy: 0.4902 - val_loss: 1.6850 - val_accuracy: 0.4187\n",
      "Epoch 6/200\n",
      "8217/8217 [==============================] - 1058s 129ms/step - loss: 1.7738 - accuracy: 0.5013 - val_loss: 1.7244 - val_accuracy: 0.4138\n",
      "Epoch 00006: early stopping\n",
      "time elapsed:    6599.4s\n",
      "INFO:tensorflow:Assets written to: ../../ai/gb_32_shuffled/model/efficientnet_pooling_256_12/assets\n"
     ]
    },
    {
     "name": "stderr",
     "output_type": "stream",
     "text": [
      "/usr/local/lib/python3.8/dist-packages/keras/engine/functional.py:1410: CustomMaskWarning: Custom mask layers require a config and must override get_config. When loading, the custom mask layer must be passed to the custom_objects argument.\n",
      "  layer_config = serialize_layer_fn(layer)\n",
      "/usr/local/lib/python3.8/dist-packages/keras/saving/saved_model/layer_serialization.py:112: CustomMaskWarning: Custom mask layers require a config and must override get_config. When loading, the custom mask layer must be passed to the custom_objects argument.\n",
      "  return generic_utils.serialize_keras_object(obj)\n"
     ]
    },
    {
     "name": "stdout",
     "output_type": "stream",
     "text": [
      "creating ImageDataGenerators\n",
      "Found 262937 images belonging to 12 classes.\n",
      "Found 42251 images belonging to 12 classes.\n",
      "Found 38677 images belonging to 12 classes.\n",
      "assessing performance of train dataset\n",
      "prediction of train saved\n",
      "perf_model_accuracy for train: 0.5069313049316406\n",
      "assessing performance of val dataset\n",
      "prediction of val saved\n",
      "perf_model_accuracy for val: 0.4137890338897705\n",
      "assessing performance of secret dataset\n",
      "prediction of secret saved\n",
      "perf_model_accuracy for secret: 0.4087183475494385\n"
     ]
    }
   ],
   "source": [
    "h = tools_keras.fit_phase(\n",
    "        model,\n",
    "        specs['chips_balanced'] + 'train',\n",
    "        specs['chips_balanced'] + 'validation',\n",
    "        specs['chips_balanced'] + 'secret',\n",
    "        log_folder=specs[\"folder\"] + \"logs\",\n",
    "        pred_folder=specs[\"folder\"] + \"pred\",\n",
    "        model_folder=specs[\"folder\"] + \"model\",\n",
    "        json_folder=specs[\"folder\"] + \"json\",\n",
    "        specs=model_specs,\n",
    "        epochs=200,\n",
    "        patience=5,\n",
    "        batch_size=32,\n",
    "        verbose=True,\n",
    "        class_weight=class_weights,\n",
    "    )"
   ]
  },
  {
   "cell_type": "markdown",
   "id": "c7039d01",
   "metadata": {},
   "source": [
    "## verify results"
   ]
  },
  {
   "cell_type": "code",
   "execution_count": 11,
   "id": "58a9fd87",
   "metadata": {},
   "outputs": [],
   "source": [
    "model = keras.models.load_model(\"../../urbangrammar_samba/spatial_signatures/ai/gb_8/model/efficientnet_pooling_256_12_best\")"
   ]
  },
  {
   "cell_type": "code",
   "execution_count": 13,
   "id": "1d5a30e2",
   "metadata": {},
   "outputs": [
    {
     "name": "stdout",
     "output_type": "stream",
     "text": [
      "Found 395690 images belonging to 12 classes.\n"
     ]
    }
   ],
   "source": [
    "datagen = keras.preprocessing.image.ImageDataGenerator()\n",
    "generator = datagen.flow_from_directory(\n",
    "    \"../../chips_gb/8_shuffled_balanced_12/train/\",\n",
    "    target_size=(224, 224),\n",
    "    batch_size=32,\n",
    "    class_mode='sparse',\n",
    "    shuffle=False)"
   ]
  },
  {
   "cell_type": "code",
   "execution_count": 14,
   "id": "c8d76ab0",
   "metadata": {},
   "outputs": [],
   "source": [
    "y_pred_probs = model.predict(generator)\n",
    "y_pred = numpy.argmax(y_pred_probs, axis=1)\n",
    "y = generator.labels"
   ]
  },
  {
   "cell_type": "code",
   "execution_count": 15,
   "id": "c4bf7943",
   "metadata": {},
   "outputs": [],
   "source": [
    "def accuracy(y, y_pred):\n",
    "    a = tf.keras.metrics.Accuracy()\n",
    "    a.update_state(y, y_pred)\n",
    "    return a.result().numpy()\n",
    "\n",
    "\n",
    "def within_class_metrics(y, y_pred, y_probs):\n",
    "    top_prob = numpy.zeros(y_pred.shape)\n",
    "    wc_accuracy = numpy.zeros(y_probs.shape[1]).tolist()\n",
    "    wc_top_prob = numpy.zeros(y_probs.shape[1]).tolist()\n",
    "    for c in range(y_probs.shape[1]):\n",
    "        c_id = y == c\n",
    "        # Top prob\n",
    "        top_prob[c_id] = y_probs[c_id, c]\n",
    "        # WC accuracy\n",
    "        wc_accuracy[c] = accuracy(y[c_id], y_pred[c_id])\n",
    "        # WC top prob\n",
    "        wc_top_prob[c] = y_probs[c_id, c].mean()\n",
    "    top_prob = top_prob.mean()\n",
    "    return top_prob, wc_accuracy, wc_top_prob"
   ]
  },
  {
   "cell_type": "code",
   "execution_count": 16,
   "id": "f8c0bd01",
   "metadata": {},
   "outputs": [
    {
     "data": {
      "text/plain": [
       "0.2887412"
      ]
     },
     "execution_count": 16,
     "metadata": {},
     "output_type": "execute_result"
    }
   ],
   "source": [
    "accuracy(y, y_pred)"
   ]
  },
  {
   "cell_type": "code",
   "execution_count": 12,
   "id": "7a915f8a",
   "metadata": {},
   "outputs": [
    {
     "data": {
      "text/plain": [
       "[0.75011426,\n",
       " 0.5083132,\n",
       " 0.5638286,\n",
       " 0.44788584,\n",
       " 0.4550801,\n",
       " 0.39879662,\n",
       " 0.70287836,\n",
       " 0.5022857,\n",
       " 0.25628573,\n",
       " 0.8010856,\n",
       " 0.43285716,\n",
       " 0.75637144]"
      ]
     },
     "execution_count": 12,
     "metadata": {},
     "output_type": "execute_result"
    }
   ],
   "source": [
    "within_class_metrics(y, y_pred, y_pred_probs)[1]"
   ]
  }
 ],
 "metadata": {
  "kernelspec": {
   "display_name": "Python 3 (ipykernel)",
   "language": "python",
   "name": "python3"
  },
  "language_info": {
   "codemirror_mode": {
    "name": "ipython",
    "version": 3
   },
   "file_extension": ".py",
   "mimetype": "text/x-python",
   "name": "python",
   "nbconvert_exporter": "python",
   "pygments_lexer": "ipython3",
   "version": "3.8.10"
  }
 },
 "nbformat": 4,
 "nbformat_minor": 5
}
