{
 "cells": [
  {
   "cell_type": "markdown",
   "id": "98b1afc8",
   "metadata": {},
   "source": [
    "# Predict signature types from a numpy array of chips"
   ]
  },
  {
   "cell_type": "code",
   "execution_count": 1,
   "id": "c421bdf2",
   "metadata": {},
   "outputs": [],
   "source": [
    "from tensorflow import keras\n",
    "import tensorflow as tf\n",
    "import numpy"
   ]
  },
  {
   "cell_type": "code",
   "execution_count": 2,
   "id": "bc4c0e11",
   "metadata": {},
   "outputs": [],
   "source": [
    "chips = numpy.load('../../chips/32_nw.npy')"
   ]
  },
  {
   "cell_type": "code",
   "execution_count": 3,
   "id": "dfe54f7e",
   "metadata": {},
   "outputs": [
    {
     "name": "stderr",
     "output_type": "stream",
     "text": [
      "2022-03-24 14:21:22.658219: I tensorflow/core/common_runtime/gpu/gpu_device.cc:1525] Created device /job:localhost/replica:0/task:0/device:GPU:0 with 6460 MB memory:  -> device: 0, name: Quadro RTX 4000, pci bus id: 0000:21:00.0, compute capability: 7.5\n"
     ]
    }
   ],
   "source": [
    "model = keras.models.load_model(\"../../urbangrammar_samba/spatial_signatures/ai/gb_32_balanced_named_v2/model/efficientnet_pooling_256_12_best\")"
   ]
  },
  {
   "cell_type": "code",
   "execution_count": 4,
   "id": "26e40f9e",
   "metadata": {},
   "outputs": [],
   "source": [
    "inp = keras.layers.Input(shape=(32, 32, 3)) \n",
    "x = keras.layers.Resizing(224, 224, crop_to_aspect_ratio=True)(inp)\n",
    "x = model(x, training=False)\n",
    "model_pred = keras.Model(\n",
    "        inp,\n",
    "        x,\n",
    ")"
   ]
  },
  {
   "cell_type": "code",
   "execution_count": 5,
   "id": "e9443f01",
   "metadata": {},
   "outputs": [],
   "source": [
    "model_pred.compile()"
   ]
  },
  {
   "cell_type": "code",
   "execution_count": 6,
   "id": "c54542da",
   "metadata": {},
   "outputs": [
    {
     "name": "stderr",
     "output_type": "stream",
     "text": [
      "2022-03-24 14:21:49.000904: I tensorflow/stream_executor/cuda/cuda_dnn.cc:377] Loaded cuDNN version 8302\n"
     ]
    }
   ],
   "source": [
    "proba = model_pred.predict(chips)"
   ]
  },
  {
   "cell_type": "code",
   "execution_count": null,
   "id": "79ab1af7",
   "metadata": {},
   "outputs": [],
   "source": [
    "numpy.save(\"../../chips/32_nw_pred.npy\", proba)"
   ]
  },
  {
   "cell_type": "code",
   "execution_count": 4,
   "id": "ca46e2ce",
   "metadata": {},
   "outputs": [
    {
     "name": "stderr",
     "output_type": "stream",
     "text": [
      "2022-03-29 12:14:10.385140: I tensorflow/core/common_runtime/gpu/gpu_device.cc:1525] Created device /job:localhost/replica:0/task:0/device:GPU:0 with 6456 MB memory:  -> device: 0, name: Quadro RTX 4000, pci bus id: 0000:21:00.0, compute capability: 7.5\n"
     ]
    }
   ],
   "source": [
    "model = keras.models.load_model(\"../../urbangrammar_samba/spatial_signatures/ai/gb_32_multiclass/model/model_best\")"
   ]
  },
  {
   "cell_type": "code",
   "execution_count": 6,
   "id": "cdd388e5",
   "metadata": {},
   "outputs": [
    {
     "name": "stderr",
     "output_type": "stream",
     "text": [
      "2022-03-29 12:14:38.568187: I tensorflow/stream_executor/cuda/cuda_dnn.cc:377] Loaded cuDNN version 8302\n"
     ]
    }
   ],
   "source": [
    "proba = model.predict(chips)"
   ]
  },
  {
   "cell_type": "code",
   "execution_count": 7,
   "id": "594dda27",
   "metadata": {},
   "outputs": [],
   "source": [
    "numpy.save(\"../../chips/32_nw_pred_multiclass.npy\", proba)"
   ]
  },
  {
   "cell_type": "markdown",
   "id": "f79891bb",
   "metadata": {},
   "source": [
    "## 64 MOR"
   ]
  },
  {
   "cell_type": "code",
   "execution_count": 2,
   "id": "ae581adc",
   "metadata": {},
   "outputs": [],
   "source": [
    "chips = numpy.load('../../chips/64_nw.npy')"
   ]
  },
  {
   "cell_type": "code",
   "execution_count": 4,
   "id": "acf2b4bf",
   "metadata": {},
   "outputs": [
    {
     "name": "stderr",
     "output_type": "stream",
     "text": [
      "2022-03-31 08:42:36.760482: I tensorflow/core/common_runtime/gpu/gpu_device.cc:1525] Created device /job:localhost/replica:0/task:0/device:GPU:0 with 6451 MB memory:  -> device: 0, name: Quadro RTX 4000, pci bus id: 0000:21:00.0, compute capability: 7.5\n"
     ]
    }
   ],
   "source": [
    "model = keras.models.load_model(\"../../urbangrammar_samba/spatial_signatures/ai/gb_64_multiclass/model/model_3_best\")"
   ]
  },
  {
   "cell_type": "code",
   "execution_count": 5,
   "id": "b3038e9d",
   "metadata": {},
   "outputs": [
    {
     "name": "stderr",
     "output_type": "stream",
     "text": [
      "2022-03-31 08:42:57.412684: I tensorflow/stream_executor/cuda/cuda_dnn.cc:377] Loaded cuDNN version 8302\n"
     ]
    }
   ],
   "source": [
    "proba = model.predict(chips)"
   ]
  },
  {
   "cell_type": "code",
   "execution_count": 6,
   "id": "704b6ccb",
   "metadata": {},
   "outputs": [],
   "source": [
    "numpy.save(\"../../chips/64_nw_pred_multiclass.npy\", proba)"
   ]
  },
  {
   "cell_type": "code",
   "execution_count": null,
   "id": "2c33966b",
   "metadata": {},
   "outputs": [],
   "source": []
  }
 ],
 "metadata": {
  "kernelspec": {
   "display_name": "Python 3 (ipykernel)",
   "language": "python",
   "name": "python3"
  },
  "language_info": {
   "codemirror_mode": {
    "name": "ipython",
    "version": 3
   },
   "file_extension": ".py",
   "mimetype": "text/x-python",
   "name": "python",
   "nbconvert_exporter": "python",
   "pygments_lexer": "ipython3",
   "version": "3.8.10"
  }
 },
 "nbformat": 4,
 "nbformat_minor": 5
}
