{
 "cells": [
  {
   "cell_type": "code",
   "execution_count": 1,
   "id": "5ccc3bf3",
   "metadata": {},
   "outputs": [],
   "source": [
    "import tensorflow as tf\n",
    "from tensorflow import keras\n",
    "import numpy as np\n",
    "from tqdm import tqdm\n",
    "\n",
    "import tools_keras"
   ]
  },
  {
   "cell_type": "code",
   "execution_count": 21,
   "id": "1e44243a",
   "metadata": {},
   "outputs": [],
   "source": [
    "model = keras.Sequential(name=\"test_test_16_16\")\n",
    "model.add(keras.layers.Dense(16, input_shape=(224, 224, 3)))\n",
    "model.add(keras.layers.GlobalAveragePooling2D())\n",
    "model.add(keras.layers.Dense(16, activation=\"softmax\"))\n",
    "model.compile(\n",
    "        optimizer='adam',\n",
    "        loss='sparse_categorical_crossentropy',\n",
    "        metrics=[\"accuracy\"],\n",
    "    )"
   ]
  },
  {
   "cell_type": "code",
   "execution_count": 22,
   "id": "5a58ef83",
   "metadata": {},
   "outputs": [
    {
     "name": "stdout",
     "output_type": "stream",
     "text": [
      "Model: \"test_test_16_16\"\n",
      "_________________________________________________________________\n",
      "Layer (type)                 Output Shape              Param #   \n",
      "=================================================================\n",
      "dense_9 (Dense)              (None, 224, 224, 16)      64        \n",
      "_________________________________________________________________\n",
      "global_average_pooling2d_1 ( (None, 16)                0         \n",
      "_________________________________________________________________\n",
      "dense_10 (Dense)             (None, 16)                272       \n",
      "=================================================================\n",
      "Total params: 336\n",
      "Trainable params: 336\n",
      "Non-trainable params: 0\n",
      "_________________________________________________________________\n"
     ]
    }
   ],
   "source": [
    "model.summary()"
   ]
  },
  {
   "cell_type": "code",
   "execution_count": 23,
   "id": "fa5b4a7d",
   "metadata": {},
   "outputs": [],
   "source": [
    "specs = {\n",
    "    'chips': \"../chips_gb/32/\",\n",
    "    'folder': \"../urbangrammar_samba/spatial_signatures/ai/nw_32/\",\n",
    "}"
   ]
  },
  {
   "cell_type": "code",
   "execution_count": 24,
   "id": "a24aa1f2",
   "metadata": {},
   "outputs": [
    {
     "name": "stdout",
     "output_type": "stream",
     "text": [
      "Found 447661 images belonging to 16 classes.\n",
      "Found 95928 images belonging to 16 classes.\n",
      "Found 95930 images belonging to 16 classes.\n"
     ]
    }
   ],
   "source": [
    "train_datagen = tf.keras.preprocessing.image.ImageDataGenerator()\n",
    "train_generator = train_datagen.flow_from_directory(\n",
    "        specs['chips'] + 'train',\n",
    "        target_size=(224, 224),\n",
    "        batch_size=32,\n",
    "        class_mode='sparse')\n",
    "\n",
    "validation_datagen = tf.keras.preprocessing.image.ImageDataGenerator()\n",
    "validation_generator = validation_datagen.flow_from_directory(\n",
    "        specs['chips'] + 'validation',\n",
    "        target_size=(224, 224),\n",
    "        batch_size=32,\n",
    "        class_mode='sparse')\n",
    "\n",
    "secret_datagen = tf.keras.preprocessing.image.ImageDataGenerator()\n",
    "secret_generator = secret_datagen.flow_from_directory(\n",
    "        specs['chips'] + 'secret',\n",
    "        target_size=(224, 224),\n",
    "        batch_size=32,\n",
    "        class_mode='sparse')"
   ]
  },
  {
   "cell_type": "code",
   "execution_count": 25,
   "id": "76470b60",
   "metadata": {},
   "outputs": [],
   "source": [
    "model_specs = {\n",
    "    'meta_class_map': {},\n",
    "    'meta_class_names': [],\n",
    "    'meta_chip_size': 32,\n",
    "}\n"
   ]
  },
  {
   "cell_type": "code",
   "execution_count": 26,
   "id": "194595e6",
   "metadata": {},
   "outputs": [
    {
     "name": "stdout",
     "output_type": "stream",
     "text": [
      "Model: \"test_test_16_16\"\n",
      "_________________________________________________________________\n",
      "Layer (type)                 Output Shape              Param #   \n",
      "=================================================================\n",
      "dense_9 (Dense)              (None, 224, 224, 16)      64        \n",
      "_________________________________________________________________\n",
      "global_average_pooling2d_1 ( (None, 16)                0         \n",
      "_________________________________________________________________\n",
      "dense_10 (Dense)             (None, 16)                272       \n",
      "=================================================================\n",
      "Total params: 336\n",
      "Trainable params: 336\n",
      "Non-trainable params: 0\n",
      "_________________________________________________________________\n",
      "None\n"
     ]
    },
    {
     "name": "stderr",
     "output_type": "stream",
     "text": [
      "2022-01-28 14:55:27.589764: I tensorflow/core/profiler/lib/profiler_session.cc:131] Profiler session initializing.\n",
      "2022-01-28 14:55:27.589797: I tensorflow/core/profiler/lib/profiler_session.cc:146] Profiler session started.\n",
      "2022-01-28 14:55:27.697508: I tensorflow/core/profiler/lib/profiler_session.cc:164] Profiler session tear down.\n",
      "2022-01-28 14:55:27.697635: I tensorflow/core/profiler/internal/gpu/cupti_tracer.cc:1749] CUPTI activity buffer flushed\n"
     ]
    },
    {
     "name": "stdout",
     "output_type": "stream",
     "text": [
      "    2/13990 [..............................] - ETA: 32:25 - loss: 113.0046 - accuracy: 0.0469 "
     ]
    },
    {
     "name": "stderr",
     "output_type": "stream",
     "text": [
      "2022-01-28 14:55:28.194127: I tensorflow/core/profiler/lib/profiler_session.cc:131] Profiler session initializing.\n",
      "2022-01-28 14:55:28.194162: I tensorflow/core/profiler/lib/profiler_session.cc:146] Profiler session started.\n",
      "2022-01-28 14:55:28.347625: I tensorflow/core/profiler/lib/profiler_session.cc:66] Profiler session collecting data.\n",
      "2022-01-28 14:55:28.348099: I tensorflow/core/profiler/internal/gpu/cupti_tracer.cc:1749] CUPTI activity buffer flushed\n",
      "2022-01-28 14:55:28.359938: I tensorflow/core/profiler/internal/gpu/cupti_collector.cc:673]  GpuTracer has collected 87 callback api events and 84 activity events. \n",
      "2022-01-28 14:55:28.361751: I tensorflow/core/profiler/lib/profiler_session.cc:164] Profiler session tear down.\n"
     ]
    },
    {
     "name": "stdout",
     "output_type": "stream",
     "text": [
      "    4/13990 [..............................] - ETA: 34:48 - loss: 104.3400 - accuracy: 0.0547"
     ]
    },
    {
     "name": "stderr",
     "output_type": "stream",
     "text": [
      "2022-01-28 14:55:28.442629: I tensorflow/core/profiler/rpc/client/save_profile.cc:136] Creating directory: ../urbangrammar_samba/spatial_signatures/ai/nw_32/logs/test_test_16_16/train/plugins/profile/2022_01_28_14_55_28\n",
      "\n",
      "2022-01-28 14:55:28.465018: I tensorflow/core/profiler/rpc/client/save_profile.cc:142] Dumped gzipped tool data for trace.json.gz to ../urbangrammar_samba/spatial_signatures/ai/nw_32/logs/test_test_16_16/train/plugins/profile/2022_01_28_14_55_28/85c0885614ed.trace.json.gz\n",
      "2022-01-28 14:55:28.476060: I tensorflow/core/profiler/rpc/client/save_profile.cc:136] Creating directory: ../urbangrammar_samba/spatial_signatures/ai/nw_32/logs/test_test_16_16/train/plugins/profile/2022_01_28_14_55_28\n",
      "\n",
      "2022-01-28 14:55:28.495208: I tensorflow/core/profiler/rpc/client/save_profile.cc:142] Dumped gzipped tool data for memory_profile.json.gz to ../urbangrammar_samba/spatial_signatures/ai/nw_32/logs/test_test_16_16/train/plugins/profile/2022_01_28_14_55_28/85c0885614ed.memory_profile.json.gz\n",
      "2022-01-28 14:55:28.549720: I tensorflow/core/profiler/rpc/client/capture_profile.cc:251] Creating directory: ../urbangrammar_samba/spatial_signatures/ai/nw_32/logs/test_test_16_16/train/plugins/profile/2022_01_28_14_55_28\n",
      "Dumped tool data for xplane.pb to ../urbangrammar_samba/spatial_signatures/ai/nw_32/logs/test_test_16_16/train/plugins/profile/2022_01_28_14_55_28/85c0885614ed.xplane.pb\n",
      "Dumped tool data for overview_page.pb to ../urbangrammar_samba/spatial_signatures/ai/nw_32/logs/test_test_16_16/train/plugins/profile/2022_01_28_14_55_28/85c0885614ed.overview_page.pb\n",
      "Dumped tool data for input_pipeline.pb to ../urbangrammar_samba/spatial_signatures/ai/nw_32/logs/test_test_16_16/train/plugins/profile/2022_01_28_14_55_28/85c0885614ed.input_pipeline.pb\n",
      "Dumped tool data for tensorflow_stats.pb to ../urbangrammar_samba/spatial_signatures/ai/nw_32/logs/test_test_16_16/train/plugins/profile/2022_01_28_14_55_28/85c0885614ed.tensorflow_stats.pb\n",
      "Dumped tool data for kernel_stats.pb to ../urbangrammar_samba/spatial_signatures/ai/nw_32/logs/test_test_16_16/train/plugins/profile/2022_01_28_14_55_28/85c0885614ed.kernel_stats.pb\n",
      "\n"
     ]
    },
    {
     "name": "stdout",
     "output_type": "stream",
     "text": [
      "13990/13990 [==============================] - 596s 43ms/step - loss: 2.6880 - accuracy: 0.1818 - val_loss: 2.2570 - val_accuracy: 0.2110\n",
      "time elapsed:     595.8s\n",
      "INFO:tensorflow:Assets written to: ../urbangrammar_samba/spatial_signatures/ai/nw_32/model/test_test_16_16/assets\n"
     ]
    },
    {
     "name": "stderr",
     "output_type": "stream",
     "text": [
      "/workspace/work/signature_ai/tools_keras.py:238: RuntimeWarning: Mean of empty slice.\n",
      "  wc_top_prob[c] = y_probs[c_id, c].mean()\n",
      "/usr/local/lib/python3.8/dist-packages/numpy/core/_methods.py:170: RuntimeWarning: invalid value encountered in true_divide\n",
      "  ret = ret.dtype.type(ret / rcount)\n"
     ]
    },
    {
     "name": "stdout",
     "output_type": "stream",
     "text": [
      "perf_model_accuracy for train: 0.0774604007601738\n",
      "perf_model_accuracy for val: 0.07851722091436386\n",
      "perf_model_accuracy for secret: 0.07536745816469193\n",
      "CPU times: user 25min 6s, sys: 48.1 s, total: 25min 54s\n",
      "Wall time: 20min 16s\n"
     ]
    }
   ],
   "source": [
    "%%time\n",
    "h = tools_keras.fit_phase(\n",
    "        model,\n",
    "        train_generator,\n",
    "        validation_generator,\n",
    "        secret_generator,\n",
    "        log_folder=specs[\"folder\"] + \"logs\",\n",
    "        pred_folder=specs[\"folder\"] + \"pred\",\n",
    "        model_folder=specs[\"folder\"] + \"model\",\n",
    "        json_folder=specs[\"folder\"] + \"json\",\n",
    "        specs=model_specs,\n",
    "        epochs=1,\n",
    "        patience=5,\n",
    "        verbose=True,\n",
    "\n",
    "    )"
   ]
  },
  {
   "cell_type": "code",
   "execution_count": 6,
   "id": "e1df63fb",
   "metadata": {},
   "outputs": [],
   "source": [
    "train_dataset = train_generator\n",
    "validation_dataset = validation_generator\n",
    "secret_dataset = secret_generator\n",
    "verbose = True\n",
    "\n",
    "specs = {\n",
    "    'meta_class_map': {},\n",
    "    'meta_class_names': [],\n",
    "    'meta_chip_size': 32,\n",
    "}\n"
   ]
  },
  {
   "cell_type": "code",
   "execution_count": 7,
   "id": "e855e741",
   "metadata": {},
   "outputs": [],
   "source": [
    "nn, bridge, toplayer, n_class = model.name.split(\"_\")"
   ]
  },
  {
   "cell_type": "code",
   "execution_count": 8,
   "id": "ef764aa0",
   "metadata": {},
   "outputs": [],
   "source": [
    "meta = {\n",
    "        # Metadata about run\n",
    "        \"meta_n_class\": n_class,\n",
    "        \"meta_class_map\": specs[\"meta_class_map\"],\n",
    "        \"meta_class_names\": specs[\"meta_class_names\"],\n",
    "        \"meta_chip_size\": specs[\"meta_chip_size\"],\n",
    "        # Model\n",
    "        \"model_name\": model.name,\n",
    "        \"model_bridge\": bridge,\n",
    "        \"model_toplayer\": toplayer,\n",
    "    }"
   ]
  },
  {
   "cell_type": "code",
   "execution_count": 9,
   "id": "b5271a57",
   "metadata": {},
   "outputs": [],
   "source": [
    "subsets = {\n",
    "        \"train\": train_dataset,\n",
    "        \"val\": validation_dataset,\n",
    "        \"secret\": secret_dataset,\n",
    "    }"
   ]
  },
  {
   "cell_type": "code",
   "execution_count": 10,
   "id": "b8d4a09e",
   "metadata": {},
   "outputs": [],
   "source": [
    "# for subset in subsets:\n",
    "dataset = subsets[\"train\"]"
   ]
  },
  {
   "cell_type": "code",
   "execution_count": 11,
   "id": "6acead24",
   "metadata": {},
   "outputs": [
    {
     "name": "stderr",
     "output_type": "stream",
     "text": [
      "2022-01-28 12:15:48.246528: I tensorflow/compiler/mlir/mlir_graph_optimization_pass.cc:185] None of the MLIR Optimization Passes are enabled (registered 2)\n",
      "2022-01-28 12:15:49.047147: I tensorflow/stream_executor/cuda/cuda_dnn.cc:381] Loaded cuDNN version 8300\n"
     ]
    },
    {
     "name": "stdout",
     "output_type": "stream",
     "text": [
      "CPU times: user 31min 1s, sys: 12.9 s, total: 31min 13s\n",
      "Wall time: 22min 15s\n"
     ]
    }
   ],
   "source": [
    "%%time\n",
    "y_pred_probs = model.predict(dataset)"
   ]
  },
  {
   "cell_type": "code",
   "execution_count": 16,
   "id": "1fb74e61",
   "metadata": {},
   "outputs": [],
   "source": [
    "y_pred = np.argmax(y_pred_probs, axis=1)"
   ]
  },
  {
   "cell_type": "code",
   "execution_count": 22,
   "id": "164b3edb",
   "metadata": {},
   "outputs": [],
   "source": [
    "y = dataset.labels"
   ]
  },
  {
   "cell_type": "code",
   "execution_count": 23,
   "id": "9d957bfd",
   "metadata": {},
   "outputs": [],
   "source": [
    "top_prob = np.zeros(y_pred.shape)"
   ]
  },
  {
   "cell_type": "code",
   "execution_count": 25,
   "id": "98fb6c67",
   "metadata": {},
   "outputs": [],
   "source": [
    "y_probs = y_pred_probs\n",
    "wc_accuracy = np.zeros(y_probs.shape[1]).tolist()"
   ]
  },
  {
   "cell_type": "code",
   "execution_count": 26,
   "id": "f49bf46b",
   "metadata": {},
   "outputs": [],
   "source": [
    "wc_top_prob = np.zeros(y_probs.shape[1]).tolist()"
   ]
  },
  {
   "cell_type": "code",
   "execution_count": 27,
   "id": "05022420",
   "metadata": {},
   "outputs": [],
   "source": [
    "def confusion_matrix(y, y_pred, n_classes):\n",
    "    cm = np.zeros((n_classes, n_classes), dtype=int)\n",
    "    pairs = np.vstack((y, y_pred)).T\n",
    "    for c1 in range(n_classes):\n",
    "        for c2 in range(n_classes):\n",
    "            cm[c1, c2] = ((pairs[:, 0] == c1) * (pairs[:, 1] == c2)).sum()\n",
    "    return cm\n",
    "\n",
    "\n",
    "def accuracy(y, y_pred):\n",
    "    a = tf.keras.metrics.Accuracy()\n",
    "    a.update_state(y, y_pred)\n",
    "    return a.result().numpy()"
   ]
  },
  {
   "cell_type": "code",
   "execution_count": 32,
   "id": "72093cbe",
   "metadata": {},
   "outputs": [
    {
     "name": "stderr",
     "output_type": "stream",
     "text": [
      "\n",
      "  0%|                                                                                                                                        | 0/16 [00:00<?, ?it/s]\u001b[A\n",
      "100%|███████████████████████████████████████████████████████████████████████████████████████████████████████████████████████████████| 16/16 [00:00<00:00, 98.99it/s]\u001b[A\n"
     ]
    }
   ],
   "source": [
    "for c in tqdm(range(y_probs.shape[1])):\n",
    "    c_id = y_pred == c\n",
    "    # Top prob\n",
    "    top_prob[c_id] = y_probs[c_id, c]\n",
    "    # WC accuracy\n",
    "    wc_accuracy[c] = accuracy(y[c_id], y_pred[c_id])\n",
    "    # WC top prob\n",
    "    wc_top_prob[c] = y_probs[c_id, c].mean()"
   ]
  },
  {
   "cell_type": "code",
   "execution_count": 33,
   "id": "ea6d556c",
   "metadata": {},
   "outputs": [],
   "source": [
    "top_prob = top_prob.mean()"
   ]
  },
  {
   "cell_type": "code",
   "execution_count": 37,
   "id": "ffc4121d",
   "metadata": {},
   "outputs": [
    {
     "data": {
      "text/plain": [
       "[0.07826221,\n",
       " 0.07973764,\n",
       " 0.075898536,\n",
       " 0.07772261,\n",
       " 0.08122744,\n",
       " 0.07927749,\n",
       " 0.08313766,\n",
       " 0.07103754,\n",
       " 0.0780687,\n",
       " 0.0761002,\n",
       " 0.07848574,\n",
       " 0.07765288,\n",
       " 0.0028116214,\n",
       " 0.04982606,\n",
       " 0.0034188034,\n",
       " 0.005291005]"
      ]
     },
     "execution_count": 37,
     "metadata": {},
     "output_type": "execute_result"
    }
   ],
   "source": [
    "wc_accuracy"
   ]
  },
  {
   "cell_type": "code",
   "execution_count": 39,
   "id": "08acb0e8",
   "metadata": {},
   "outputs": [],
   "source": [
    "meta[f\"perf_model_accuracy_\"] = accuracy(y, y_pred)"
   ]
  },
  {
   "cell_type": "code",
   "execution_count": 40,
   "id": "67f02037",
   "metadata": {},
   "outputs": [
    {
     "data": {
      "text/plain": [
       "array([[7103, 1480, 2684, 1893,  628, 3649, 2146,  593, 3042,  585, 5142,\n",
       "        4534,   78, 1368,   54,   21],\n",
       "       [7111, 1471, 2710, 1866,  565, 3641, 1994,  625, 3043,  596, 5226,\n",
       "        4588,  104, 1405,   40,   15],\n",
       "       [7164, 1438, 2627, 1824,  578, 3617, 2193,  608, 3142,  554, 5181,\n",
       "        4516,   90, 1403,   50,   15],\n",
       "       [7032, 1491, 2788, 1847,  594, 3661, 2090,  582, 3084,  575, 5205,\n",
       "        4480,   82, 1422,   52,   15],\n",
       "       [7121, 1440, 2608, 1848,  630, 3687, 2113,  577, 3084,  567, 5212,\n",
       "        4541,   91, 1433,   34,   14],\n",
       "       [7122, 1379, 2708, 1877,  604, 3678, 2161,  581, 3087,  578, 5121,\n",
       "        4608,   88, 1336,   56,   16],\n",
       "       [7217, 1442, 2726, 1827,  588, 3537, 2266,  609, 3075,  585, 5224,\n",
       "        4453,   66, 1331,   36,   18],\n",
       "       [7114, 1418, 2715, 1825,  609, 3677, 2165,  545, 3043,  561, 5221,\n",
       "        4539,   84, 1425,   49,   10],\n",
       "       [7009, 1371, 2708, 1884,  646, 3666, 2068,  589, 3077,  596, 5284,\n",
       "        4592,   79, 1371,   48,   12],\n",
       "       [7144, 1443, 2761, 1848,  620, 3664, 2044,  591, 3049,  562, 5112,\n",
       "        4623,   83, 1396,   46,   14],\n",
       "       [7007, 1481, 2668, 1840,  623, 3574, 2167,  636, 3095,  606, 5208,\n",
       "        4571,   89, 1382,   40,   13],\n",
       "       [7036, 1474, 2728, 1854,  610, 3586, 2186,  658, 3069,  551, 5183,\n",
       "        4518,   79, 1419,   38,   11],\n",
       "       [ 452,   91,  177,  113,   38,  224,  138,   36,  204,   44,  327,\n",
       "         310,    3,   75,    2,    0],\n",
       "       [4311,  895, 1717, 1200,  350, 2151, 1293,  382, 1914,  347, 3176,\n",
       "        2796,   45,  888,   37,   13],\n",
       "       [ 730,  122,  266,  197,   68,  348,  211,   49,  372,   68,  462,\n",
       "         457,    4,  152,    2,    1],\n",
       "       [  86,   12,   21,   21,    5,   34,   21,   11,   34,   10,   72,\n",
       "          56,    2,   16,    1,    1]])"
      ]
     },
     "execution_count": 40,
     "metadata": {},
     "output_type": "execute_result"
    }
   ],
   "source": [
    "confusion_matrix(y, y_pred, int(n_class))"
   ]
  },
  {
   "cell_type": "code",
   "execution_count": null,
   "id": "4f2efa03",
   "metadata": {},
   "outputs": [],
   "source": []
  }
 ],
 "metadata": {
  "kernelspec": {
   "display_name": "Python 3 (ipykernel)",
   "language": "python",
   "name": "python3"
  },
  "language_info": {
   "codemirror_mode": {
    "name": "ipython",
    "version": 3
   },
   "file_extension": ".py",
   "mimetype": "text/x-python",
   "name": "python",
   "nbconvert_exporter": "python",
   "pygments_lexer": "ipython3",
   "version": "3.8.10"
  }
 },
 "nbformat": 4,
 "nbformat_minor": 5
}
